{
  "cells": [
    {
      "cell_type": "markdown",
      "metadata": {
        "id": "X6AXykTex_Gj"
      },
      "source": [
        "# Cloud ETL - Cervical Cancer Risk"
      ]
    },
    {
      "cell_type": "code",
      "execution_count": 2,
      "metadata": {
        "colab": {
          "base_uri": "https://localhost:8080/"
        },
        "id": "MijGLJHMcZus",
        "outputId": "15690923-cbb6-48c7-c606-4d645df51d7d"
      },
      "outputs": [
        {
          "name": "stdout",
          "output_type": "stream",
          "text": [
            "\r0% [Working]\r            \rGet:1 http://security.ubuntu.com/ubuntu bionic-security InRelease [88.7 kB]\n",
            "Get:2 https://cloud.r-project.org/bin/linux/ubuntu bionic-cran40/ InRelease [3,626 B]\n",
            "Ign:3 https://developer.download.nvidia.com/compute/machine-learning/repos/ubuntu1804/x86_64  InRelease\n",
            "Hit:4 https://developer.download.nvidia.com/compute/cuda/repos/ubuntu1804/x86_64  InRelease\n",
            "Hit:5 https://developer.download.nvidia.com/compute/machine-learning/repos/ubuntu1804/x86_64  Release\n",
            "Get:6 http://ppa.launchpad.net/c2d4u.team/c2d4u4.0+/ubuntu bionic InRelease [15.9 kB]\n",
            "Hit:7 http://archive.ubuntu.com/ubuntu bionic InRelease\n",
            "Get:8 http://archive.ubuntu.com/ubuntu bionic-updates InRelease [88.7 kB]\n",
            "Hit:9 http://ppa.launchpad.net/cran/libgit2/ubuntu bionic InRelease\n",
            "Hit:10 http://ppa.launchpad.net/deadsnakes/ppa/ubuntu bionic InRelease\n",
            "Get:12 http://archive.ubuntu.com/ubuntu bionic-backports InRelease [83.3 kB]\n",
            "Hit:13 http://ppa.launchpad.net/graphics-drivers/ppa/ubuntu bionic InRelease\n",
            "Get:14 http://security.ubuntu.com/ubuntu bionic-security/universe amd64 Packages [1,545 kB]\n",
            "Get:15 http://security.ubuntu.com/ubuntu bionic-security/main amd64 Packages [2,990 kB]\n",
            "Get:16 http://ppa.launchpad.net/c2d4u.team/c2d4u4.0+/ubuntu bionic/main Sources [2,120 kB]\n",
            "Get:17 http://archive.ubuntu.com/ubuntu bionic-updates/main amd64 Packages [3,422 kB]\n",
            "Get:18 http://ppa.launchpad.net/c2d4u.team/c2d4u4.0+/ubuntu bionic/main amd64 Packages [1,083 kB]\n",
            "Get:19 http://archive.ubuntu.com/ubuntu bionic-updates/universe amd64 Packages [2,322 kB]\n",
            "Get:20 http://archive.ubuntu.com/ubuntu bionic-backports/main amd64 Packages [64.0 kB]\n",
            "Get:21 http://archive.ubuntu.com/ubuntu bionic-backports/universe amd64 Packages [20.6 kB]\n",
            "Fetched 13.8 MB in 4s (3,605 kB/s)\n",
            "Reading package lists... Done\n"
          ]
        }
      ],
      "source": [
        "import os\n",
        "# Find the latest version of spark 3.2  from http://www.apache.org/dist/spark/ and enter as the spark version\n",
        "# For example:\n",
        "# spark_version = 'spark-3.2.2'\n",
        "spark_version = 'spark-3.3.0'\n",
        "os.environ['SPARK_VERSION']=spark_version\n",
        "\n",
        "# Install Spark and Java\n",
        "!apt-get update\n",
        "!apt-get install --only-upgrade openjdk-11-jdk-headless -qq > /dev/null\n",
        "!wget -q -c http://www.apache.org/dist/spark/$SPARK_VERSION/$SPARK_VERSION-bin-hadoop3.tgz\n",
        "!tar xf $SPARK_VERSION-bin-hadoop3.tgz\n",
        "!pip install -q findspark\n",
        "\n",
        "# Set Environment Variables\n",
        "import os\n",
        "os.environ[\"JAVA_HOME\"] = \"/usr/lib/jvm/java-11-openjdk-amd64\"\n",
        "os.environ[\"SPARK_HOME\"] = f\"/content/{spark_version}-bin-hadoop3\"\n",
        "\n",
        "# Start a SparkSession\n",
        "import findspark\n",
        "findspark.init()"
      ]
    },
    {
      "cell_type": "code",
      "execution_count": 3,
      "metadata": {
        "colab": {
          "base_uri": "https://localhost:8080/"
        },
        "id": "js46PXxzcoDt",
        "outputId": "408f8f22-9bda-445f-cb6f-be0b839ca779"
      },
      "outputs": [
        {
          "name": "stdout",
          "output_type": "stream",
          "text": [
            "--2022-09-25 05:38:32--  https://jdbc.postgresql.org/download/postgresql-42.2.9.jar\n",
            "Resolving jdbc.postgresql.org (jdbc.postgresql.org)... 72.32.157.228, 2001:4800:3e1:1::228\n",
            "Connecting to jdbc.postgresql.org (jdbc.postgresql.org)|72.32.157.228|:443... connected.\n",
            "HTTP request sent, awaiting response... 200 OK\n",
            "Length: 914037 (893K) [application/java-archive]\n",
            "Saving to: ‘postgresql-42.2.9.jar’\n",
            "\n",
            "postgresql-42.2.9.j 100%[===================>] 892.61K  --.-KB/s    in 0.08s   \n",
            "\n",
            "2022-09-25 05:38:33 (10.4 MB/s) - ‘postgresql-42.2.9.jar’ saved [914037/914037]\n",
            "\n"
          ]
        }
      ],
      "source": [
        "!wget -c https://jdbc.postgresql.org/download/postgresql-42.2.9.jar\n"
      ]
    },
    {
      "cell_type": "code",
      "execution_count": 4,
      "metadata": {
        "id": "3XnmVO3Z7mYw"
      },
      "outputs": [],
      "source": [
        "from pyspark.sql import SparkSession\n",
        "spark = SparkSession.builder.appName(\"Cloud-ETL\").config(\"spark.driver.extraClassPath\",\"/content/postgresql-42.2.9.jar\").getOrCreate()"
      ]
    },
    {
      "cell_type": "code",
      "execution_count": 5,
      "metadata": {
        "colab": {
          "base_uri": "https://localhost:8080/"
        },
        "id": "31QbzpXs74vW",
        "outputId": "f7ba231b-f013-4ec4-c17d-3e1f376e293e"
      },
      "outputs": [
        {
          "name": "stdout",
          "output_type": "stream",
          "text": [
            "+---+-------------------------+------------------------+------------------+------+--------------+-------------------+-----------------------+-------------------------------+---+-----------+----+-------------+-------------------+----------------------------+---------------------------+----------------------------------+-------------+--------------------------------+-------------------+--------------------------+---------+--------+----------------+--------+-------------------------+--------------------------------+-------------------------------+---------+------+------+---+----------+--------+--------+------+\n",
            "|Age|Number of sexual partners|First sexual intercourse|Num of pregnancies|Smokes|Smokes (years)|Smokes (packs/year)|Hormonal Contraceptives|Hormonal Contraceptives (years)|IUD|IUD (years)|STDs|STDs (number)|STDs:condylomatosis|STDs:cervical condylomatosis|STDs:vaginal condylomatosis|STDs:vulvo-perineal condylomatosis|STDs:syphilis|STDs:pelvic inflammatory disease|STDs:genital herpes|STDs:molluscum contagiosum|STDs:AIDS|STDs:HIV|STDs:Hepatitis B|STDs:HPV|STDs: Number of diagnosis|STDs: Time since first diagnosis|STDs: Time since last diagnosis|Dx:Cancer|Dx:CIN|Dx:HPV| Dx|Hinselmann|Schiller|Citology|Biopsy|\n",
            "+---+-------------------------+------------------------+------------------+------+--------------+-------------------+-----------------------+-------------------------------+---+-----------+----+-------------+-------------------+----------------------------+---------------------------+----------------------------------+-------------+--------------------------------+-------------------+--------------------------+---------+--------+----------------+--------+-------------------------+--------------------------------+-------------------------------+---------+------+------+---+----------+--------+--------+------+\n",
            "| 18|                      4.0|                    15.0|               1.0|   0.0|           0.0|                0.0|                    0.0|                            0.0|0.0|        0.0| 0.0|          0.0|                0.0|                         0.0|                        0.0|                               0.0|          0.0|                             0.0|                0.0|                       0.0|      0.0|     0.0|             0.0|     0.0|                        0|                               ?|                              ?|        0|     0|     0|  0|         0|       0|       0|     0|\n",
            "| 15|                      1.0|                    14.0|               1.0|   0.0|           0.0|                0.0|                    0.0|                            0.0|0.0|        0.0| 0.0|          0.0|                0.0|                         0.0|                        0.0|                               0.0|          0.0|                             0.0|                0.0|                       0.0|      0.0|     0.0|             0.0|     0.0|                        0|                               ?|                              ?|        0|     0|     0|  0|         0|       0|       0|     0|\n",
            "| 34|                      1.0|                       ?|               1.0|   0.0|           0.0|                0.0|                    0.0|                            0.0|0.0|        0.0| 0.0|          0.0|                0.0|                         0.0|                        0.0|                               0.0|          0.0|                             0.0|                0.0|                       0.0|      0.0|     0.0|             0.0|     0.0|                        0|                               ?|                              ?|        0|     0|     0|  0|         0|       0|       0|     0|\n",
            "| 52|                      5.0|                    16.0|               4.0|   1.0|          37.0|               37.0|                    1.0|                            3.0|0.0|        0.0| 0.0|          0.0|                0.0|                         0.0|                        0.0|                               0.0|          0.0|                             0.0|                0.0|                       0.0|      0.0|     0.0|             0.0|     0.0|                        0|                               ?|                              ?|        1|     0|     1|  0|         0|       0|       0|     0|\n",
            "| 46|                      3.0|                    21.0|               4.0|   0.0|           0.0|                0.0|                    1.0|                           15.0|0.0|        0.0| 0.0|          0.0|                0.0|                         0.0|                        0.0|                               0.0|          0.0|                             0.0|                0.0|                       0.0|      0.0|     0.0|             0.0|     0.0|                        0|                               ?|                              ?|        0|     0|     0|  0|         0|       0|       0|     0|\n",
            "| 42|                      3.0|                    23.0|               2.0|   0.0|           0.0|                0.0|                    0.0|                            0.0|0.0|        0.0| 0.0|          0.0|                0.0|                         0.0|                        0.0|                               0.0|          0.0|                             0.0|                0.0|                       0.0|      0.0|     0.0|             0.0|     0.0|                        0|                               ?|                              ?|        0|     0|     0|  0|         0|       0|       0|     0|\n",
            "| 51|                      3.0|                    17.0|               6.0|   1.0|          34.0|                3.4|                    0.0|                            0.0|1.0|        7.0| 0.0|          0.0|                0.0|                         0.0|                        0.0|                               0.0|          0.0|                             0.0|                0.0|                       0.0|      0.0|     0.0|             0.0|     0.0|                        0|                               ?|                              ?|        0|     0|     0|  0|         1|       1|       0|     1|\n",
            "| 26|                      1.0|                    26.0|               3.0|   0.0|           0.0|                0.0|                    1.0|                            2.0|1.0|        7.0| 0.0|          0.0|                0.0|                         0.0|                        0.0|                               0.0|          0.0|                             0.0|                0.0|                       0.0|      0.0|     0.0|             0.0|     0.0|                        0|                               ?|                              ?|        0|     0|     0|  0|         0|       0|       0|     0|\n",
            "| 45|                      1.0|                    20.0|               5.0|   0.0|           0.0|                0.0|                    0.0|                            0.0|0.0|        0.0| 0.0|          0.0|                0.0|                         0.0|                        0.0|                               0.0|          0.0|                             0.0|                0.0|                       0.0|      0.0|     0.0|             0.0|     0.0|                        0|                               ?|                              ?|        1|     0|     1|  1|         0|       0|       0|     0|\n",
            "| 44|                      3.0|                    15.0|                 ?|   1.0|   1.266972909|                2.8|                    0.0|                            0.0|  ?|          ?| 0.0|          0.0|                0.0|                         0.0|                        0.0|                               0.0|          0.0|                             0.0|                0.0|                       0.0|      0.0|     0.0|             0.0|     0.0|                        0|                               ?|                              ?|        0|     0|     0|  0|         0|       0|       0|     0|\n",
            "| 44|                      3.0|                    26.0|               4.0|   0.0|           0.0|                0.0|                    1.0|                            2.0|0.0|        0.0| 0.0|          0.0|                0.0|                         0.0|                        0.0|                               0.0|          0.0|                             0.0|                0.0|                       0.0|      0.0|     0.0|             0.0|     0.0|                        0|                               ?|                              ?|        0|     0|     0|  0|         0|       0|       0|     0|\n",
            "| 27|                      1.0|                    17.0|               3.0|   0.0|           0.0|                0.0|                    1.0|                            8.0|0.0|        0.0| 0.0|          0.0|                0.0|                         0.0|                        0.0|                               0.0|          0.0|                             0.0|                0.0|                       0.0|      0.0|     0.0|             0.0|     0.0|                        0|                               ?|                              ?|        0|     0|     0|  0|         0|       0|       0|     0|\n",
            "| 45|                      4.0|                    14.0|               6.0|   0.0|           0.0|                0.0|                    1.0|                           10.0|1.0|        5.0| 0.0|          0.0|                0.0|                         0.0|                        0.0|                               0.0|          0.0|                             0.0|                0.0|                       0.0|      0.0|     0.0|             0.0|     0.0|                        0|                               ?|                              ?|        0|     0|     0|  0|         0|       0|       0|     0|\n",
            "| 44|                      2.0|                    25.0|               2.0|   0.0|           0.0|                0.0|                    1.0|                            5.0|0.0|        0.0| 0.0|          0.0|                0.0|                         0.0|                        0.0|                               0.0|          0.0|                             0.0|                0.0|                       0.0|      0.0|     0.0|             0.0|     0.0|                        0|                               ?|                              ?|        0|     0|     0|  0|         0|       0|       0|     0|\n",
            "| 43|                      2.0|                    18.0|               5.0|   0.0|           0.0|                0.0|                    0.0|                            0.0|1.0|        8.0| 0.0|          0.0|                0.0|                         0.0|                        0.0|                               0.0|          0.0|                             0.0|                0.0|                       0.0|      0.0|     0.0|             0.0|     0.0|                        0|                               ?|                              ?|        0|     0|     0|  0|         0|       0|       0|     0|\n",
            "| 40|                      3.0|                    18.0|               2.0|   0.0|           0.0|                0.0|                    1.0|                           15.0|0.0|        0.0| 0.0|          0.0|                0.0|                         0.0|                        0.0|                               0.0|          0.0|                             0.0|                0.0|                       0.0|      0.0|     0.0|             0.0|     0.0|                        0|                               ?|                              ?|        0|     0|     0|  0|         0|       0|       0|     0|\n",
            "| 41|                      4.0|                    21.0|               3.0|   0.0|           0.0|                0.0|                    1.0|                           0.25|0.0|        0.0| 0.0|          0.0|                0.0|                         0.0|                        0.0|                               0.0|          0.0|                             0.0|                0.0|                       0.0|      0.0|     0.0|             0.0|     0.0|                        0|                               ?|                              ?|        0|     0|     0|  0|         0|       0|       0|     0|\n",
            "| 43|                      3.0|                    15.0|               8.0|   0.0|           0.0|                0.0|                    1.0|                            3.0|0.0|        0.0| 0.0|          0.0|                0.0|                         0.0|                        0.0|                               0.0|          0.0|                             0.0|                0.0|                       0.0|      0.0|     0.0|             0.0|     0.0|                        0|                               ?|                              ?|        0|     0|     0|  0|         0|       0|       0|     0|\n",
            "| 42|                      2.0|                    20.0|                 ?|   0.0|           0.0|                0.0|                    1.0|                            7.0|1.0|        6.0| 1.0|          2.0|                1.0|                         0.0|                        0.0|                               1.0|          0.0|                             0.0|                0.0|                       0.0|      0.0|     0.0|             0.0|     0.0|                        0|                               ?|                              ?|        0|     0|     0|  0|         0|       0|       0|     0|\n",
            "| 40|                      2.0|                    27.0|                 ?|   0.0|           0.0|                0.0|                    0.0|                            0.0|1.0|        1.0| 0.0|          0.0|                0.0|                         0.0|                        0.0|                               0.0|          0.0|                             0.0|                0.0|                       0.0|      0.0|     0.0|             0.0|     0.0|                        0|                               ?|                              ?|        0|     0|     0|  0|         0|       0|       0|     0|\n",
            "+---+-------------------------+------------------------+------------------+------+--------------+-------------------+-----------------------+-------------------------------+---+-----------+----+-------------+-------------------+----------------------------+---------------------------+----------------------------------+-------------+--------------------------------+-------------------+--------------------------+---------+--------+----------------+--------+-------------------------+--------------------------------+-------------------------------+---------+------+------+---+----------+--------+--------+------+\n",
            "only showing top 20 rows\n",
            "\n"
          ]
        }
      ],
      "source": [
        "# Read in data from S3 Buckets\n",
        "from pyspark import SparkFiles\n",
        "url=\"https://myawsbucket-092422.s3.us-west-1.amazonaws.com/kag_risk_factors_cervical_cancer.csv\"\n",
        "spark.sparkContext.addFile(url)\n",
        "risk_factors_df = spark.read.csv(SparkFiles.get(\"kag_risk_factors_cervical_cancer.csv\"), sep=\",\", header=True, inferSchema=True)\n",
        "\n",
        "# Show DataFrame\n",
        "risk_factors_df.show()"
      ]
    },
    {
      "cell_type": "markdown",
      "metadata": {
        "id": "vLjf9xZgtHZm"
      },
      "source": [
        "# Count the number or records (rows) in the dataset"
      ]
    },
    {
      "cell_type": "code",
      "execution_count": 6,
      "metadata": {
        "colab": {
          "base_uri": "https://localhost:8080/"
        },
        "id": "nP7P6FRBM0Xi",
        "outputId": "e50517d2-1365-4672-cbc5-9d7d044b78eb"
      },
      "outputs": [
        {
          "name": "stdout",
          "output_type": "stream",
          "text": [
            "858\n"
          ]
        }
      ],
      "source": [
        "# Count the number of records (rows) in the dataset\n",
        "print(risk_factors_df.count())\n",
        "\n"
      ]
    },
    {
      "cell_type": "markdown",
      "metadata": {
        "id": "BddgCOg5tq1a"
      },
      "source": [
        "# Transform dataset to fit the tables in the schema file"
      ]
    },
    {
      "cell_type": "code",
      "execution_count": 7,
      "metadata": {
        "colab": {
          "base_uri": "https://localhost:8080/"
        },
        "id": "I2MapnuiRZev",
        "outputId": "62cd5276-4750-47b5-dfde-737cf2c038a6"
      },
      "outputs": [
        {
          "name": "stdout",
          "output_type": "stream",
          "text": [
            "root\n",
            " |-- Age: integer (nullable = true)\n",
            " |-- Number of sexual partners: string (nullable = true)\n",
            " |-- First sexual intercourse: string (nullable = true)\n",
            " |-- Num of pregnancies: string (nullable = true)\n",
            " |-- Smokes: string (nullable = true)\n",
            " |-- Smokes (years): string (nullable = true)\n",
            " |-- Smokes (packs/year): string (nullable = true)\n",
            " |-- Hormonal Contraceptives: string (nullable = true)\n",
            " |-- Hormonal Contraceptives (years): string (nullable = true)\n",
            " |-- IUD: string (nullable = true)\n",
            " |-- IUD (years): string (nullable = true)\n",
            " |-- STDs: string (nullable = true)\n",
            " |-- STDs (number): string (nullable = true)\n",
            " |-- STDs:condylomatosis: string (nullable = true)\n",
            " |-- STDs:cervical condylomatosis: string (nullable = true)\n",
            " |-- STDs:vaginal condylomatosis: string (nullable = true)\n",
            " |-- STDs:vulvo-perineal condylomatosis: string (nullable = true)\n",
            " |-- STDs:syphilis: string (nullable = true)\n",
            " |-- STDs:pelvic inflammatory disease: string (nullable = true)\n",
            " |-- STDs:genital herpes: string (nullable = true)\n",
            " |-- STDs:molluscum contagiosum: string (nullable = true)\n",
            " |-- STDs:AIDS: string (nullable = true)\n",
            " |-- STDs:HIV: string (nullable = true)\n",
            " |-- STDs:Hepatitis B: string (nullable = true)\n",
            " |-- STDs:HPV: string (nullable = true)\n",
            " |-- STDs: Number of diagnosis: integer (nullable = true)\n",
            " |-- STDs: Time since first diagnosis: string (nullable = true)\n",
            " |-- STDs: Time since last diagnosis: string (nullable = true)\n",
            " |-- Dx:Cancer: integer (nullable = true)\n",
            " |-- Dx:CIN: integer (nullable = true)\n",
            " |-- Dx:HPV: integer (nullable = true)\n",
            " |-- Dx: integer (nullable = true)\n",
            " |-- Hinselmann: integer (nullable = true)\n",
            " |-- Schiller: integer (nullable = true)\n",
            " |-- Citology: integer (nullable = true)\n",
            " |-- Biopsy: integer (nullable = true)\n",
            "\n"
          ]
        }
      ],
      "source": [
        "risk_factors_df.printSchema()"
      ]
    },
    {
      "cell_type": "code",
      "execution_count": 8,
      "metadata": {
        "colab": {
          "base_uri": "https://localhost:8080/"
        },
        "id": "6k-9b4EeSkr4",
        "outputId": "18c8bd5b-6432-4393-ef7c-58ee171c691c"
      },
      "outputs": [
        {
          "data": {
            "text/plain": [
              "['Age',\n",
              " 'Number of sexual partners',\n",
              " 'First sexual intercourse',\n",
              " 'Num of pregnancies',\n",
              " 'Smokes',\n",
              " 'Smokes (years)',\n",
              " 'Smokes (packs/year)',\n",
              " 'Hormonal Contraceptives',\n",
              " 'Hormonal Contraceptives (years)',\n",
              " 'IUD',\n",
              " 'IUD (years)',\n",
              " 'STDs',\n",
              " 'STDs (number)',\n",
              " 'STDs:condylomatosis',\n",
              " 'STDs:cervical condylomatosis',\n",
              " 'STDs:vaginal condylomatosis',\n",
              " 'STDs:vulvo-perineal condylomatosis',\n",
              " 'STDs:syphilis',\n",
              " 'STDs:pelvic inflammatory disease',\n",
              " 'STDs:genital herpes',\n",
              " 'STDs:molluscum contagiosum',\n",
              " 'STDs:AIDS',\n",
              " 'STDs:HIV',\n",
              " 'STDs:Hepatitis B',\n",
              " 'STDs:HPV',\n",
              " 'STDs: Number of diagnosis',\n",
              " 'STDs: Time since first diagnosis',\n",
              " 'STDs: Time since last diagnosis',\n",
              " 'Dx:Cancer',\n",
              " 'Dx:CIN',\n",
              " 'Dx:HPV',\n",
              " 'Dx',\n",
              " 'Hinselmann',\n",
              " 'Schiller',\n",
              " 'Citology',\n",
              " 'Biopsy']"
            ]
          },
          "execution_count": 8,
          "metadata": {},
          "output_type": "execute_result"
        }
      ],
      "source": [
        "risk_factors_df.columns"
      ]
    },
    {
      "cell_type": "code",
      "execution_count": 9,
      "metadata": {
        "colab": {
          "base_uri": "https://localhost:8080/"
        },
        "id": "zDO9buXzSycO",
        "outputId": "48b9a422-ba65-44e0-99a2-48f5a54cc575"
      },
      "outputs": [
        {
          "data": {
            "text/plain": [
              "DataFrame[summary: string, Age: string, Number of sexual partners: string, First sexual intercourse: string, Num of pregnancies: string, Smokes: string, Smokes (years): string, Smokes (packs/year): string, Hormonal Contraceptives: string, Hormonal Contraceptives (years): string, IUD: string, IUD (years): string, STDs: string, STDs (number): string, STDs:condylomatosis: string, STDs:cervical condylomatosis: string, STDs:vaginal condylomatosis: string, STDs:vulvo-perineal condylomatosis: string, STDs:syphilis: string, STDs:pelvic inflammatory disease: string, STDs:genital herpes: string, STDs:molluscum contagiosum: string, STDs:AIDS: string, STDs:HIV: string, STDs:Hepatitis B: string, STDs:HPV: string, STDs: Number of diagnosis: string, STDs: Time since first diagnosis: string, STDs: Time since last diagnosis: string, Dx:Cancer: string, Dx:CIN: string, Dx:HPV: string, Dx: string, Hinselmann: string, Schiller: string, Citology: string, Biopsy: string]"
            ]
          },
          "execution_count": 9,
          "metadata": {},
          "output_type": "execute_result"
        }
      ],
      "source": [
        "risk_factors_df.describe()"
      ]
    },
    {
      "cell_type": "code",
      "execution_count": 10,
      "metadata": {
        "id": "ZBDO_6giTAbA"
      },
      "outputs": [],
      "source": [
        "# Import struct fields that we can use (this is to import data types)\n",
        "from pyspark.sql.types import StructField, StringType, IntegerType, FloatType, StructType\n"
      ]
    },
    {
      "cell_type": "code",
      "execution_count": 11,
      "metadata": {
        "colab": {
          "base_uri": "https://localhost:8080/"
        },
        "id": "X7Io5ObuTD15",
        "outputId": "eafe31c7-201e-4534-ec09-ca595a78a657"
      },
      "outputs": [
        {
          "data": {
            "text/plain": [
              "[StructField('Age', IntegerType(), True),\n",
              " StructField('Number of sexual partners', FloatType(), True),\n",
              " StructField('First sexual intercourse', FloatType(), True),\n",
              " StructField('Num of pregnancies', FloatType(), True),\n",
              " StructField('Smokes', FloatType(), True),\n",
              " StructField('Smokes (years)', FloatType(), True),\n",
              " StructField('Smokes (packs/year)', FloatType(), True),\n",
              " StructField('Hormonal Contraceptives', FloatType(), True),\n",
              " StructField('Hormonal Contraceptives (years)', FloatType(), True),\n",
              " StructField('IUD', FloatType(), True),\n",
              " StructField('IUD (years)', FloatType(), True),\n",
              " StructField('STDs', FloatType(), True),\n",
              " StructField('STDs (number)', FloatType(), True),\n",
              " StructField('STDs:condylomatosis', FloatType(), True),\n",
              " StructField('STDs:cervical condylomatosis', FloatType(), True),\n",
              " StructField('STDs:vaginal condylomatosis', FloatType(), True),\n",
              " StructField('STDs:vulvo-perineal condylomatosis', FloatType(), True),\n",
              " StructField('STDs:syphilis', FloatType(), True),\n",
              " StructField('STDs:pelvic inflammatory disease', FloatType(), True),\n",
              " StructField('STDs:genital herpes', FloatType(), True),\n",
              " StructField('STDs:molluscum contagiosum', FloatType(), True),\n",
              " StructField('STDs:AIDS', FloatType(), True),\n",
              " StructField('STDs:HIV', FloatType(), True),\n",
              " StructField('STDs:Hepatitis B', FloatType(), True),\n",
              " StructField('STDs:HPV', FloatType(), True),\n",
              " StructField('STDs: Number of diagnosis', IntegerType(), True),\n",
              " StructField('STDs: Time since first diagnosis', FloatType(), True),\n",
              " StructField('STDs: Time since last diagnosis', FloatType(), True),\n",
              " StructField('Dx:Cancer', IntegerType(), True),\n",
              " StructField('Dx:CIN', IntegerType(), True),\n",
              " StructField('Dx:HPV', IntegerType(), True),\n",
              " StructField('Dx', IntegerType(), True),\n",
              " StructField('Hinselmann', IntegerType(), True),\n",
              " StructField('Schiller', IntegerType(), True),\n",
              " StructField('Citology', IntegerType(), True),\n",
              " StructField('Biopsy', IntegerType(), True)]"
            ]
          },
          "execution_count": 11,
          "metadata": {},
          "output_type": "execute_result"
        }
      ],
      "source": [
        "# Next we need to create the list of struct fields\n",
        "# this is the syntax to fix the string to float\n",
        "schema = [StructField(\"Age\", IntegerType(), True), \n",
        "          StructField(\"Number of sexual partners\", FloatType(), True),\n",
        "          StructField(\"First sexual intercourse\", FloatType(), True),\n",
        "          StructField(\"Num of pregnancies\", FloatType(), True),\n",
        "          StructField(\"Smokes\", FloatType(), True),\n",
        "          StructField(\"Smokes (years)\", FloatType(), True),\n",
        "          StructField(\"Smokes (packs/year)\", FloatType(), True),\n",
        "          StructField(\"Hormonal Contraceptives\", FloatType(), True),\n",
        "          StructField(\"Hormonal Contraceptives (years)\", FloatType(), True),\n",
        "          StructField(\"IUD\", FloatType(), True),\n",
        "          StructField(\"IUD (years)\", FloatType(), True),\n",
        "          StructField(\"STDs\", FloatType(), True),\n",
        "          StructField(\"STDs (number)\", FloatType(), True),\n",
        "          StructField(\"STDs:condylomatosis\", FloatType(), True),\n",
        "          StructField(\"STDs:cervical condylomatosis\", FloatType(), True),\n",
        "          StructField(\"STDs:vaginal condylomatosis\", FloatType(), True),\n",
        "          StructField(\"STDs:vulvo-perineal condylomatosis\", FloatType(), True),\n",
        "          StructField(\"STDs:syphilis\", FloatType(), True),\n",
        "          StructField(\"STDs:pelvic inflammatory disease\", FloatType(), True),\n",
        "          StructField(\"STDs:genital herpes\", FloatType(), True),\n",
        "          StructField(\"STDs:molluscum contagiosum\", FloatType(), True),\n",
        "          StructField(\"STDs:AIDS\", FloatType(), True),\n",
        "          StructField(\"STDs:HIV\", FloatType(), True),\n",
        "          StructField(\"STDs:Hepatitis B\", FloatType(), True),\n",
        "          StructField(\"STDs:HPV\", FloatType(), True),\n",
        "          StructField(\"STDs: Number of diagnosis\", IntegerType(), True),\n",
        "          StructField(\"STDs: Time since first diagnosis\", FloatType(), True),\n",
        "          StructField(\"STDs: Time since last diagnosis\", FloatType(), True),\n",
        "          StructField(\"Dx:Cancer\", IntegerType(), True),\n",
        "          StructField(\"Dx:CIN\", IntegerType(), True),\n",
        "          StructField(\"Dx:HPV\", IntegerType(), True),\n",
        "          StructField(\"Dx\", IntegerType(), True),\n",
        "          StructField(\"Hinselmann\", IntegerType(), True),\n",
        "          StructField(\"Schiller\", IntegerType(), True),\n",
        "          StructField(\"Citology\", IntegerType(), True),\n",
        "          StructField(\"Biopsy\", IntegerType(), True),\n",
        "          ]\n",
        "schema\n"
      ]
    },
    {
      "cell_type": "code",
      "execution_count": 44,
      "metadata": {
        "colab": {
          "base_uri": "https://localhost:8080/"
        },
        "id": "eqDtajXCjHLF",
        "outputId": "524b75a2-e376-46e3-d5f5-29161a3bd024"
      },
      "outputs": [
        {
          "data": {
            "text/plain": [
              "StructType([StructField('Age', IntegerType(), True), StructField('Number of sexual partners', FloatType(), True), StructField('First sexual intercourse', FloatType(), True), StructField('Num of pregnancies', FloatType(), True), StructField('Smokes', FloatType(), True), StructField('Smokes (years)', FloatType(), True), StructField('Smokes (packs/year)', FloatType(), True), StructField('Hormonal Contraceptives', FloatType(), True), StructField('Hormonal Contraceptives (years)', FloatType(), True), StructField('IUD', FloatType(), True), StructField('IUD (years)', FloatType(), True), StructField('STDs', FloatType(), True), StructField('STDs (number)', FloatType(), True), StructField('STDs:condylomatosis', FloatType(), True), StructField('STDs:cervical condylomatosis', FloatType(), True), StructField('STDs:vaginal condylomatosis', FloatType(), True), StructField('STDs:vulvo-perineal condylomatosis', FloatType(), True), StructField('STDs:syphilis', FloatType(), True), StructField('STDs:pelvic inflammatory disease', FloatType(), True), StructField('STDs:genital herpes', FloatType(), True), StructField('STDs:molluscum contagiosum', FloatType(), True), StructField('STDs:AIDS', FloatType(), True), StructField('STDs:HIV', FloatType(), True), StructField('STDs:Hepatitis B', FloatType(), True), StructField('STDs:HPV', FloatType(), True), StructField('STDs: Number of diagnosis', IntegerType(), True), StructField('STDs: Time since first diagnosis', FloatType(), True), StructField('STDs: Time since last diagnosis', FloatType(), True), StructField('Dx:Cancer', IntegerType(), True), StructField('Dx:CIN', IntegerType(), True), StructField('Dx:HPV', IntegerType(), True), StructField('Dx', IntegerType(), True), StructField('Hinselmann', IntegerType(), True), StructField('Schiller', IntegerType(), True), StructField('Citology', IntegerType(), True), StructField('Biopsy', IntegerType(), True)])"
            ]
          },
          "execution_count": 44,
          "metadata": {},
          "output_type": "execute_result"
        }
      ],
      "source": [
        "final = StructType(fields=schema)\n",
        "final"
      ]
    },
    {
      "cell_type": "code",
      "execution_count": 45,
      "metadata": {
        "colab": {
          "base_uri": "https://localhost:8080/"
        },
        "id": "jXuMH7OokN9Z",
        "outputId": "4a9d45e7-1be1-4f70-8149-65f1d3075260"
      },
      "outputs": [
        {
          "name": "stdout",
          "output_type": "stream",
          "text": [
            "+---+-------------------------+------------------------+------------------+------+--------------+-------------------+-----------------------+-------------------------------+----+-----------+----+-------------+-------------------+----------------------------+---------------------------+----------------------------------+-------------+--------------------------------+-------------------+--------------------------+---------+--------+----------------+--------+-------------------------+--------------------------------+-------------------------------+---------+------+------+---+----------+--------+--------+------+\n",
            "|Age|Number of sexual partners|First sexual intercourse|Num of pregnancies|Smokes|Smokes (years)|Smokes (packs/year)|Hormonal Contraceptives|Hormonal Contraceptives (years)| IUD|IUD (years)|STDs|STDs (number)|STDs:condylomatosis|STDs:cervical condylomatosis|STDs:vaginal condylomatosis|STDs:vulvo-perineal condylomatosis|STDs:syphilis|STDs:pelvic inflammatory disease|STDs:genital herpes|STDs:molluscum contagiosum|STDs:AIDS|STDs:HIV|STDs:Hepatitis B|STDs:HPV|STDs: Number of diagnosis|STDs: Time since first diagnosis|STDs: Time since last diagnosis|Dx:Cancer|Dx:CIN|Dx:HPV| Dx|Hinselmann|Schiller|Citology|Biopsy|\n",
            "+---+-------------------------+------------------------+------------------+------+--------------+-------------------+-----------------------+-------------------------------+----+-----------+----+-------------+-------------------+----------------------------+---------------------------+----------------------------------+-------------+--------------------------------+-------------------+--------------------------+---------+--------+----------------+--------+-------------------------+--------------------------------+-------------------------------+---------+------+------+---+----------+--------+--------+------+\n",
            "| 18|                      4.0|                    15.0|               1.0|   0.0|           0.0|                0.0|                    0.0|                            0.0| 0.0|        0.0| 0.0|          0.0|                0.0|                         0.0|                        0.0|                               0.0|          0.0|                             0.0|                0.0|                       0.0|      0.0|     0.0|             0.0|     0.0|                        0|                            null|                           null|        0|     0|     0|  0|         0|       0|       0|     0|\n",
            "| 15|                      1.0|                    14.0|               1.0|   0.0|           0.0|                0.0|                    0.0|                            0.0| 0.0|        0.0| 0.0|          0.0|                0.0|                         0.0|                        0.0|                               0.0|          0.0|                             0.0|                0.0|                       0.0|      0.0|     0.0|             0.0|     0.0|                        0|                            null|                           null|        0|     0|     0|  0|         0|       0|       0|     0|\n",
            "| 34|                      1.0|                    null|               1.0|   0.0|           0.0|                0.0|                    0.0|                            0.0| 0.0|        0.0| 0.0|          0.0|                0.0|                         0.0|                        0.0|                               0.0|          0.0|                             0.0|                0.0|                       0.0|      0.0|     0.0|             0.0|     0.0|                        0|                            null|                           null|        0|     0|     0|  0|         0|       0|       0|     0|\n",
            "| 52|                      5.0|                    16.0|               4.0|   1.0|          37.0|               37.0|                    1.0|                            3.0| 0.0|        0.0| 0.0|          0.0|                0.0|                         0.0|                        0.0|                               0.0|          0.0|                             0.0|                0.0|                       0.0|      0.0|     0.0|             0.0|     0.0|                        0|                            null|                           null|        1|     0|     1|  0|         0|       0|       0|     0|\n",
            "| 46|                      3.0|                    21.0|               4.0|   0.0|           0.0|                0.0|                    1.0|                           15.0| 0.0|        0.0| 0.0|          0.0|                0.0|                         0.0|                        0.0|                               0.0|          0.0|                             0.0|                0.0|                       0.0|      0.0|     0.0|             0.0|     0.0|                        0|                            null|                           null|        0|     0|     0|  0|         0|       0|       0|     0|\n",
            "| 42|                      3.0|                    23.0|               2.0|   0.0|           0.0|                0.0|                    0.0|                            0.0| 0.0|        0.0| 0.0|          0.0|                0.0|                         0.0|                        0.0|                               0.0|          0.0|                             0.0|                0.0|                       0.0|      0.0|     0.0|             0.0|     0.0|                        0|                            null|                           null|        0|     0|     0|  0|         0|       0|       0|     0|\n",
            "| 51|                      3.0|                    17.0|               6.0|   1.0|          34.0|                3.4|                    0.0|                            0.0| 1.0|        7.0| 0.0|          0.0|                0.0|                         0.0|                        0.0|                               0.0|          0.0|                             0.0|                0.0|                       0.0|      0.0|     0.0|             0.0|     0.0|                        0|                            null|                           null|        0|     0|     0|  0|         1|       1|       0|     1|\n",
            "| 26|                      1.0|                    26.0|               3.0|   0.0|           0.0|                0.0|                    1.0|                            2.0| 1.0|        7.0| 0.0|          0.0|                0.0|                         0.0|                        0.0|                               0.0|          0.0|                             0.0|                0.0|                       0.0|      0.0|     0.0|             0.0|     0.0|                        0|                            null|                           null|        0|     0|     0|  0|         0|       0|       0|     0|\n",
            "| 45|                      1.0|                    20.0|               5.0|   0.0|           0.0|                0.0|                    0.0|                            0.0| 0.0|        0.0| 0.0|          0.0|                0.0|                         0.0|                        0.0|                               0.0|          0.0|                             0.0|                0.0|                       0.0|      0.0|     0.0|             0.0|     0.0|                        0|                            null|                           null|        1|     0|     1|  1|         0|       0|       0|     0|\n",
            "| 44|                      3.0|                    15.0|              null|   1.0|     1.2669729|                2.8|                    0.0|                            0.0|null|       null| 0.0|          0.0|                0.0|                         0.0|                        0.0|                               0.0|          0.0|                             0.0|                0.0|                       0.0|      0.0|     0.0|             0.0|     0.0|                        0|                            null|                           null|        0|     0|     0|  0|         0|       0|       0|     0|\n",
            "| 44|                      3.0|                    26.0|               4.0|   0.0|           0.0|                0.0|                    1.0|                            2.0| 0.0|        0.0| 0.0|          0.0|                0.0|                         0.0|                        0.0|                               0.0|          0.0|                             0.0|                0.0|                       0.0|      0.0|     0.0|             0.0|     0.0|                        0|                            null|                           null|        0|     0|     0|  0|         0|       0|       0|     0|\n",
            "| 27|                      1.0|                    17.0|               3.0|   0.0|           0.0|                0.0|                    1.0|                            8.0| 0.0|        0.0| 0.0|          0.0|                0.0|                         0.0|                        0.0|                               0.0|          0.0|                             0.0|                0.0|                       0.0|      0.0|     0.0|             0.0|     0.0|                        0|                            null|                           null|        0|     0|     0|  0|         0|       0|       0|     0|\n",
            "| 45|                      4.0|                    14.0|               6.0|   0.0|           0.0|                0.0|                    1.0|                           10.0| 1.0|        5.0| 0.0|          0.0|                0.0|                         0.0|                        0.0|                               0.0|          0.0|                             0.0|                0.0|                       0.0|      0.0|     0.0|             0.0|     0.0|                        0|                            null|                           null|        0|     0|     0|  0|         0|       0|       0|     0|\n",
            "| 44|                      2.0|                    25.0|               2.0|   0.0|           0.0|                0.0|                    1.0|                            5.0| 0.0|        0.0| 0.0|          0.0|                0.0|                         0.0|                        0.0|                               0.0|          0.0|                             0.0|                0.0|                       0.0|      0.0|     0.0|             0.0|     0.0|                        0|                            null|                           null|        0|     0|     0|  0|         0|       0|       0|     0|\n",
            "| 43|                      2.0|                    18.0|               5.0|   0.0|           0.0|                0.0|                    0.0|                            0.0| 1.0|        8.0| 0.0|          0.0|                0.0|                         0.0|                        0.0|                               0.0|          0.0|                             0.0|                0.0|                       0.0|      0.0|     0.0|             0.0|     0.0|                        0|                            null|                           null|        0|     0|     0|  0|         0|       0|       0|     0|\n",
            "| 40|                      3.0|                    18.0|               2.0|   0.0|           0.0|                0.0|                    1.0|                           15.0| 0.0|        0.0| 0.0|          0.0|                0.0|                         0.0|                        0.0|                               0.0|          0.0|                             0.0|                0.0|                       0.0|      0.0|     0.0|             0.0|     0.0|                        0|                            null|                           null|        0|     0|     0|  0|         0|       0|       0|     0|\n",
            "| 41|                      4.0|                    21.0|               3.0|   0.0|           0.0|                0.0|                    1.0|                           0.25| 0.0|        0.0| 0.0|          0.0|                0.0|                         0.0|                        0.0|                               0.0|          0.0|                             0.0|                0.0|                       0.0|      0.0|     0.0|             0.0|     0.0|                        0|                            null|                           null|        0|     0|     0|  0|         0|       0|       0|     0|\n",
            "| 43|                      3.0|                    15.0|               8.0|   0.0|           0.0|                0.0|                    1.0|                            3.0| 0.0|        0.0| 0.0|          0.0|                0.0|                         0.0|                        0.0|                               0.0|          0.0|                             0.0|                0.0|                       0.0|      0.0|     0.0|             0.0|     0.0|                        0|                            null|                           null|        0|     0|     0|  0|         0|       0|       0|     0|\n",
            "| 42|                      2.0|                    20.0|              null|   0.0|           0.0|                0.0|                    1.0|                            7.0| 1.0|        6.0| 1.0|          2.0|                1.0|                         0.0|                        0.0|                               1.0|          0.0|                             0.0|                0.0|                       0.0|      0.0|     0.0|             0.0|     0.0|                        0|                            null|                           null|        0|     0|     0|  0|         0|       0|       0|     0|\n",
            "| 40|                      2.0|                    27.0|              null|   0.0|           0.0|                0.0|                    0.0|                            0.0| 1.0|        1.0| 0.0|          0.0|                0.0|                         0.0|                        0.0|                               0.0|          0.0|                             0.0|                0.0|                       0.0|      0.0|     0.0|             0.0|     0.0|                        0|                            null|                           null|        0|     0|     0|  0|         0|       0|       0|     0|\n",
            "+---+-------------------------+------------------------+------------------+------+--------------+-------------------+-----------------------+-------------------------------+----+-----------+----+-------------+-------------------+----------------------------+---------------------------+----------------------------------+-------------+--------------------------------+-------------------+--------------------------+---------+--------+----------------+--------+-------------------------+--------------------------------+-------------------------------+---------+------+------+---+----------+--------+--------+------+\n",
            "only showing top 20 rows\n",
            "\n"
          ]
        }
      ],
      "source": [
        "dataframe = spark.read.csv(SparkFiles.get(\"kag_risk_factors_cervical_cancer.csv\"), schema=final, sep=\",\", header=True)\n",
        "dataframe.show()"
      ]
    },
    {
      "cell_type": "code",
      "execution_count": 46,
      "metadata": {
        "colab": {
          "base_uri": "https://localhost:8080/"
        },
        "id": "aHFXCy7xlLWM",
        "outputId": "631c659f-0651-4924-c7bc-f1a4cd9daae2"
      },
      "outputs": [
        {
          "name": "stdout",
          "output_type": "stream",
          "text": [
            "root\n",
            " |-- Age: integer (nullable = true)\n",
            " |-- Number of sexual partners: float (nullable = true)\n",
            " |-- First sexual intercourse: float (nullable = true)\n",
            " |-- Num of pregnancies: float (nullable = true)\n",
            " |-- Smokes: float (nullable = true)\n",
            " |-- Smokes (years): float (nullable = true)\n",
            " |-- Smokes (packs/year): float (nullable = true)\n",
            " |-- Hormonal Contraceptives: float (nullable = true)\n",
            " |-- Hormonal Contraceptives (years): float (nullable = true)\n",
            " |-- IUD: float (nullable = true)\n",
            " |-- IUD (years): float (nullable = true)\n",
            " |-- STDs: float (nullable = true)\n",
            " |-- STDs (number): float (nullable = true)\n",
            " |-- STDs:condylomatosis: float (nullable = true)\n",
            " |-- STDs:cervical condylomatosis: float (nullable = true)\n",
            " |-- STDs:vaginal condylomatosis: float (nullable = true)\n",
            " |-- STDs:vulvo-perineal condylomatosis: float (nullable = true)\n",
            " |-- STDs:syphilis: float (nullable = true)\n",
            " |-- STDs:pelvic inflammatory disease: float (nullable = true)\n",
            " |-- STDs:genital herpes: float (nullable = true)\n",
            " |-- STDs:molluscum contagiosum: float (nullable = true)\n",
            " |-- STDs:AIDS: float (nullable = true)\n",
            " |-- STDs:HIV: float (nullable = true)\n",
            " |-- STDs:Hepatitis B: float (nullable = true)\n",
            " |-- STDs:HPV: float (nullable = true)\n",
            " |-- STDs: Number of diagnosis: integer (nullable = true)\n",
            " |-- STDs: Time since first diagnosis: float (nullable = true)\n",
            " |-- STDs: Time since last diagnosis: float (nullable = true)\n",
            " |-- Dx:Cancer: integer (nullable = true)\n",
            " |-- Dx:CIN: integer (nullable = true)\n",
            " |-- Dx:HPV: integer (nullable = true)\n",
            " |-- Dx: integer (nullable = true)\n",
            " |-- Hinselmann: integer (nullable = true)\n",
            " |-- Schiller: integer (nullable = true)\n",
            " |-- Citology: integer (nullable = true)\n",
            " |-- Biopsy: integer (nullable = true)\n",
            "\n"
          ]
        }
      ],
      "source": [
        "dataframe.printSchema()"
      ]
    },
    {
      "cell_type": "code",
      "execution_count": 50,
      "metadata": {
        "colab": {
          "base_uri": "https://localhost:8080/"
        },
        "id": "ldOO-nahIvoB",
        "outputId": "a66ed3d2-6db9-478c-f37d-ddbf8a72e3de"
      },
      "outputs": [
        {
          "data": {
            "text/plain": [
              "['Age',\n",
              " 'Number of sexual partners',\n",
              " 'First sexual intercourse',\n",
              " 'Num of pregnancies',\n",
              " 'Smokes',\n",
              " 'Smokes (years)',\n",
              " 'Smokes (packs/year)',\n",
              " 'Hormonal Contraceptives',\n",
              " 'Hormonal Contraceptives (years)',\n",
              " 'IUD',\n",
              " 'IUD (years)',\n",
              " 'STDs',\n",
              " 'STDs (number)',\n",
              " 'STDs:condylomatosis',\n",
              " 'STDs:cervical condylomatosis',\n",
              " 'STDs:vaginal condylomatosis',\n",
              " 'STDs:vulvo-perineal condylomatosis',\n",
              " 'STDs:syphilis',\n",
              " 'STDs:pelvic inflammatory disease',\n",
              " 'STDs:genital herpes',\n",
              " 'STDs:molluscum contagiosum',\n",
              " 'STDs:AIDS',\n",
              " 'STDs:HIV',\n",
              " 'STDs:Hepatitis B',\n",
              " 'STDs:HPV',\n",
              " 'STDs: Number of diagnosis',\n",
              " 'STDs: Time since first diagnosis',\n",
              " 'STDs: Time since last diagnosis',\n",
              " 'Dx:Cancer',\n",
              " 'Dx:CIN',\n",
              " 'Dx:HPV',\n",
              " 'Dx',\n",
              " 'Hinselmann',\n",
              " 'Schiller',\n",
              " 'Citology',\n",
              " 'Biopsy']"
            ]
          },
          "execution_count": 50,
          "metadata": {},
          "output_type": "execute_result"
        }
      ],
      "source": [
        "dataframe.columns"
      ]
    },
    {
      "cell_type": "code",
      "execution_count": 19,
      "metadata": {
        "colab": {
          "base_uri": "https://localhost:8080/"
        },
        "id": "4UmERzerKT3J",
        "outputId": "5ed8fcda-cfb2-454d-feae-38ead888a660"
      },
      "outputs": [
        {
          "name": "stdout",
          "output_type": "stream",
          "text": [
            "+---+-------------------------+------------------------+------------------+------+--------------+-------------------+-----------------------+-------------------------------+----+-----------+----+-------------+-------------------+----------------------------+---------------------------+----------------------------------+-------------+--------------------------------+-------------------+--------------------------+---------+--------+----------------+--------+-------------------------+--------------------------------+-------------------------------+---------+------+------+---+----------+--------+--------+------+\n",
            "|Age|Number of sexual partners|First sexual intercourse|Num of pregnancies|Smokes|Smokes (years)|Smokes (packs/year)|Hormonal Contraceptives|Hormonal Contraceptives (years)| IUD|IUD (years)|STDs|STDs (number)|STDs:condylomatosis|STDs:cervical condylomatosis|STDs:vaginal condylomatosis|STDs:vulvo-perineal condylomatosis|STDs:syphilis|STDs:pelvic inflammatory disease|STDs:genital herpes|STDs:molluscum contagiosum|STDs:AIDS|STDs:HIV|STDs:Hepatitis B|STDs:HPV|STDs: Number of diagnosis|STDs: Time since first diagnosis|STDs: Time since last diagnosis|Dx:Cancer|Dx:CIN|Dx:HPV| Dx|Hinselmann|Schiller|Citology|Biopsy|\n",
            "+---+-------------------------+------------------------+------------------+------+--------------+-------------------+-----------------------+-------------------------------+----+-----------+----+-------------+-------------------+----------------------------+---------------------------+----------------------------------+-------------+--------------------------------+-------------------+--------------------------+---------+--------+----------------+--------+-------------------------+--------------------------------+-------------------------------+---------+------+------+---+----------+--------+--------+------+\n",
            "| 18|                      4.0|                    15.0|               1.0|   0.0|           0.0|                0.0|                    0.0|                            0.0| 0.0|        0.0| 0.0|          0.0|                0.0|                         0.0|                        0.0|                               0.0|          0.0|                             0.0|                0.0|                       0.0|      0.0|     0.0|             0.0|     0.0|                        0|                            null|                           null|        0|     0|     0|  0|         0|       0|       0|     0|\n",
            "| 15|                      1.0|                    14.0|               1.0|   0.0|           0.0|                0.0|                    0.0|                            0.0| 0.0|        0.0| 0.0|          0.0|                0.0|                         0.0|                        0.0|                               0.0|          0.0|                             0.0|                0.0|                       0.0|      0.0|     0.0|             0.0|     0.0|                        0|                            null|                           null|        0|     0|     0|  0|         0|       0|       0|     0|\n",
            "| 34|                      1.0|                    null|               1.0|   0.0|           0.0|                0.0|                    0.0|                            0.0| 0.0|        0.0| 0.0|          0.0|                0.0|                         0.0|                        0.0|                               0.0|          0.0|                             0.0|                0.0|                       0.0|      0.0|     0.0|             0.0|     0.0|                        0|                            null|                           null|        0|     0|     0|  0|         0|       0|       0|     0|\n",
            "| 52|                      5.0|                    16.0|               4.0|   1.0|          37.0|               37.0|                    1.0|                            3.0| 0.0|        0.0| 0.0|          0.0|                0.0|                         0.0|                        0.0|                               0.0|          0.0|                             0.0|                0.0|                       0.0|      0.0|     0.0|             0.0|     0.0|                        0|                            null|                           null|        1|     0|     1|  0|         0|       0|       0|     0|\n",
            "| 46|                      3.0|                    21.0|               4.0|   0.0|           0.0|                0.0|                    1.0|                           15.0| 0.0|        0.0| 0.0|          0.0|                0.0|                         0.0|                        0.0|                               0.0|          0.0|                             0.0|                0.0|                       0.0|      0.0|     0.0|             0.0|     0.0|                        0|                            null|                           null|        0|     0|     0|  0|         0|       0|       0|     0|\n",
            "| 42|                      3.0|                    23.0|               2.0|   0.0|           0.0|                0.0|                    0.0|                            0.0| 0.0|        0.0| 0.0|          0.0|                0.0|                         0.0|                        0.0|                               0.0|          0.0|                             0.0|                0.0|                       0.0|      0.0|     0.0|             0.0|     0.0|                        0|                            null|                           null|        0|     0|     0|  0|         0|       0|       0|     0|\n",
            "| 51|                      3.0|                    17.0|               6.0|   1.0|          34.0|                3.4|                    0.0|                            0.0| 1.0|        7.0| 0.0|          0.0|                0.0|                         0.0|                        0.0|                               0.0|          0.0|                             0.0|                0.0|                       0.0|      0.0|     0.0|             0.0|     0.0|                        0|                            null|                           null|        0|     0|     0|  0|         1|       1|       0|     1|\n",
            "| 26|                      1.0|                    26.0|               3.0|   0.0|           0.0|                0.0|                    1.0|                            2.0| 1.0|        7.0| 0.0|          0.0|                0.0|                         0.0|                        0.0|                               0.0|          0.0|                             0.0|                0.0|                       0.0|      0.0|     0.0|             0.0|     0.0|                        0|                            null|                           null|        0|     0|     0|  0|         0|       0|       0|     0|\n",
            "| 45|                      1.0|                    20.0|               5.0|   0.0|           0.0|                0.0|                    0.0|                            0.0| 0.0|        0.0| 0.0|          0.0|                0.0|                         0.0|                        0.0|                               0.0|          0.0|                             0.0|                0.0|                       0.0|      0.0|     0.0|             0.0|     0.0|                        0|                            null|                           null|        1|     0|     1|  1|         0|       0|       0|     0|\n",
            "| 44|                      3.0|                    15.0|              null|   1.0|     1.2669729|                2.8|                    0.0|                            0.0|null|       null| 0.0|          0.0|                0.0|                         0.0|                        0.0|                               0.0|          0.0|                             0.0|                0.0|                       0.0|      0.0|     0.0|             0.0|     0.0|                        0|                            null|                           null|        0|     0|     0|  0|         0|       0|       0|     0|\n",
            "| 44|                      3.0|                    26.0|               4.0|   0.0|           0.0|                0.0|                    1.0|                            2.0| 0.0|        0.0| 0.0|          0.0|                0.0|                         0.0|                        0.0|                               0.0|          0.0|                             0.0|                0.0|                       0.0|      0.0|     0.0|             0.0|     0.0|                        0|                            null|                           null|        0|     0|     0|  0|         0|       0|       0|     0|\n",
            "| 27|                      1.0|                    17.0|               3.0|   0.0|           0.0|                0.0|                    1.0|                            8.0| 0.0|        0.0| 0.0|          0.0|                0.0|                         0.0|                        0.0|                               0.0|          0.0|                             0.0|                0.0|                       0.0|      0.0|     0.0|             0.0|     0.0|                        0|                            null|                           null|        0|     0|     0|  0|         0|       0|       0|     0|\n",
            "| 45|                      4.0|                    14.0|               6.0|   0.0|           0.0|                0.0|                    1.0|                           10.0| 1.0|        5.0| 0.0|          0.0|                0.0|                         0.0|                        0.0|                               0.0|          0.0|                             0.0|                0.0|                       0.0|      0.0|     0.0|             0.0|     0.0|                        0|                            null|                           null|        0|     0|     0|  0|         0|       0|       0|     0|\n",
            "| 44|                      2.0|                    25.0|               2.0|   0.0|           0.0|                0.0|                    1.0|                            5.0| 0.0|        0.0| 0.0|          0.0|                0.0|                         0.0|                        0.0|                               0.0|          0.0|                             0.0|                0.0|                       0.0|      0.0|     0.0|             0.0|     0.0|                        0|                            null|                           null|        0|     0|     0|  0|         0|       0|       0|     0|\n",
            "| 43|                      2.0|                    18.0|               5.0|   0.0|           0.0|                0.0|                    0.0|                            0.0| 1.0|        8.0| 0.0|          0.0|                0.0|                         0.0|                        0.0|                               0.0|          0.0|                             0.0|                0.0|                       0.0|      0.0|     0.0|             0.0|     0.0|                        0|                            null|                           null|        0|     0|     0|  0|         0|       0|       0|     0|\n",
            "| 40|                      3.0|                    18.0|               2.0|   0.0|           0.0|                0.0|                    1.0|                           15.0| 0.0|        0.0| 0.0|          0.0|                0.0|                         0.0|                        0.0|                               0.0|          0.0|                             0.0|                0.0|                       0.0|      0.0|     0.0|             0.0|     0.0|                        0|                            null|                           null|        0|     0|     0|  0|         0|       0|       0|     0|\n",
            "| 41|                      4.0|                    21.0|               3.0|   0.0|           0.0|                0.0|                    1.0|                           0.25| 0.0|        0.0| 0.0|          0.0|                0.0|                         0.0|                        0.0|                               0.0|          0.0|                             0.0|                0.0|                       0.0|      0.0|     0.0|             0.0|     0.0|                        0|                            null|                           null|        0|     0|     0|  0|         0|       0|       0|     0|\n",
            "| 43|                      3.0|                    15.0|               8.0|   0.0|           0.0|                0.0|                    1.0|                            3.0| 0.0|        0.0| 0.0|          0.0|                0.0|                         0.0|                        0.0|                               0.0|          0.0|                             0.0|                0.0|                       0.0|      0.0|     0.0|             0.0|     0.0|                        0|                            null|                           null|        0|     0|     0|  0|         0|       0|       0|     0|\n",
            "| 42|                      2.0|                    20.0|              null|   0.0|           0.0|                0.0|                    1.0|                            7.0| 1.0|        6.0| 1.0|          2.0|                1.0|                         0.0|                        0.0|                               1.0|          0.0|                             0.0|                0.0|                       0.0|      0.0|     0.0|             0.0|     0.0|                        0|                            null|                           null|        0|     0|     0|  0|         0|       0|       0|     0|\n",
            "| 40|                      2.0|                    27.0|              null|   0.0|           0.0|                0.0|                    0.0|                            0.0| 1.0|        1.0| 0.0|          0.0|                0.0|                         0.0|                        0.0|                               0.0|          0.0|                             0.0|                0.0|                       0.0|      0.0|     0.0|             0.0|     0.0|                        0|                            null|                           null|        0|     0|     0|  0|         0|       0|       0|     0|\n",
            "+---+-------------------------+------------------------+------------------+------+--------------+-------------------+-----------------------+-------------------------------+----+-----------+----+-------------+-------------------+----------------------------+---------------------------+----------------------------------+-------------+--------------------------------+-------------------+--------------------------+---------+--------+----------------+--------+-------------------------+--------------------------------+-------------------------------+---------+------+------+---+----------+--------+--------+------+\n",
            "only showing top 20 rows\n",
            "\n"
          ]
        }
      ],
      "source": [
        "table_df = dataframe.select(dataframe.columns)\n",
        "table_df.show()"
      ]
    },
    {
      "cell_type": "code",
      "execution_count": 90,
      "metadata": {
        "colab": {
          "base_uri": "https://localhost:8080/"
        },
        "id": "2n6F0hGlc2l5",
        "outputId": "b98f9535-916d-40e4-90dd-4e70a37c9d71"
      },
      "outputs": [
        {
          "name": "stdout",
          "output_type": "stream",
          "text": [
            "+---+----------------------+------------------------+------------------+------+------------+---------------------+-----------------------+-----------------------------+----+---------+----+-----------+-------------------+----------------------------+---------------------------+----------------------------------+-------------+-------------------------------+-------------------+--------------------------+---------+--------+----------------+--------+---------------------+-------------------------------+-------------------------------+---------+------+------+---+----------+--------+--------+------+\n",
            "|age|num_of_sexual_partners|first_sexual_intercourse|num_of_pregnancies|smokes|smokes_years|smokes_packs_per_year|hormonal_contraceptives|hormonal_contraceptives_years| iud|iud_years|stds|stds_number|stds_condylomatosis|stds_cervical_condylomatosis|stds_vaginal_condylomatosis|stds_vulvo_perineal_condylomatosis|stds_syphilis|stds_pelvic_inflamatory_disease|stds_genital_herpes|stds_molluscum_contagiosum|stds_aids|stds_hiv|stds_hepatitis_b|stds_hpv|stds_num_of_diagnosis|stds_time_since_first_diagnosis|stds_times_since_last_diagnosis|dx_cancer|dx_cin|dx_hpv| dx|hinselmann|schiller|citology|biopsy|\n",
            "+---+----------------------+------------------------+------------------+------+------------+---------------------+-----------------------+-----------------------------+----+---------+----+-----------+-------------------+----------------------------+---------------------------+----------------------------------+-------------+-------------------------------+-------------------+--------------------------+---------+--------+----------------+--------+---------------------+-------------------------------+-------------------------------+---------+------+------+---+----------+--------+--------+------+\n",
            "| 18|                   4.0|                    15.0|               1.0|   0.0|         0.0|                  0.0|                    0.0|                          0.0| 0.0|      0.0| 0.0|        0.0|                0.0|                         0.0|                        0.0|                               0.0|          0.0|                            0.0|                0.0|                       0.0|      0.0|     0.0|             0.0|     0.0|                    0|                           null|                           null|        0|     0|     0|  0|         0|       0|       0|     0|\n",
            "| 15|                   1.0|                    14.0|               1.0|   0.0|         0.0|                  0.0|                    0.0|                          0.0| 0.0|      0.0| 0.0|        0.0|                0.0|                         0.0|                        0.0|                               0.0|          0.0|                            0.0|                0.0|                       0.0|      0.0|     0.0|             0.0|     0.0|                    0|                           null|                           null|        0|     0|     0|  0|         0|       0|       0|     0|\n",
            "| 34|                   1.0|                    null|               1.0|   0.0|         0.0|                  0.0|                    0.0|                          0.0| 0.0|      0.0| 0.0|        0.0|                0.0|                         0.0|                        0.0|                               0.0|          0.0|                            0.0|                0.0|                       0.0|      0.0|     0.0|             0.0|     0.0|                    0|                           null|                           null|        0|     0|     0|  0|         0|       0|       0|     0|\n",
            "| 52|                   5.0|                    16.0|               4.0|   1.0|        37.0|                 37.0|                    1.0|                          3.0| 0.0|      0.0| 0.0|        0.0|                0.0|                         0.0|                        0.0|                               0.0|          0.0|                            0.0|                0.0|                       0.0|      0.0|     0.0|             0.0|     0.0|                    0|                           null|                           null|        1|     0|     1|  0|         0|       0|       0|     0|\n",
            "| 46|                   3.0|                    21.0|               4.0|   0.0|         0.0|                  0.0|                    1.0|                         15.0| 0.0|      0.0| 0.0|        0.0|                0.0|                         0.0|                        0.0|                               0.0|          0.0|                            0.0|                0.0|                       0.0|      0.0|     0.0|             0.0|     0.0|                    0|                           null|                           null|        0|     0|     0|  0|         0|       0|       0|     0|\n",
            "| 42|                   3.0|                    23.0|               2.0|   0.0|         0.0|                  0.0|                    0.0|                          0.0| 0.0|      0.0| 0.0|        0.0|                0.0|                         0.0|                        0.0|                               0.0|          0.0|                            0.0|                0.0|                       0.0|      0.0|     0.0|             0.0|     0.0|                    0|                           null|                           null|        0|     0|     0|  0|         0|       0|       0|     0|\n",
            "| 51|                   3.0|                    17.0|               6.0|   1.0|        34.0|                  3.4|                    0.0|                          0.0| 1.0|      7.0| 0.0|        0.0|                0.0|                         0.0|                        0.0|                               0.0|          0.0|                            0.0|                0.0|                       0.0|      0.0|     0.0|             0.0|     0.0|                    0|                           null|                           null|        0|     0|     0|  0|         1|       1|       0|     1|\n",
            "| 26|                   1.0|                    26.0|               3.0|   0.0|         0.0|                  0.0|                    1.0|                          2.0| 1.0|      7.0| 0.0|        0.0|                0.0|                         0.0|                        0.0|                               0.0|          0.0|                            0.0|                0.0|                       0.0|      0.0|     0.0|             0.0|     0.0|                    0|                           null|                           null|        0|     0|     0|  0|         0|       0|       0|     0|\n",
            "| 45|                   1.0|                    20.0|               5.0|   0.0|         0.0|                  0.0|                    0.0|                          0.0| 0.0|      0.0| 0.0|        0.0|                0.0|                         0.0|                        0.0|                               0.0|          0.0|                            0.0|                0.0|                       0.0|      0.0|     0.0|             0.0|     0.0|                    0|                           null|                           null|        1|     0|     1|  1|         0|       0|       0|     0|\n",
            "| 44|                   3.0|                    15.0|              null|   1.0|   1.2669729|                  2.8|                    0.0|                          0.0|null|     null| 0.0|        0.0|                0.0|                         0.0|                        0.0|                               0.0|          0.0|                            0.0|                0.0|                       0.0|      0.0|     0.0|             0.0|     0.0|                    0|                           null|                           null|        0|     0|     0|  0|         0|       0|       0|     0|\n",
            "| 44|                   3.0|                    26.0|               4.0|   0.0|         0.0|                  0.0|                    1.0|                          2.0| 0.0|      0.0| 0.0|        0.0|                0.0|                         0.0|                        0.0|                               0.0|          0.0|                            0.0|                0.0|                       0.0|      0.0|     0.0|             0.0|     0.0|                    0|                           null|                           null|        0|     0|     0|  0|         0|       0|       0|     0|\n",
            "| 27|                   1.0|                    17.0|               3.0|   0.0|         0.0|                  0.0|                    1.0|                          8.0| 0.0|      0.0| 0.0|        0.0|                0.0|                         0.0|                        0.0|                               0.0|          0.0|                            0.0|                0.0|                       0.0|      0.0|     0.0|             0.0|     0.0|                    0|                           null|                           null|        0|     0|     0|  0|         0|       0|       0|     0|\n",
            "| 45|                   4.0|                    14.0|               6.0|   0.0|         0.0|                  0.0|                    1.0|                         10.0| 1.0|      5.0| 0.0|        0.0|                0.0|                         0.0|                        0.0|                               0.0|          0.0|                            0.0|                0.0|                       0.0|      0.0|     0.0|             0.0|     0.0|                    0|                           null|                           null|        0|     0|     0|  0|         0|       0|       0|     0|\n",
            "| 44|                   2.0|                    25.0|               2.0|   0.0|         0.0|                  0.0|                    1.0|                          5.0| 0.0|      0.0| 0.0|        0.0|                0.0|                         0.0|                        0.0|                               0.0|          0.0|                            0.0|                0.0|                       0.0|      0.0|     0.0|             0.0|     0.0|                    0|                           null|                           null|        0|     0|     0|  0|         0|       0|       0|     0|\n",
            "| 43|                   2.0|                    18.0|               5.0|   0.0|         0.0|                  0.0|                    0.0|                          0.0| 1.0|      8.0| 0.0|        0.0|                0.0|                         0.0|                        0.0|                               0.0|          0.0|                            0.0|                0.0|                       0.0|      0.0|     0.0|             0.0|     0.0|                    0|                           null|                           null|        0|     0|     0|  0|         0|       0|       0|     0|\n",
            "| 40|                   3.0|                    18.0|               2.0|   0.0|         0.0|                  0.0|                    1.0|                         15.0| 0.0|      0.0| 0.0|        0.0|                0.0|                         0.0|                        0.0|                               0.0|          0.0|                            0.0|                0.0|                       0.0|      0.0|     0.0|             0.0|     0.0|                    0|                           null|                           null|        0|     0|     0|  0|         0|       0|       0|     0|\n",
            "| 41|                   4.0|                    21.0|               3.0|   0.0|         0.0|                  0.0|                    1.0|                         0.25| 0.0|      0.0| 0.0|        0.0|                0.0|                         0.0|                        0.0|                               0.0|          0.0|                            0.0|                0.0|                       0.0|      0.0|     0.0|             0.0|     0.0|                    0|                           null|                           null|        0|     0|     0|  0|         0|       0|       0|     0|\n",
            "| 43|                   3.0|                    15.0|               8.0|   0.0|         0.0|                  0.0|                    1.0|                          3.0| 0.0|      0.0| 0.0|        0.0|                0.0|                         0.0|                        0.0|                               0.0|          0.0|                            0.0|                0.0|                       0.0|      0.0|     0.0|             0.0|     0.0|                    0|                           null|                           null|        0|     0|     0|  0|         0|       0|       0|     0|\n",
            "| 42|                   2.0|                    20.0|              null|   0.0|         0.0|                  0.0|                    1.0|                          7.0| 1.0|      6.0| 1.0|        2.0|                1.0|                         0.0|                        0.0|                               1.0|          0.0|                            0.0|                0.0|                       0.0|      0.0|     0.0|             0.0|     0.0|                    0|                           null|                           null|        0|     0|     0|  0|         0|       0|       0|     0|\n",
            "| 40|                   2.0|                    27.0|              null|   0.0|         0.0|                  0.0|                    0.0|                          0.0| 1.0|      1.0| 0.0|        0.0|                0.0|                         0.0|                        0.0|                               0.0|          0.0|                            0.0|                0.0|                       0.0|      0.0|     0.0|             0.0|     0.0|                    0|                           null|                           null|        0|     0|     0|  0|         0|       0|       0|     0|\n",
            "+---+----------------------+------------------------+------------------+------+------------+---------------------+-----------------------+-----------------------------+----+---------+----+-----------+-------------------+----------------------------+---------------------------+----------------------------------+-------------+-------------------------------+-------------------+--------------------------+---------+--------+----------------+--------+---------------------+-------------------------------+-------------------------------+---------+------+------+---+----------+--------+--------+------+\n",
            "only showing top 20 rows\n",
            "\n"
          ]
        }
      ],
      "source": [
        "### Rename Columns\n",
        "dataframe1 = dataframe.select(['Age',\n",
        " 'Number of sexual partners',\n",
        " 'First sexual intercourse',\n",
        " 'Num of pregnancies',\n",
        " 'Smokes',\n",
        " 'Smokes (years)',\n",
        " 'Smokes (packs/year)',\n",
        " 'Hormonal Contraceptives',\n",
        " 'Hormonal Contraceptives (years)',\n",
        " 'IUD',\n",
        " 'IUD (years)',\n",
        " 'STDs',\n",
        " 'STDs (number)',\n",
        " 'STDs:condylomatosis',\n",
        " 'STDs:cervical condylomatosis',\n",
        " 'STDs:vaginal condylomatosis',\n",
        " 'STDs:vulvo-perineal condylomatosis',\n",
        " 'STDs:syphilis',\n",
        " 'STDs:pelvic inflammatory disease',\n",
        " 'STDs:genital herpes',\n",
        " 'STDs:molluscum contagiosum',\n",
        " 'STDs:AIDS',\n",
        " 'STDs:HIV',\n",
        " 'STDs:Hepatitis B',\n",
        " 'STDs:HPV',\n",
        " 'STDs: Number of diagnosis',\n",
        " 'STDs: Time since first diagnosis',\n",
        " 'STDs: Time since last diagnosis',\n",
        " 'Dx:Cancer',\n",
        " 'Dx:CIN',\n",
        " 'Dx:HPV',\n",
        " 'Dx',\n",
        " 'Hinselmann',\n",
        " 'Schiller',\n",
        " 'Citology',\n",
        " 'Biopsy'])\n",
        "renamed_df = dataframe1.withColumnRenamed(\"Age\", \"age\")\\\n",
        "      .withColumnRenamed(\"Number of sexual partners\", \"num_of_sexual_partners\")\\\n",
        "      .withColumnRenamed(\"First sexual intercourse\", \"first_sexual_intercourse\")\\\n",
        "      .withColumnRenamed(\"Num of pregnancies\", \"num_of_pregnancies\")\\\n",
        "      .withColumnRenamed(\"Smokes\", \"smokes\")\\\n",
        "      .withColumnRenamed(\"Smokes (years)\", \"smokes_years\")\\\n",
        "      .withColumnRenamed(\"Smokes (packs/year)\", \"smokes_packs_per_year\")\\\n",
        "      .withColumnRenamed(\"Hormonal Contraceptives\", \"hormonal_contraceptives\")\\\n",
        "      .withColumnRenamed(\"Hormonal Contraceptives (years)\", \"hormonal_contraceptives_years\")\\\n",
        "      .withColumnRenamed(\"IUD\", \"iud\")\\\n",
        "      .withColumnRenamed(\"IUD (years)\", \"iud_years\")\\\n",
        "      .withColumnRenamed(\"STDs\", \"stds\")\\\n",
        "      .withColumnRenamed(\"STDs (number)\", \"stds_number\")\\\n",
        "      .withColumnRenamed(\"STDs:condylomatosis\", \"stds_condylomatosis\")\\\n",
        "      .withColumnRenamed(\"STDs:cervical condylomatosis\", \"stds_cervical_condylomatosis\")\\\n",
        "      .withColumnRenamed(\"STDs:vaginal condylomatosis\", \"stds_vaginal_condylomatosis\")\\\n",
        "      .withColumnRenamed(\"STDs:vulvo-perineal condylomatosis\", \"stds_vulvo_perineal_condylomatosis\")\\\n",
        "      .withColumnRenamed(\"STDs:syphilis\", \"stds_syphilis\")\\\n",
        "      .withColumnRenamed(\"STDs:pelvic inflammatory disease\", \"stds_pelvic_inflamatory_disease\")\\\n",
        "      .withColumnRenamed(\"STDs:genital herpes\", \"stds_genital_herpes\")\\\n",
        "      .withColumnRenamed(\"STDs:molluscum contagiosum\", \"stds_molluscum_contagiosum\")\\\n",
        "      .withColumnRenamed(\"STDs:AIDS\", \"stds_aids\")\\\n",
        "      .withColumnRenamed(\"STDs:HIV\", \"stds_hiv\")\\\n",
        "      .withColumnRenamed(\"STDs:Hepatitis B\", \"stds_hepatitis_b\")\\\n",
        "      .withColumnRenamed(\"STDs:HPV\", \"stds_hpv\")\\\n",
        "      .withColumnRenamed(\"STDs: Number of diagnosis\", \"stds_num_of_diagnosis\")\\\n",
        "      .withColumnRenamed(\"STDs: Time since first diagnosis\", \"stds_time_since_first_diagnosis\")\\\n",
        "      .withColumnRenamed(\"STDs: Time since last diagnosis\", \"stds_times_since_last_diagnosis\")\\\n",
        "      .withColumnRenamed(\"Dx:Cancer\", \"dx_cancer\")\\\n",
        "      .withColumnRenamed(\"Dx:CIN\", \"dx_cin\")\\\n",
        "      .withColumnRenamed(\"Dx:HPV\", \"dx_hpv\")\\\n",
        "      .withColumnRenamed(\"Dx\", \"dx\")\\\n",
        "      .withColumnRenamed(\"Hinselmann\", \"hinselmann\")\\\n",
        "      .withColumnRenamed(\"Schiller\", \"schiller\")\\\n",
        "      .withColumnRenamed(\"Citology\", \"citology\")\\\n",
        "      .withColumnRenamed(\"Biopsy\", \"biopsy\")\n",
        "renamed_df.show()\n",
        "\n"
      ]
    },
    {
      "cell_type": "code",
      "execution_count": 87,
      "metadata": {
        "colab": {
          "base_uri": "https://localhost:8080/"
        },
        "id": "6g-ecHcvl97B",
        "outputId": "f80f3f18-976b-4048-cd22-98dd8e7403b3"
      },
      "outputs": [
        {
          "data": {
            "text/plain": [
              "['age',\n",
              " 'num_of_sexual_partners',\n",
              " 'first_sexual_intercourse',\n",
              " 'num_of_pregnancies',\n",
              " 'smokes',\n",
              " 'smokes(years)',\n",
              " 'smokes(packs_per_year)',\n",
              " 'hormonal_contraceptives',\n",
              " 'hormonal_contraceptives(years)',\n",
              " 'iud',\n",
              " 'iud(years)',\n",
              " 'stds',\n",
              " 'stds_number',\n",
              " 'stds_condylomatosis',\n",
              " 'stds_cervical_condylomatosis',\n",
              " 'stds_vaginal_condylomatosis',\n",
              " 'stds_vulvo_perineal_condylomatosis',\n",
              " 'stds_syphilis',\n",
              " 'stds_pelvic_inflamatory_disease',\n",
              " 'stds_genital_herpes',\n",
              " 'stds_molluscum_contagiosum',\n",
              " 'stds_aids',\n",
              " 'stds_hiv',\n",
              " 'stds_hepatitis_b',\n",
              " 'stds_hpv',\n",
              " 'stds_num_of_diagnosis',\n",
              " 'stds_time_since_first_diagnosis',\n",
              " 'stds_times_since_last_diagnosis',\n",
              " 'dx_cancer',\n",
              " 'dx_cin',\n",
              " 'dx_hpv',\n",
              " 'dx',\n",
              " 'hinselmann',\n",
              " 'schiller',\n",
              " 'citology',\n",
              " 'biopsy']"
            ]
          },
          "execution_count": 87,
          "metadata": {},
          "output_type": "execute_result"
        }
      ],
      "source": [
        "renamed_df.columns"
      ]
    },
    {
      "cell_type": "markdown",
      "metadata": {
        "id": "oLm0UchJxFD6"
      },
      "source": [
        "# Configuration for RDS instance"
      ]
    },
    {
      "cell_type": "code",
      "execution_count": 97,
      "metadata": {
        "id": "y_ySQsg8rqrL"
      },
      "outputs": [],
      "source": [
        "mode = \"append\"\n",
        "jdbc_url=\"jdbc:postgresql://<endpoint>:5432/cancer_risk_db\"\n",
        "config = {\"user\":\"<user>\", \"password\": \"<password>\", \"driver\":\"org.postgresql.Driver\"}"
      ]
    },
    {
      "cell_type": "markdown",
      "metadata": {
        "id": "R-Yma_TQxYTp"
      },
      "source": [
        "# Write DataFrames to tables to AWS RDS"
      ]
    },
    {
      "cell_type": "code",
      "execution_count": 92,
      "metadata": {
        "id": "uaFOlNGDrsfH"
      },
      "outputs": [],
      "source": [
        "# Write review_id_df to table in RDS\n",
        "renamed_df.write.jdbc(url=jdbc_url, table='cancer_risk', mode=mode, properties=config)"
      ]
    },
    {
      "cell_type": "markdown",
      "metadata": {
        "id": "qKYCWDCOxiN6"
      },
      "source": [
        "# Read table from AWS RDS"
      ]
    },
    {
      "cell_type": "code",
      "execution_count": 101,
      "metadata": {
        "colab": {
          "base_uri": "https://localhost:8080/"
        },
        "id": "j7A5nc9wui_F",
        "outputId": "fcc23cc7-b3b0-423f-dbfe-a3c4a0ecc263"
      },
      "outputs": [
        {
          "name": "stdout",
          "output_type": "stream",
          "text": [
            "+---+----------------------+------------------------+------------------+------+------------------+---------------------+-----------------------+-----------------------------+----+---------+----+-----------+-------------------+----------------------------+---------------------------+----------------------------------+-------------+-------------------------------+-------------------+--------------------------+---------+--------+----------------+--------+---------------------+-------------------------------+-------------------------------+---------+------+------+---+----------+--------+--------+------+\n",
            "|age|num_of_sexual_partners|first_sexual_intercourse|num_of_pregnancies|smokes|      smokes_years|smokes_packs_per_year|hormonal_contraceptives|hormonal_contraceptives_years| iud|iud_years|stds|stds_number|stds_condylomatosis|stds_cervical_condylomatosis|stds_vaginal_condylomatosis|stds_vulvo_perineal_condylomatosis|stds_syphilis|stds_pelvic_inflamatory_disease|stds_genital_herpes|stds_molluscum_contagiosum|stds_aids|stds_hiv|stds_hepatitis_b|stds_hpv|stds_num_of_diagnosis|stds_time_since_first_diagnosis|stds_times_since_last_diagnosis|dx_cancer|dx_cin|dx_hpv| dx|hinselmann|schiller|citology|biopsy|\n",
            "+---+----------------------+------------------------+------------------+------+------------------+---------------------+-----------------------+-----------------------------+----+---------+----+-----------+-------------------+----------------------------+---------------------------+----------------------------------+-------------+-------------------------------+-------------------+--------------------------+---------+--------+----------------+--------+---------------------+-------------------------------+-------------------------------+---------+------+------+---+----------+--------+--------+------+\n",
            "| 18|                   4.0|                    15.0|               1.0|   0.0|               0.0|                  0.0|                    0.0|                          0.0| 0.0|      0.0| 0.0|        0.0|                0.0|                         0.0|                        0.0|                               0.0|          0.0|                            0.0|                0.0|                       0.0|      0.0|     0.0|             0.0|     0.0|                    0|                           null|                           null|        0|     0|     0|  0|         0|       0|       0|     0|\n",
            "| 15|                   1.0|                    14.0|               1.0|   0.0|               0.0|                  0.0|                    0.0|                          0.0| 0.0|      0.0| 0.0|        0.0|                0.0|                         0.0|                        0.0|                               0.0|          0.0|                            0.0|                0.0|                       0.0|      0.0|     0.0|             0.0|     0.0|                    0|                           null|                           null|        0|     0|     0|  0|         0|       0|       0|     0|\n",
            "| 34|                   1.0|                    null|               1.0|   0.0|               0.0|                  0.0|                    0.0|                          0.0| 0.0|      0.0| 0.0|        0.0|                0.0|                         0.0|                        0.0|                               0.0|          0.0|                            0.0|                0.0|                       0.0|      0.0|     0.0|             0.0|     0.0|                    0|                           null|                           null|        0|     0|     0|  0|         0|       0|       0|     0|\n",
            "| 52|                   5.0|                    16.0|               4.0|   1.0|              37.0|                 37.0|                    1.0|                          3.0| 0.0|      0.0| 0.0|        0.0|                0.0|                         0.0|                        0.0|                               0.0|          0.0|                            0.0|                0.0|                       0.0|      0.0|     0.0|             0.0|     0.0|                    0|                           null|                           null|        1|     0|     1|  0|         0|       0|       0|     0|\n",
            "| 46|                   3.0|                    21.0|               4.0|   0.0|               0.0|                  0.0|                    1.0|                         15.0| 0.0|      0.0| 0.0|        0.0|                0.0|                         0.0|                        0.0|                               0.0|          0.0|                            0.0|                0.0|                       0.0|      0.0|     0.0|             0.0|     0.0|                    0|                           null|                           null|        0|     0|     0|  0|         0|       0|       0|     0|\n",
            "| 42|                   3.0|                    23.0|               2.0|   0.0|               0.0|                  0.0|                    0.0|                          0.0| 0.0|      0.0| 0.0|        0.0|                0.0|                         0.0|                        0.0|                               0.0|          0.0|                            0.0|                0.0|                       0.0|      0.0|     0.0|             0.0|     0.0|                    0|                           null|                           null|        0|     0|     0|  0|         0|       0|       0|     0|\n",
            "| 51|                   3.0|                    17.0|               6.0|   1.0|              34.0|   3.4000000953674316|                    0.0|                          0.0| 1.0|      7.0| 0.0|        0.0|                0.0|                         0.0|                        0.0|                               0.0|          0.0|                            0.0|                0.0|                       0.0|      0.0|     0.0|             0.0|     0.0|                    0|                           null|                           null|        0|     0|     0|  0|         1|       1|       0|     1|\n",
            "| 26|                   1.0|                    26.0|               3.0|   0.0|               0.0|                  0.0|                    1.0|                          2.0| 1.0|      7.0| 0.0|        0.0|                0.0|                         0.0|                        0.0|                               0.0|          0.0|                            0.0|                0.0|                       0.0|      0.0|     0.0|             0.0|     0.0|                    0|                           null|                           null|        0|     0|     0|  0|         0|       0|       0|     0|\n",
            "| 45|                   1.0|                    20.0|               5.0|   0.0|               0.0|                  0.0|                    0.0|                          0.0| 0.0|      0.0| 0.0|        0.0|                0.0|                         0.0|                        0.0|                               0.0|          0.0|                            0.0|                0.0|                       0.0|      0.0|     0.0|             0.0|     0.0|                    0|                           null|                           null|        1|     0|     1|  1|         0|       0|       0|     0|\n",
            "| 44|                   3.0|                    15.0|              null|   1.0|1.2669728994369507|    2.799999952316284|                    0.0|                          0.0|null|     null| 0.0|        0.0|                0.0|                         0.0|                        0.0|                               0.0|          0.0|                            0.0|                0.0|                       0.0|      0.0|     0.0|             0.0|     0.0|                    0|                           null|                           null|        0|     0|     0|  0|         0|       0|       0|     0|\n",
            "| 44|                   3.0|                    26.0|               4.0|   0.0|               0.0|                  0.0|                    1.0|                          2.0| 0.0|      0.0| 0.0|        0.0|                0.0|                         0.0|                        0.0|                               0.0|          0.0|                            0.0|                0.0|                       0.0|      0.0|     0.0|             0.0|     0.0|                    0|                           null|                           null|        0|     0|     0|  0|         0|       0|       0|     0|\n",
            "| 27|                   1.0|                    17.0|               3.0|   0.0|               0.0|                  0.0|                    1.0|                          8.0| 0.0|      0.0| 0.0|        0.0|                0.0|                         0.0|                        0.0|                               0.0|          0.0|                            0.0|                0.0|                       0.0|      0.0|     0.0|             0.0|     0.0|                    0|                           null|                           null|        0|     0|     0|  0|         0|       0|       0|     0|\n",
            "| 45|                   4.0|                    14.0|               6.0|   0.0|               0.0|                  0.0|                    1.0|                         10.0| 1.0|      5.0| 0.0|        0.0|                0.0|                         0.0|                        0.0|                               0.0|          0.0|                            0.0|                0.0|                       0.0|      0.0|     0.0|             0.0|     0.0|                    0|                           null|                           null|        0|     0|     0|  0|         0|       0|       0|     0|\n",
            "| 44|                   2.0|                    25.0|               2.0|   0.0|               0.0|                  0.0|                    1.0|                          5.0| 0.0|      0.0| 0.0|        0.0|                0.0|                         0.0|                        0.0|                               0.0|          0.0|                            0.0|                0.0|                       0.0|      0.0|     0.0|             0.0|     0.0|                    0|                           null|                           null|        0|     0|     0|  0|         0|       0|       0|     0|\n",
            "| 43|                   2.0|                    18.0|               5.0|   0.0|               0.0|                  0.0|                    0.0|                          0.0| 1.0|      8.0| 0.0|        0.0|                0.0|                         0.0|                        0.0|                               0.0|          0.0|                            0.0|                0.0|                       0.0|      0.0|     0.0|             0.0|     0.0|                    0|                           null|                           null|        0|     0|     0|  0|         0|       0|       0|     0|\n",
            "| 40|                   3.0|                    18.0|               2.0|   0.0|               0.0|                  0.0|                    1.0|                         15.0| 0.0|      0.0| 0.0|        0.0|                0.0|                         0.0|                        0.0|                               0.0|          0.0|                            0.0|                0.0|                       0.0|      0.0|     0.0|             0.0|     0.0|                    0|                           null|                           null|        0|     0|     0|  0|         0|       0|       0|     0|\n",
            "| 41|                   4.0|                    21.0|               3.0|   0.0|               0.0|                  0.0|                    1.0|                         0.25| 0.0|      0.0| 0.0|        0.0|                0.0|                         0.0|                        0.0|                               0.0|          0.0|                            0.0|                0.0|                       0.0|      0.0|     0.0|             0.0|     0.0|                    0|                           null|                           null|        0|     0|     0|  0|         0|       0|       0|     0|\n",
            "| 43|                   3.0|                    15.0|               8.0|   0.0|               0.0|                  0.0|                    1.0|                          3.0| 0.0|      0.0| 0.0|        0.0|                0.0|                         0.0|                        0.0|                               0.0|          0.0|                            0.0|                0.0|                       0.0|      0.0|     0.0|             0.0|     0.0|                    0|                           null|                           null|        0|     0|     0|  0|         0|       0|       0|     0|\n",
            "| 42|                   2.0|                    20.0|              null|   0.0|               0.0|                  0.0|                    1.0|                          7.0| 1.0|      6.0| 1.0|        2.0|                1.0|                         0.0|                        0.0|                               1.0|          0.0|                            0.0|                0.0|                       0.0|      0.0|     0.0|             0.0|     0.0|                    0|                           null|                           null|        0|     0|     0|  0|         0|       0|       0|     0|\n",
            "| 40|                   2.0|                    27.0|              null|   0.0|               0.0|                  0.0|                    0.0|                          0.0| 1.0|      1.0| 0.0|        0.0|                0.0|                         0.0|                        0.0|                               0.0|          0.0|                            0.0|                0.0|                       0.0|      0.0|     0.0|             0.0|     0.0|                    0|                           null|                           null|        0|     0|     0|  0|         0|       0|       0|     0|\n",
            "+---+----------------------+------------------------+------------------+------+------------------+---------------------+-----------------------+-----------------------------+----+---------+----+-----------+-------------------+----------------------------+---------------------------+----------------------------------+-------------+-------------------------------+-------------------+--------------------------+---------+--------+----------------+--------+---------------------+-------------------------------+-------------------------------+---------+------+------+---+----------+--------+--------+------+\n",
            "only showing top 20 rows\n",
            "\n"
          ]
        }
      ],
      "source": [
        "from pyspark.sql import SparkSession\n",
        "spark = SparkSession.builder.config('spark.driver.extraClassPath', '/path/to/postgresql.jar').getOrCreate()\n",
        "url = 'jdbc:postgresql://<endpoint>:5432/cancer_risk_db'\n",
        "properties = {'user': '<user>', 'password': '<password>'}\n",
        "postgres_df = spark.read.jdbc(url=url, table='cancer_risk', properties=properties)\n",
        "postgres_df.show()"
      ]
    },
    {
      "cell_type": "markdown",
      "metadata": {
        "id": "FXmhctgXyqM_"
      },
      "source": [
        "# Run Queries"
      ]
    },
    {
      "cell_type": "code",
      "execution_count": 102,
      "metadata": {
        "colab": {
          "base_uri": "https://localhost:8080/"
        },
        "id": "q1LkRgHEvslD",
        "outputId": "a155632c-30aa-4e8a-ca2b-b8795b790c3a"
      },
      "outputs": [
        {
          "name": "stdout",
          "output_type": "stream",
          "text": [
            "+------+------------------+---------------------+\n",
            "|smokes|      smokes_years|smokes_packs_per_year|\n",
            "+------+------------------+---------------------+\n",
            "|   0.0|               0.0|                  0.0|\n",
            "|   0.0|               0.0|                  0.0|\n",
            "|   0.0|               0.0|                  0.0|\n",
            "|   1.0|              37.0|                 37.0|\n",
            "|   0.0|               0.0|                  0.0|\n",
            "|   0.0|               0.0|                  0.0|\n",
            "|   1.0|              34.0|   3.4000000953674316|\n",
            "|   0.0|               0.0|                  0.0|\n",
            "|   0.0|               0.0|                  0.0|\n",
            "|   1.0|1.2669728994369507|    2.799999952316284|\n",
            "|   0.0|               0.0|                  0.0|\n",
            "|   0.0|               0.0|                  0.0|\n",
            "|   0.0|               0.0|                  0.0|\n",
            "|   0.0|               0.0|                  0.0|\n",
            "|   0.0|               0.0|                  0.0|\n",
            "|   0.0|               0.0|                  0.0|\n",
            "|   0.0|               0.0|                  0.0|\n",
            "|   0.0|               0.0|                  0.0|\n",
            "|   0.0|               0.0|                  0.0|\n",
            "|   0.0|               0.0|                  0.0|\n",
            "+------+------------------+---------------------+\n",
            "only showing top 20 rows\n",
            "\n"
          ]
        }
      ],
      "source": [
        "smokes_df = postgres_df.select([\"smokes\", \"smokes_years\", \"smokes_packs_per_year\"])\n",
        "smokes_df.show()"
      ]
    },
    {
      "cell_type": "code",
      "execution_count": 103,
      "metadata": {
        "colab": {
          "base_uri": "https://localhost:8080/"
        },
        "id": "K6GBnhnGyEW-",
        "outputId": "b431745f-7183-42be-c569-f6bdc6fb1d3b"
      },
      "outputs": [
        {
          "name": "stdout",
          "output_type": "stream",
          "text": [
            "+-------+-----------------+----------------------+------------------------+------------------+-------------------+------------------+---------------------+-----------------------+-----------------------------+-------------------+------------------+-------------------+-------------------+-------------------+----------------------------+---------------------------+----------------------------------+-------------------+-------------------------------+--------------------+--------------------------+---------+-------------------+--------------------+--------------------+---------------------+-------------------------------+-------------------------------+-------------------+-------------------+-------------------+--------------------+-------------------+-------------------+-------------------+------------------+\n",
            "|summary|              age|num_of_sexual_partners|first_sexual_intercourse|num_of_pregnancies|             smokes|      smokes_years|smokes_packs_per_year|hormonal_contraceptives|hormonal_contraceptives_years|                iud|         iud_years|               stds|        stds_number|stds_condylomatosis|stds_cervical_condylomatosis|stds_vaginal_condylomatosis|stds_vulvo_perineal_condylomatosis|      stds_syphilis|stds_pelvic_inflamatory_disease| stds_genital_herpes|stds_molluscum_contagiosum|stds_aids|           stds_hiv|    stds_hepatitis_b|            stds_hpv|stds_num_of_diagnosis|stds_time_since_first_diagnosis|stds_times_since_last_diagnosis|          dx_cancer|             dx_cin|             dx_hpv|                  dx|         hinselmann|           schiller|           citology|            biopsy|\n",
            "+-------+-----------------+----------------------+------------------------+------------------+-------------------+------------------+---------------------+-----------------------+-----------------------------+-------------------+------------------+-------------------+-------------------+-------------------+----------------------------+---------------------------+----------------------------------+-------------------+-------------------------------+--------------------+--------------------------+---------+-------------------+--------------------+--------------------+---------------------+-------------------------------+-------------------------------+-------------------+-------------------+-------------------+--------------------+-------------------+-------------------+-------------------+------------------+\n",
            "|  count|              858|                   832|                     851|               802|                845|               845|                  845|                    750|                          750|                741|               741|                753|                753|                753|                         753|                        753|                               753|                753|                            753|                 753|                       753|      753|                753|                 753|                 753|                  858|                             71|                             71|                858|                858|                858|                 858|                858|                858|                858|               858|\n",
            "|   mean|26.82051282051282|     2.527644230769231|      16.995299647473562| 2.275561097256858| 0.1455621301775148|1.2197214124118083|   0.4531439508662763|     0.6413333333333333|               2.256419201533|0.11201079622132254|0.5148043185070298| 0.1049136786188579|0.17662682602921648|0.05843293492695883|                         0.0|       0.005312084993359893|              0.057104913678618856|0.02390438247011952|           0.001328021248339...|0.001328021248339...|      0.001328021248339...|      0.0|0.02390438247011952|0.001328021248339...|0.002656042496679...|  0.08741258741258741|              6.140845070422535|              5.816901408450704|0.02097902097902098|0.01048951048951049|0.02097902097902098|0.027972027972027972|0.04079254079254079|0.08624708624708624|0.05128205128205128|0.0641025641025641|\n",
            "| stddev|8.497948065482596|     1.667760477183906|      2.8033553841969003|1.4474140691327386|0.35287555703640183|  4.08901693756213|    2.226609802278431|     0.4799291595848793|            3.764253529164916| 0.3155927582700102|1.9430885475382702|0.30664584575624276|   0.56199283535662|0.23471619027599683|                         0.0|          0.072738526001899|                0.2321972082083671|0.15285284048760808|            0.03644202585395018| 0.03644202585395019|      0.036442025853950184|      0.0|  0.152852840487608|0.036442025853950184|0.051502529309489134|   0.3025447418507475|              5.895023990373787|             5.7552705264824855|0.14339758611656575|0.10193915867747848|0.14339758611656583|  0.1649888484215437|0.19792464966613463|0.28089230136862575|0.22070109393249157|0.2450784147471605|\n",
            "|    min|               13|                   1.0|                    10.0|               0.0|                0.0|               0.0|                  0.0|                    0.0|                          0.0|                0.0|               0.0|                0.0|                0.0|                0.0|                         0.0|                        0.0|                               0.0|                0.0|                            0.0|                 0.0|                       0.0|      0.0|                0.0|                 0.0|                 0.0|                    0|                            1.0|                            1.0|                  0|                  0|                  0|                   0|                  0|                  0|                  0|                 0|\n",
            "|    25%|               20|                   2.0|                    15.0|               1.0|                0.0|               0.0|                  0.0|                    0.0|                          0.0|                0.0|               0.0|                0.0|                0.0|                0.0|                         0.0|                        0.0|                               0.0|                0.0|                            0.0|                 0.0|                       0.0|      0.0|                0.0|                 0.0|                 0.0|                    0|                            2.0|                            2.0|                  0|                  0|                  0|                   0|                  0|                  0|                  0|                 0|\n",
            "|    50%|               25|                   2.0|                    17.0|               2.0|                0.0|               0.0|                  0.0|                    1.0|                          0.5|                0.0|               0.0|                0.0|                0.0|                0.0|                         0.0|                        0.0|                               0.0|                0.0|                            0.0|                 0.0|                       0.0|      0.0|                0.0|                 0.0|                 0.0|                    0|                            4.0|                            3.0|                  0|                  0|                  0|                   0|                  0|                  0|                  0|                 0|\n",
            "|    75%|               32|                   3.0|                    18.0|               3.0|                0.0|               0.0|                  0.0|                    1.0|                          3.0|                0.0|               0.0|                0.0|                0.0|                0.0|                         0.0|                        0.0|                               0.0|                0.0|                            0.0|                 0.0|                       0.0|      0.0|                0.0|                 0.0|                 0.0|                    0|                            8.0|                            8.0|                  0|                  0|                  0|                   0|                  0|                  0|                  0|                 0|\n",
            "|    max|               84|                  28.0|                    32.0|              11.0|                1.0|              37.0|                 37.0|                    1.0|                         30.0|                1.0|              19.0|                1.0|                4.0|                1.0|                         0.0|                        1.0|                               1.0|                1.0|                            1.0|                 1.0|                       1.0|      0.0|                1.0|                 1.0|                 1.0|                    3|                           22.0|                           22.0|                  1|                  1|                  1|                   1|                  1|                  1|                  1|                 1|\n",
            "+-------+-----------------+----------------------+------------------------+------------------+-------------------+------------------+---------------------+-----------------------+-----------------------------+-------------------+------------------+-------------------+-------------------+-------------------+----------------------------+---------------------------+----------------------------------+-------------------+-------------------------------+--------------------+--------------------------+---------+-------------------+--------------------+--------------------+---------------------+-------------------------------+-------------------------------+-------------------+-------------------+-------------------+--------------------+-------------------+-------------------+-------------------+------------------+\n",
            "\n"
          ]
        }
      ],
      "source": [
        "postgres_df.summary().show()"
      ]
    }
  ],
  "metadata": {
    "colab": {
      "collapsed_sections": [],
      "provenance": []
    },
    "kernelspec": {
      "display_name": "Python 3",
      "name": "python3"
    },
    "language_info": {
      "name": "python"
    }
  },
  "nbformat": 4,
  "nbformat_minor": 0
}
