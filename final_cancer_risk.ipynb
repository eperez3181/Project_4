{
  "cells": [
    {
      "cell_type": "markdown",
      "source": [
        "# Cloud ETL - Cervical Cancer Risk"
      ],
      "metadata": {
        "id": "X6AXykTex_Gj"
      }
    },
    {
      "cell_type": "code",
      "execution_count": 1,
      "metadata": {
        "colab": {
          "base_uri": "https://localhost:8080/"
        },
        "id": "MijGLJHMcZus",
        "outputId": "709e4a45-3f02-4e0f-e026-7361a097ff2e"
      },
      "outputs": [
        {
          "output_type": "stream",
          "name": "stdout",
          "text": [
            "\r0% [Working]\r            \rHit:1 http://ppa.launchpad.net/c2d4u.team/c2d4u4.0+/ubuntu bionic InRelease\n",
            "\r0% [Connecting to archive.ubuntu.com (185.125.190.36)] [Waiting for headers] [C\r                                                                               \rHit:2 http://archive.ubuntu.com/ubuntu bionic InRelease\n",
            "\r                                                                               \rGet:3 http://security.ubuntu.com/ubuntu bionic-security InRelease [88.7 kB]\n",
            "\r                                                                               \rHit:4 http://ppa.launchpad.net/cran/libgit2/ubuntu bionic InRelease\n",
            "\r0% [Waiting for headers] [3 InRelease 48.9 kB/88.7 kB 55%] [Connected to cloud.\r0% [1 InRelease gpgv 15.9 kB] [Waiting for headers] [3 InRelease 48.9 kB/88.7 k\r                                                                               \rGet:5 http://archive.ubuntu.com/ubuntu bionic-updates InRelease [88.7 kB]\n",
            "\r0% [1 InRelease gpgv 15.9 kB] [5 InRelease 14.2 kB/88.7 kB 16%] [3 InRelease 62\r0% [1 InRelease gpgv 15.9 kB] [5 InRelease 15.6 kB/88.7 kB 18%] [Waiting for he\r                                                                               \rGet:6 https://cloud.r-project.org/bin/linux/ubuntu bionic-cran40/ InRelease [3,626 B]\n",
            "\r0% [1 InRelease gpgv 15.9 kB] [5 InRelease 15.6 kB/88.7 kB 18%] [Waiting for he\r                                                                               \rHit:7 http://ppa.launchpad.net/deadsnakes/ppa/ubuntu bionic InRelease\n",
            "\r0% [1 InRelease gpgv 15.9 kB] [5 InRelease 38.8 kB/88.7 kB 44%] [Waiting for he\r0% [1 InRelease gpgv 15.9 kB] [Waiting for headers] [Waiting for headers] [Wait\r                                                                               \rGet:8 http://archive.ubuntu.com/ubuntu bionic-backports InRelease [83.3 kB]\n",
            "Get:9 http://ppa.launchpad.net/graphics-drivers/ppa/ubuntu bionic InRelease [21.3 kB]\n",
            "Ign:10 https://developer.download.nvidia.com/compute/machine-learning/repos/ubuntu1804/x86_64  InRelease\n",
            "Get:11 https://developer.download.nvidia.com/compute/cuda/repos/ubuntu1804/x86_64  InRelease [1,581 B]\n",
            "Hit:12 https://developer.download.nvidia.com/compute/machine-learning/repos/ubuntu1804/x86_64  Release\n",
            "Get:13 http://security.ubuntu.com/ubuntu bionic-security/main amd64 Packages [2,990 kB]\n",
            "Get:14 http://security.ubuntu.com/ubuntu bionic-security/universe amd64 Packages [1,546 kB]\n",
            "Get:15 http://archive.ubuntu.com/ubuntu bionic-updates/universe amd64 Packages [2,323 kB]\n",
            "Get:16 http://archive.ubuntu.com/ubuntu bionic-updates/main amd64 Packages [3,422 kB]\n",
            "Get:17 http://ppa.launchpad.net/graphics-drivers/ppa/ubuntu bionic/main amd64 Packages [48.3 kB]\n",
            "Get:18 https://developer.download.nvidia.com/compute/cuda/repos/ubuntu1804/x86_64  Packages [913 kB]\n",
            "Fetched 11.5 MB in 2s (5,281 kB/s)\n",
            "Reading package lists... Done\n"
          ]
        }
      ],
      "source": [
        "import os\n",
        "# Find the latest version of spark 3.2  from http://www.apache.org/dist/spark/ and enter as the spark version\n",
        "# For example:\n",
        "# spark_version = 'spark-3.2.2'\n",
        "spark_version = 'spark-3.3.0'\n",
        "os.environ['SPARK_VERSION']=spark_version\n",
        "\n",
        "# Install Spark and Java\n",
        "!apt-get update\n",
        "!apt-get install --only-upgrade openjdk-11-jdk-headless -qq > /dev/null\n",
        "!wget -q -c http://www.apache.org/dist/spark/$SPARK_VERSION/$SPARK_VERSION-bin-hadoop3.tgz\n",
        "!tar xf $SPARK_VERSION-bin-hadoop3.tgz\n",
        "!pip install -q findspark\n",
        "\n",
        "# Set Environment Variables\n",
        "import os\n",
        "os.environ[\"JAVA_HOME\"] = \"/usr/lib/jvm/java-11-openjdk-amd64\"\n",
        "os.environ[\"SPARK_HOME\"] = f\"/content/{spark_version}-bin-hadoop3\"\n",
        "\n",
        "# Start a SparkSession\n",
        "import findspark\n",
        "findspark.init()"
      ]
    },
    {
      "cell_type": "code",
      "execution_count": 2,
      "metadata": {
        "colab": {
          "base_uri": "https://localhost:8080/"
        },
        "id": "js46PXxzcoDt",
        "outputId": "d2e36b05-e1cc-46af-ad6d-9f912ce60b30"
      },
      "outputs": [
        {
          "output_type": "stream",
          "name": "stdout",
          "text": [
            "--2022-09-30 19:08:04--  https://jdbc.postgresql.org/download/postgresql-42.2.9.jar\n",
            "Resolving jdbc.postgresql.org (jdbc.postgresql.org)... 72.32.157.228, 2001:4800:3e1:1::228\n",
            "Connecting to jdbc.postgresql.org (jdbc.postgresql.org)|72.32.157.228|:443... connected.\n",
            "HTTP request sent, awaiting response... 200 OK\n",
            "Length: 914037 (893K) [application/java-archive]\n",
            "Saving to: ‘postgresql-42.2.9.jar’\n",
            "\n",
            "postgresql-42.2.9.j 100%[===================>] 892.61K  1.66MB/s    in 0.5s    \n",
            "\n",
            "2022-09-30 19:08:05 (1.66 MB/s) - ‘postgresql-42.2.9.jar’ saved [914037/914037]\n",
            "\n"
          ]
        }
      ],
      "source": [
        "!wget -c https://jdbc.postgresql.org/download/postgresql-42.2.9.jar\n"
      ]
    },
    {
      "cell_type": "code",
      "source": [
        "from pyspark.sql import SparkSession\n",
        "spark = SparkSession.builder.appName(\"Cloud-ETL\").config(\"spark.driver.extraClassPath\",\"/content/postgresql-42.2.9.jar\").getOrCreate()"
      ],
      "metadata": {
        "id": "3XnmVO3Z7mYw"
      },
      "execution_count": 3,
      "outputs": []
    },
    {
      "cell_type": "code",
      "source": [
        "# Read in data from S3 Buckets\n",
        "from pyspark import SparkFiles\n",
        "url=\"https://final093022.s3.us-west-1.amazonaws.com/kag_risk_factors_cervical_cancer.csv\"\n",
        "spark.sparkContext.addFile(url)\n",
        "risk_factors_df = spark.read.csv(SparkFiles.get(\"kag_risk_factors_cervical_cancer.csv\"), sep=\",\", header=True, inferSchema=True)\n",
        "\n",
        "# Show DataFrame\n",
        "risk_factors_df.show()"
      ],
      "metadata": {
        "colab": {
          "base_uri": "https://localhost:8080/"
        },
        "id": "31QbzpXs74vW",
        "outputId": "fcb3ffe6-3d80-4142-c01e-de4bb35bc21a"
      },
      "execution_count": 4,
      "outputs": [
        {
          "output_type": "stream",
          "name": "stdout",
          "text": [
            "+---+-------------------------+------------------------+------------------+------+--------------+-------------------+-----------------------+-------------------------------+---+-----------+----+-------------+-------------------+----------------------------+---------------------------+----------------------------------+-------------+--------------------------------+-------------------+--------------------------+---------+--------+----------------+--------+-------------------------+--------------------------------+-------------------------------+---------+------+------+---+----------+--------+--------+------+\n",
            "|Age|Number of sexual partners|First sexual intercourse|Num of pregnancies|Smokes|Smokes (years)|Smokes (packs/year)|Hormonal Contraceptives|Hormonal Contraceptives (years)|IUD|IUD (years)|STDs|STDs (number)|STDs:condylomatosis|STDs:cervical condylomatosis|STDs:vaginal condylomatosis|STDs:vulvo-perineal condylomatosis|STDs:syphilis|STDs:pelvic inflammatory disease|STDs:genital herpes|STDs:molluscum contagiosum|STDs:AIDS|STDs:HIV|STDs:Hepatitis B|STDs:HPV|STDs: Number of diagnosis|STDs: Time since first diagnosis|STDs: Time since last diagnosis|Dx:Cancer|Dx:CIN|Dx:HPV| Dx|Hinselmann|Schiller|Citology|Biopsy|\n",
            "+---+-------------------------+------------------------+------------------+------+--------------+-------------------+-----------------------+-------------------------------+---+-----------+----+-------------+-------------------+----------------------------+---------------------------+----------------------------------+-------------+--------------------------------+-------------------+--------------------------+---------+--------+----------------+--------+-------------------------+--------------------------------+-------------------------------+---------+------+------+---+----------+--------+--------+------+\n",
            "| 18|                      4.0|                    15.0|               1.0|   0.0|           0.0|                0.0|                    0.0|                            0.0|0.0|        0.0| 0.0|          0.0|                0.0|                         0.0|                        0.0|                               0.0|          0.0|                             0.0|                0.0|                       0.0|      0.0|     0.0|             0.0|     0.0|                        0|                               ?|                              ?|        0|     0|     0|  0|         0|       0|       0|     0|\n",
            "| 15|                      1.0|                    14.0|               1.0|   0.0|           0.0|                0.0|                    0.0|                            0.0|0.0|        0.0| 0.0|          0.0|                0.0|                         0.0|                        0.0|                               0.0|          0.0|                             0.0|                0.0|                       0.0|      0.0|     0.0|             0.0|     0.0|                        0|                               ?|                              ?|        0|     0|     0|  0|         0|       0|       0|     0|\n",
            "| 34|                      1.0|                       ?|               1.0|   0.0|           0.0|                0.0|                    0.0|                            0.0|0.0|        0.0| 0.0|          0.0|                0.0|                         0.0|                        0.0|                               0.0|          0.0|                             0.0|                0.0|                       0.0|      0.0|     0.0|             0.0|     0.0|                        0|                               ?|                              ?|        0|     0|     0|  0|         0|       0|       0|     0|\n",
            "| 52|                      5.0|                    16.0|               4.0|   1.0|          37.0|               37.0|                    1.0|                            3.0|0.0|        0.0| 0.0|          0.0|                0.0|                         0.0|                        0.0|                               0.0|          0.0|                             0.0|                0.0|                       0.0|      0.0|     0.0|             0.0|     0.0|                        0|                               ?|                              ?|        1|     0|     1|  0|         0|       0|       0|     0|\n",
            "| 46|                      3.0|                    21.0|               4.0|   0.0|           0.0|                0.0|                    1.0|                           15.0|0.0|        0.0| 0.0|          0.0|                0.0|                         0.0|                        0.0|                               0.0|          0.0|                             0.0|                0.0|                       0.0|      0.0|     0.0|             0.0|     0.0|                        0|                               ?|                              ?|        0|     0|     0|  0|         0|       0|       0|     0|\n",
            "| 42|                      3.0|                    23.0|               2.0|   0.0|           0.0|                0.0|                    0.0|                            0.0|0.0|        0.0| 0.0|          0.0|                0.0|                         0.0|                        0.0|                               0.0|          0.0|                             0.0|                0.0|                       0.0|      0.0|     0.0|             0.0|     0.0|                        0|                               ?|                              ?|        0|     0|     0|  0|         0|       0|       0|     0|\n",
            "| 51|                      3.0|                    17.0|               6.0|   1.0|          34.0|                3.4|                    0.0|                            0.0|1.0|        7.0| 0.0|          0.0|                0.0|                         0.0|                        0.0|                               0.0|          0.0|                             0.0|                0.0|                       0.0|      0.0|     0.0|             0.0|     0.0|                        0|                               ?|                              ?|        0|     0|     0|  0|         1|       1|       0|     1|\n",
            "| 26|                      1.0|                    26.0|               3.0|   0.0|           0.0|                0.0|                    1.0|                            2.0|1.0|        7.0| 0.0|          0.0|                0.0|                         0.0|                        0.0|                               0.0|          0.0|                             0.0|                0.0|                       0.0|      0.0|     0.0|             0.0|     0.0|                        0|                               ?|                              ?|        0|     0|     0|  0|         0|       0|       0|     0|\n",
            "| 45|                      1.0|                    20.0|               5.0|   0.0|           0.0|                0.0|                    0.0|                            0.0|0.0|        0.0| 0.0|          0.0|                0.0|                         0.0|                        0.0|                               0.0|          0.0|                             0.0|                0.0|                       0.0|      0.0|     0.0|             0.0|     0.0|                        0|                               ?|                              ?|        1|     0|     1|  1|         0|       0|       0|     0|\n",
            "| 44|                      3.0|                    15.0|                 ?|   1.0|   1.266972909|                2.8|                    0.0|                            0.0|  ?|          ?| 0.0|          0.0|                0.0|                         0.0|                        0.0|                               0.0|          0.0|                             0.0|                0.0|                       0.0|      0.0|     0.0|             0.0|     0.0|                        0|                               ?|                              ?|        0|     0|     0|  0|         0|       0|       0|     0|\n",
            "| 44|                      3.0|                    26.0|               4.0|   0.0|           0.0|                0.0|                    1.0|                            2.0|0.0|        0.0| 0.0|          0.0|                0.0|                         0.0|                        0.0|                               0.0|          0.0|                             0.0|                0.0|                       0.0|      0.0|     0.0|             0.0|     0.0|                        0|                               ?|                              ?|        0|     0|     0|  0|         0|       0|       0|     0|\n",
            "| 27|                      1.0|                    17.0|               3.0|   0.0|           0.0|                0.0|                    1.0|                            8.0|0.0|        0.0| 0.0|          0.0|                0.0|                         0.0|                        0.0|                               0.0|          0.0|                             0.0|                0.0|                       0.0|      0.0|     0.0|             0.0|     0.0|                        0|                               ?|                              ?|        0|     0|     0|  0|         0|       0|       0|     0|\n",
            "| 45|                      4.0|                    14.0|               6.0|   0.0|           0.0|                0.0|                    1.0|                           10.0|1.0|        5.0| 0.0|          0.0|                0.0|                         0.0|                        0.0|                               0.0|          0.0|                             0.0|                0.0|                       0.0|      0.0|     0.0|             0.0|     0.0|                        0|                               ?|                              ?|        0|     0|     0|  0|         0|       0|       0|     0|\n",
            "| 44|                      2.0|                    25.0|               2.0|   0.0|           0.0|                0.0|                    1.0|                            5.0|0.0|        0.0| 0.0|          0.0|                0.0|                         0.0|                        0.0|                               0.0|          0.0|                             0.0|                0.0|                       0.0|      0.0|     0.0|             0.0|     0.0|                        0|                               ?|                              ?|        0|     0|     0|  0|         0|       0|       0|     0|\n",
            "| 43|                      2.0|                    18.0|               5.0|   0.0|           0.0|                0.0|                    0.0|                            0.0|1.0|        8.0| 0.0|          0.0|                0.0|                         0.0|                        0.0|                               0.0|          0.0|                             0.0|                0.0|                       0.0|      0.0|     0.0|             0.0|     0.0|                        0|                               ?|                              ?|        0|     0|     0|  0|         0|       0|       0|     0|\n",
            "| 40|                      3.0|                    18.0|               2.0|   0.0|           0.0|                0.0|                    1.0|                           15.0|0.0|        0.0| 0.0|          0.0|                0.0|                         0.0|                        0.0|                               0.0|          0.0|                             0.0|                0.0|                       0.0|      0.0|     0.0|             0.0|     0.0|                        0|                               ?|                              ?|        0|     0|     0|  0|         0|       0|       0|     0|\n",
            "| 41|                      4.0|                    21.0|               3.0|   0.0|           0.0|                0.0|                    1.0|                           0.25|0.0|        0.0| 0.0|          0.0|                0.0|                         0.0|                        0.0|                               0.0|          0.0|                             0.0|                0.0|                       0.0|      0.0|     0.0|             0.0|     0.0|                        0|                               ?|                              ?|        0|     0|     0|  0|         0|       0|       0|     0|\n",
            "| 43|                      3.0|                    15.0|               8.0|   0.0|           0.0|                0.0|                    1.0|                            3.0|0.0|        0.0| 0.0|          0.0|                0.0|                         0.0|                        0.0|                               0.0|          0.0|                             0.0|                0.0|                       0.0|      0.0|     0.0|             0.0|     0.0|                        0|                               ?|                              ?|        0|     0|     0|  0|         0|       0|       0|     0|\n",
            "| 42|                      2.0|                    20.0|                 ?|   0.0|           0.0|                0.0|                    1.0|                            7.0|1.0|        6.0| 1.0|          2.0|                1.0|                         0.0|                        0.0|                               1.0|          0.0|                             0.0|                0.0|                       0.0|      0.0|     0.0|             0.0|     0.0|                        0|                               ?|                              ?|        0|     0|     0|  0|         0|       0|       0|     0|\n",
            "| 40|                      2.0|                    27.0|                 ?|   0.0|           0.0|                0.0|                    0.0|                            0.0|1.0|        1.0| 0.0|          0.0|                0.0|                         0.0|                        0.0|                               0.0|          0.0|                             0.0|                0.0|                       0.0|      0.0|     0.0|             0.0|     0.0|                        0|                               ?|                              ?|        0|     0|     0|  0|         0|       0|       0|     0|\n",
            "+---+-------------------------+------------------------+------------------+------+--------------+-------------------+-----------------------+-------------------------------+---+-----------+----+-------------+-------------------+----------------------------+---------------------------+----------------------------------+-------------+--------------------------------+-------------------+--------------------------+---------+--------+----------------+--------+-------------------------+--------------------------------+-------------------------------+---------+------+------+---+----------+--------+--------+------+\n",
            "only showing top 20 rows\n",
            "\n"
          ]
        }
      ]
    },
    {
      "cell_type": "markdown",
      "source": [
        "# Count the number or records (rows) in the dataset"
      ],
      "metadata": {
        "id": "vLjf9xZgtHZm"
      }
    },
    {
      "cell_type": "code",
      "source": [
        "# Count the number of records (rows) in the dataset\n",
        "print(risk_factors_df.count())\n",
        "\n"
      ],
      "metadata": {
        "colab": {
          "base_uri": "https://localhost:8080/"
        },
        "id": "nP7P6FRBM0Xi",
        "outputId": "e5ca4c2f-7030-40f2-af56-3653650ee9cf"
      },
      "execution_count": 5,
      "outputs": [
        {
          "output_type": "stream",
          "name": "stdout",
          "text": [
            "858\n"
          ]
        }
      ]
    },
    {
      "cell_type": "markdown",
      "source": [
        "# Transform dataset to fit the tables in the schema file"
      ],
      "metadata": {
        "id": "BddgCOg5tq1a"
      }
    },
    {
      "cell_type": "code",
      "source": [
        "risk_factors_df.printSchema()"
      ],
      "metadata": {
        "colab": {
          "base_uri": "https://localhost:8080/"
        },
        "id": "I2MapnuiRZev",
        "outputId": "eb339489-6bed-4d5e-bcd1-9f8047a56ca8"
      },
      "execution_count": 6,
      "outputs": [
        {
          "output_type": "stream",
          "name": "stdout",
          "text": [
            "root\n",
            " |-- Age: integer (nullable = true)\n",
            " |-- Number of sexual partners: string (nullable = true)\n",
            " |-- First sexual intercourse: string (nullable = true)\n",
            " |-- Num of pregnancies: string (nullable = true)\n",
            " |-- Smokes: string (nullable = true)\n",
            " |-- Smokes (years): string (nullable = true)\n",
            " |-- Smokes (packs/year): string (nullable = true)\n",
            " |-- Hormonal Contraceptives: string (nullable = true)\n",
            " |-- Hormonal Contraceptives (years): string (nullable = true)\n",
            " |-- IUD: string (nullable = true)\n",
            " |-- IUD (years): string (nullable = true)\n",
            " |-- STDs: string (nullable = true)\n",
            " |-- STDs (number): string (nullable = true)\n",
            " |-- STDs:condylomatosis: string (nullable = true)\n",
            " |-- STDs:cervical condylomatosis: string (nullable = true)\n",
            " |-- STDs:vaginal condylomatosis: string (nullable = true)\n",
            " |-- STDs:vulvo-perineal condylomatosis: string (nullable = true)\n",
            " |-- STDs:syphilis: string (nullable = true)\n",
            " |-- STDs:pelvic inflammatory disease: string (nullable = true)\n",
            " |-- STDs:genital herpes: string (nullable = true)\n",
            " |-- STDs:molluscum contagiosum: string (nullable = true)\n",
            " |-- STDs:AIDS: string (nullable = true)\n",
            " |-- STDs:HIV: string (nullable = true)\n",
            " |-- STDs:Hepatitis B: string (nullable = true)\n",
            " |-- STDs:HPV: string (nullable = true)\n",
            " |-- STDs: Number of diagnosis: integer (nullable = true)\n",
            " |-- STDs: Time since first diagnosis: string (nullable = true)\n",
            " |-- STDs: Time since last diagnosis: string (nullable = true)\n",
            " |-- Dx:Cancer: integer (nullable = true)\n",
            " |-- Dx:CIN: integer (nullable = true)\n",
            " |-- Dx:HPV: integer (nullable = true)\n",
            " |-- Dx: integer (nullable = true)\n",
            " |-- Hinselmann: integer (nullable = true)\n",
            " |-- Schiller: integer (nullable = true)\n",
            " |-- Citology: integer (nullable = true)\n",
            " |-- Biopsy: integer (nullable = true)\n",
            "\n"
          ]
        }
      ]
    },
    {
      "cell_type": "code",
      "source": [
        "risk_factors_df.columns"
      ],
      "metadata": {
        "colab": {
          "base_uri": "https://localhost:8080/"
        },
        "id": "6k-9b4EeSkr4",
        "outputId": "10d23b50-c740-4cc6-c9e5-a9515f6d4a26"
      },
      "execution_count": 7,
      "outputs": [
        {
          "output_type": "execute_result",
          "data": {
            "text/plain": [
              "['Age',\n",
              " 'Number of sexual partners',\n",
              " 'First sexual intercourse',\n",
              " 'Num of pregnancies',\n",
              " 'Smokes',\n",
              " 'Smokes (years)',\n",
              " 'Smokes (packs/year)',\n",
              " 'Hormonal Contraceptives',\n",
              " 'Hormonal Contraceptives (years)',\n",
              " 'IUD',\n",
              " 'IUD (years)',\n",
              " 'STDs',\n",
              " 'STDs (number)',\n",
              " 'STDs:condylomatosis',\n",
              " 'STDs:cervical condylomatosis',\n",
              " 'STDs:vaginal condylomatosis',\n",
              " 'STDs:vulvo-perineal condylomatosis',\n",
              " 'STDs:syphilis',\n",
              " 'STDs:pelvic inflammatory disease',\n",
              " 'STDs:genital herpes',\n",
              " 'STDs:molluscum contagiosum',\n",
              " 'STDs:AIDS',\n",
              " 'STDs:HIV',\n",
              " 'STDs:Hepatitis B',\n",
              " 'STDs:HPV',\n",
              " 'STDs: Number of diagnosis',\n",
              " 'STDs: Time since first diagnosis',\n",
              " 'STDs: Time since last diagnosis',\n",
              " 'Dx:Cancer',\n",
              " 'Dx:CIN',\n",
              " 'Dx:HPV',\n",
              " 'Dx',\n",
              " 'Hinselmann',\n",
              " 'Schiller',\n",
              " 'Citology',\n",
              " 'Biopsy']"
            ]
          },
          "metadata": {},
          "execution_count": 7
        }
      ]
    },
    {
      "cell_type": "code",
      "source": [
        "risk_factors_df.describe()"
      ],
      "metadata": {
        "colab": {
          "base_uri": "https://localhost:8080/"
        },
        "id": "zDO9buXzSycO",
        "outputId": "b359c445-f83a-4289-c662-9378b83cca3b"
      },
      "execution_count": 8,
      "outputs": [
        {
          "output_type": "execute_result",
          "data": {
            "text/plain": [
              "DataFrame[summary: string, Age: string, Number of sexual partners: string, First sexual intercourse: string, Num of pregnancies: string, Smokes: string, Smokes (years): string, Smokes (packs/year): string, Hormonal Contraceptives: string, Hormonal Contraceptives (years): string, IUD: string, IUD (years): string, STDs: string, STDs (number): string, STDs:condylomatosis: string, STDs:cervical condylomatosis: string, STDs:vaginal condylomatosis: string, STDs:vulvo-perineal condylomatosis: string, STDs:syphilis: string, STDs:pelvic inflammatory disease: string, STDs:genital herpes: string, STDs:molluscum contagiosum: string, STDs:AIDS: string, STDs:HIV: string, STDs:Hepatitis B: string, STDs:HPV: string, STDs: Number of diagnosis: string, STDs: Time since first diagnosis: string, STDs: Time since last diagnosis: string, Dx:Cancer: string, Dx:CIN: string, Dx:HPV: string, Dx: string, Hinselmann: string, Schiller: string, Citology: string, Biopsy: string]"
            ]
          },
          "metadata": {},
          "execution_count": 8
        }
      ]
    },
    {
      "cell_type": "code",
      "source": [
        "# Import struct fields that we can use (this is to import data types)\n",
        "from pyspark.sql.types import StructField, StringType, IntegerType, FloatType, StructType\n"
      ],
      "metadata": {
        "id": "ZBDO_6giTAbA"
      },
      "execution_count": 9,
      "outputs": []
    },
    {
      "cell_type": "code",
      "source": [
        "# Next we need to create the list of struct fields\n",
        "# this is the syntax to fix the string to float\n",
        "schema = [StructField(\"Age\", IntegerType(), True), \n",
        "          StructField(\"Number of sexual partners\", FloatType(), True),\n",
        "          StructField(\"First sexual intercourse\", FloatType(), True),\n",
        "          StructField(\"Num of pregnancies\", FloatType(), True),\n",
        "          StructField(\"Smokes\", FloatType(), True),\n",
        "          StructField(\"Smokes (years)\", FloatType(), True),\n",
        "          StructField(\"Smokes (packs/year)\", FloatType(), True),\n",
        "          StructField(\"Hormonal Contraceptives\", FloatType(), True),\n",
        "          StructField(\"Hormonal Contraceptives (years)\", FloatType(), True),\n",
        "          StructField(\"IUD\", FloatType(), True),\n",
        "          StructField(\"IUD (years)\", FloatType(), True),\n",
        "          StructField(\"STDs\", FloatType(), True),\n",
        "          StructField(\"STDs (number)\", FloatType(), True),\n",
        "          StructField(\"STDs:condylomatosis\", FloatType(), True),\n",
        "          StructField(\"STDs:cervical condylomatosis\", FloatType(), True),\n",
        "          StructField(\"STDs:vaginal condylomatosis\", FloatType(), True),\n",
        "          StructField(\"STDs:vulvo-perineal condylomatosis\", FloatType(), True),\n",
        "          StructField(\"STDs:syphilis\", FloatType(), True),\n",
        "          StructField(\"STDs:pelvic inflammatory disease\", FloatType(), True),\n",
        "          StructField(\"STDs:genital herpes\", FloatType(), True),\n",
        "          StructField(\"STDs:molluscum contagiosum\", FloatType(), True),\n",
        "          StructField(\"STDs:AIDS\", FloatType(), True),\n",
        "          StructField(\"STDs:HIV\", FloatType(), True),\n",
        "          StructField(\"STDs:Hepatitis B\", FloatType(), True),\n",
        "          StructField(\"STDs:HPV\", FloatType(), True),\n",
        "          StructField(\"STDs: Number of diagnosis\", IntegerType(), True),\n",
        "          StructField(\"STDs: Time since first diagnosis\", FloatType(), True),\n",
        "          StructField(\"STDs: Time since last diagnosis\", FloatType(), True),\n",
        "          StructField(\"Dx:Cancer\", IntegerType(), True),\n",
        "          StructField(\"Dx:CIN\", IntegerType(), True),\n",
        "          StructField(\"Dx:HPV\", IntegerType(), True),\n",
        "          StructField(\"Dx\", IntegerType(), True),\n",
        "          StructField(\"Hinselmann\", IntegerType(), True),\n",
        "          StructField(\"Schiller\", IntegerType(), True),\n",
        "          StructField(\"Citology\", IntegerType(), True),\n",
        "          StructField(\"Biopsy\", IntegerType(), True),\n",
        "          ]\n",
        "schema\n"
      ],
      "metadata": {
        "colab": {
          "base_uri": "https://localhost:8080/"
        },
        "id": "X7Io5ObuTD15",
        "outputId": "077d3ce2-b8f8-4b8e-a4e3-58b7dcd7bf2d"
      },
      "execution_count": 10,
      "outputs": [
        {
          "output_type": "execute_result",
          "data": {
            "text/plain": [
              "[StructField('Age', IntegerType(), True),\n",
              " StructField('Number of sexual partners', FloatType(), True),\n",
              " StructField('First sexual intercourse', FloatType(), True),\n",
              " StructField('Num of pregnancies', FloatType(), True),\n",
              " StructField('Smokes', FloatType(), True),\n",
              " StructField('Smokes (years)', FloatType(), True),\n",
              " StructField('Smokes (packs/year)', FloatType(), True),\n",
              " StructField('Hormonal Contraceptives', FloatType(), True),\n",
              " StructField('Hormonal Contraceptives (years)', FloatType(), True),\n",
              " StructField('IUD', FloatType(), True),\n",
              " StructField('IUD (years)', FloatType(), True),\n",
              " StructField('STDs', FloatType(), True),\n",
              " StructField('STDs (number)', FloatType(), True),\n",
              " StructField('STDs:condylomatosis', FloatType(), True),\n",
              " StructField('STDs:cervical condylomatosis', FloatType(), True),\n",
              " StructField('STDs:vaginal condylomatosis', FloatType(), True),\n",
              " StructField('STDs:vulvo-perineal condylomatosis', FloatType(), True),\n",
              " StructField('STDs:syphilis', FloatType(), True),\n",
              " StructField('STDs:pelvic inflammatory disease', FloatType(), True),\n",
              " StructField('STDs:genital herpes', FloatType(), True),\n",
              " StructField('STDs:molluscum contagiosum', FloatType(), True),\n",
              " StructField('STDs:AIDS', FloatType(), True),\n",
              " StructField('STDs:HIV', FloatType(), True),\n",
              " StructField('STDs:Hepatitis B', FloatType(), True),\n",
              " StructField('STDs:HPV', FloatType(), True),\n",
              " StructField('STDs: Number of diagnosis', IntegerType(), True),\n",
              " StructField('STDs: Time since first diagnosis', FloatType(), True),\n",
              " StructField('STDs: Time since last diagnosis', FloatType(), True),\n",
              " StructField('Dx:Cancer', IntegerType(), True),\n",
              " StructField('Dx:CIN', IntegerType(), True),\n",
              " StructField('Dx:HPV', IntegerType(), True),\n",
              " StructField('Dx', IntegerType(), True),\n",
              " StructField('Hinselmann', IntegerType(), True),\n",
              " StructField('Schiller', IntegerType(), True),\n",
              " StructField('Citology', IntegerType(), True),\n",
              " StructField('Biopsy', IntegerType(), True)]"
            ]
          },
          "metadata": {},
          "execution_count": 10
        }
      ]
    },
    {
      "cell_type": "code",
      "source": [
        "final = StructType(fields=schema)\n",
        "final"
      ],
      "metadata": {
        "colab": {
          "base_uri": "https://localhost:8080/"
        },
        "id": "eqDtajXCjHLF",
        "outputId": "e73ab44e-2590-4780-cefa-746854efae0c"
      },
      "execution_count": 11,
      "outputs": [
        {
          "output_type": "execute_result",
          "data": {
            "text/plain": [
              "StructType([StructField('Age', IntegerType(), True), StructField('Number of sexual partners', FloatType(), True), StructField('First sexual intercourse', FloatType(), True), StructField('Num of pregnancies', FloatType(), True), StructField('Smokes', FloatType(), True), StructField('Smokes (years)', FloatType(), True), StructField('Smokes (packs/year)', FloatType(), True), StructField('Hormonal Contraceptives', FloatType(), True), StructField('Hormonal Contraceptives (years)', FloatType(), True), StructField('IUD', FloatType(), True), StructField('IUD (years)', FloatType(), True), StructField('STDs', FloatType(), True), StructField('STDs (number)', FloatType(), True), StructField('STDs:condylomatosis', FloatType(), True), StructField('STDs:cervical condylomatosis', FloatType(), True), StructField('STDs:vaginal condylomatosis', FloatType(), True), StructField('STDs:vulvo-perineal condylomatosis', FloatType(), True), StructField('STDs:syphilis', FloatType(), True), StructField('STDs:pelvic inflammatory disease', FloatType(), True), StructField('STDs:genital herpes', FloatType(), True), StructField('STDs:molluscum contagiosum', FloatType(), True), StructField('STDs:AIDS', FloatType(), True), StructField('STDs:HIV', FloatType(), True), StructField('STDs:Hepatitis B', FloatType(), True), StructField('STDs:HPV', FloatType(), True), StructField('STDs: Number of diagnosis', IntegerType(), True), StructField('STDs: Time since first diagnosis', FloatType(), True), StructField('STDs: Time since last diagnosis', FloatType(), True), StructField('Dx:Cancer', IntegerType(), True), StructField('Dx:CIN', IntegerType(), True), StructField('Dx:HPV', IntegerType(), True), StructField('Dx', IntegerType(), True), StructField('Hinselmann', IntegerType(), True), StructField('Schiller', IntegerType(), True), StructField('Citology', IntegerType(), True), StructField('Biopsy', IntegerType(), True)])"
            ]
          },
          "metadata": {},
          "execution_count": 11
        }
      ]
    },
    {
      "cell_type": "code",
      "source": [
        "dataframe = spark.read.csv(SparkFiles.get(\"kag_risk_factors_cervical_cancer.csv\"), schema=final, sep=\",\", header=True)\n",
        "dataframe.show()"
      ],
      "metadata": {
        "colab": {
          "base_uri": "https://localhost:8080/"
        },
        "id": "jXuMH7OokN9Z",
        "outputId": "f8855417-73a3-41b0-8e43-5aa69b2525df"
      },
      "execution_count": 12,
      "outputs": [
        {
          "output_type": "stream",
          "name": "stdout",
          "text": [
            "+---+-------------------------+------------------------+------------------+------+--------------+-------------------+-----------------------+-------------------------------+----+-----------+----+-------------+-------------------+----------------------------+---------------------------+----------------------------------+-------------+--------------------------------+-------------------+--------------------------+---------+--------+----------------+--------+-------------------------+--------------------------------+-------------------------------+---------+------+------+---+----------+--------+--------+------+\n",
            "|Age|Number of sexual partners|First sexual intercourse|Num of pregnancies|Smokes|Smokes (years)|Smokes (packs/year)|Hormonal Contraceptives|Hormonal Contraceptives (years)| IUD|IUD (years)|STDs|STDs (number)|STDs:condylomatosis|STDs:cervical condylomatosis|STDs:vaginal condylomatosis|STDs:vulvo-perineal condylomatosis|STDs:syphilis|STDs:pelvic inflammatory disease|STDs:genital herpes|STDs:molluscum contagiosum|STDs:AIDS|STDs:HIV|STDs:Hepatitis B|STDs:HPV|STDs: Number of diagnosis|STDs: Time since first diagnosis|STDs: Time since last diagnosis|Dx:Cancer|Dx:CIN|Dx:HPV| Dx|Hinselmann|Schiller|Citology|Biopsy|\n",
            "+---+-------------------------+------------------------+------------------+------+--------------+-------------------+-----------------------+-------------------------------+----+-----------+----+-------------+-------------------+----------------------------+---------------------------+----------------------------------+-------------+--------------------------------+-------------------+--------------------------+---------+--------+----------------+--------+-------------------------+--------------------------------+-------------------------------+---------+------+------+---+----------+--------+--------+------+\n",
            "| 18|                      4.0|                    15.0|               1.0|   0.0|           0.0|                0.0|                    0.0|                            0.0| 0.0|        0.0| 0.0|          0.0|                0.0|                         0.0|                        0.0|                               0.0|          0.0|                             0.0|                0.0|                       0.0|      0.0|     0.0|             0.0|     0.0|                        0|                            null|                           null|        0|     0|     0|  0|         0|       0|       0|     0|\n",
            "| 15|                      1.0|                    14.0|               1.0|   0.0|           0.0|                0.0|                    0.0|                            0.0| 0.0|        0.0| 0.0|          0.0|                0.0|                         0.0|                        0.0|                               0.0|          0.0|                             0.0|                0.0|                       0.0|      0.0|     0.0|             0.0|     0.0|                        0|                            null|                           null|        0|     0|     0|  0|         0|       0|       0|     0|\n",
            "| 34|                      1.0|                    null|               1.0|   0.0|           0.0|                0.0|                    0.0|                            0.0| 0.0|        0.0| 0.0|          0.0|                0.0|                         0.0|                        0.0|                               0.0|          0.0|                             0.0|                0.0|                       0.0|      0.0|     0.0|             0.0|     0.0|                        0|                            null|                           null|        0|     0|     0|  0|         0|       0|       0|     0|\n",
            "| 52|                      5.0|                    16.0|               4.0|   1.0|          37.0|               37.0|                    1.0|                            3.0| 0.0|        0.0| 0.0|          0.0|                0.0|                         0.0|                        0.0|                               0.0|          0.0|                             0.0|                0.0|                       0.0|      0.0|     0.0|             0.0|     0.0|                        0|                            null|                           null|        1|     0|     1|  0|         0|       0|       0|     0|\n",
            "| 46|                      3.0|                    21.0|               4.0|   0.0|           0.0|                0.0|                    1.0|                           15.0| 0.0|        0.0| 0.0|          0.0|                0.0|                         0.0|                        0.0|                               0.0|          0.0|                             0.0|                0.0|                       0.0|      0.0|     0.0|             0.0|     0.0|                        0|                            null|                           null|        0|     0|     0|  0|         0|       0|       0|     0|\n",
            "| 42|                      3.0|                    23.0|               2.0|   0.0|           0.0|                0.0|                    0.0|                            0.0| 0.0|        0.0| 0.0|          0.0|                0.0|                         0.0|                        0.0|                               0.0|          0.0|                             0.0|                0.0|                       0.0|      0.0|     0.0|             0.0|     0.0|                        0|                            null|                           null|        0|     0|     0|  0|         0|       0|       0|     0|\n",
            "| 51|                      3.0|                    17.0|               6.0|   1.0|          34.0|                3.4|                    0.0|                            0.0| 1.0|        7.0| 0.0|          0.0|                0.0|                         0.0|                        0.0|                               0.0|          0.0|                             0.0|                0.0|                       0.0|      0.0|     0.0|             0.0|     0.0|                        0|                            null|                           null|        0|     0|     0|  0|         1|       1|       0|     1|\n",
            "| 26|                      1.0|                    26.0|               3.0|   0.0|           0.0|                0.0|                    1.0|                            2.0| 1.0|        7.0| 0.0|          0.0|                0.0|                         0.0|                        0.0|                               0.0|          0.0|                             0.0|                0.0|                       0.0|      0.0|     0.0|             0.0|     0.0|                        0|                            null|                           null|        0|     0|     0|  0|         0|       0|       0|     0|\n",
            "| 45|                      1.0|                    20.0|               5.0|   0.0|           0.0|                0.0|                    0.0|                            0.0| 0.0|        0.0| 0.0|          0.0|                0.0|                         0.0|                        0.0|                               0.0|          0.0|                             0.0|                0.0|                       0.0|      0.0|     0.0|             0.0|     0.0|                        0|                            null|                           null|        1|     0|     1|  1|         0|       0|       0|     0|\n",
            "| 44|                      3.0|                    15.0|              null|   1.0|     1.2669729|                2.8|                    0.0|                            0.0|null|       null| 0.0|          0.0|                0.0|                         0.0|                        0.0|                               0.0|          0.0|                             0.0|                0.0|                       0.0|      0.0|     0.0|             0.0|     0.0|                        0|                            null|                           null|        0|     0|     0|  0|         0|       0|       0|     0|\n",
            "| 44|                      3.0|                    26.0|               4.0|   0.0|           0.0|                0.0|                    1.0|                            2.0| 0.0|        0.0| 0.0|          0.0|                0.0|                         0.0|                        0.0|                               0.0|          0.0|                             0.0|                0.0|                       0.0|      0.0|     0.0|             0.0|     0.0|                        0|                            null|                           null|        0|     0|     0|  0|         0|       0|       0|     0|\n",
            "| 27|                      1.0|                    17.0|               3.0|   0.0|           0.0|                0.0|                    1.0|                            8.0| 0.0|        0.0| 0.0|          0.0|                0.0|                         0.0|                        0.0|                               0.0|          0.0|                             0.0|                0.0|                       0.0|      0.0|     0.0|             0.0|     0.0|                        0|                            null|                           null|        0|     0|     0|  0|         0|       0|       0|     0|\n",
            "| 45|                      4.0|                    14.0|               6.0|   0.0|           0.0|                0.0|                    1.0|                           10.0| 1.0|        5.0| 0.0|          0.0|                0.0|                         0.0|                        0.0|                               0.0|          0.0|                             0.0|                0.0|                       0.0|      0.0|     0.0|             0.0|     0.0|                        0|                            null|                           null|        0|     0|     0|  0|         0|       0|       0|     0|\n",
            "| 44|                      2.0|                    25.0|               2.0|   0.0|           0.0|                0.0|                    1.0|                            5.0| 0.0|        0.0| 0.0|          0.0|                0.0|                         0.0|                        0.0|                               0.0|          0.0|                             0.0|                0.0|                       0.0|      0.0|     0.0|             0.0|     0.0|                        0|                            null|                           null|        0|     0|     0|  0|         0|       0|       0|     0|\n",
            "| 43|                      2.0|                    18.0|               5.0|   0.0|           0.0|                0.0|                    0.0|                            0.0| 1.0|        8.0| 0.0|          0.0|                0.0|                         0.0|                        0.0|                               0.0|          0.0|                             0.0|                0.0|                       0.0|      0.0|     0.0|             0.0|     0.0|                        0|                            null|                           null|        0|     0|     0|  0|         0|       0|       0|     0|\n",
            "| 40|                      3.0|                    18.0|               2.0|   0.0|           0.0|                0.0|                    1.0|                           15.0| 0.0|        0.0| 0.0|          0.0|                0.0|                         0.0|                        0.0|                               0.0|          0.0|                             0.0|                0.0|                       0.0|      0.0|     0.0|             0.0|     0.0|                        0|                            null|                           null|        0|     0|     0|  0|         0|       0|       0|     0|\n",
            "| 41|                      4.0|                    21.0|               3.0|   0.0|           0.0|                0.0|                    1.0|                           0.25| 0.0|        0.0| 0.0|          0.0|                0.0|                         0.0|                        0.0|                               0.0|          0.0|                             0.0|                0.0|                       0.0|      0.0|     0.0|             0.0|     0.0|                        0|                            null|                           null|        0|     0|     0|  0|         0|       0|       0|     0|\n",
            "| 43|                      3.0|                    15.0|               8.0|   0.0|           0.0|                0.0|                    1.0|                            3.0| 0.0|        0.0| 0.0|          0.0|                0.0|                         0.0|                        0.0|                               0.0|          0.0|                             0.0|                0.0|                       0.0|      0.0|     0.0|             0.0|     0.0|                        0|                            null|                           null|        0|     0|     0|  0|         0|       0|       0|     0|\n",
            "| 42|                      2.0|                    20.0|              null|   0.0|           0.0|                0.0|                    1.0|                            7.0| 1.0|        6.0| 1.0|          2.0|                1.0|                         0.0|                        0.0|                               1.0|          0.0|                             0.0|                0.0|                       0.0|      0.0|     0.0|             0.0|     0.0|                        0|                            null|                           null|        0|     0|     0|  0|         0|       0|       0|     0|\n",
            "| 40|                      2.0|                    27.0|              null|   0.0|           0.0|                0.0|                    0.0|                            0.0| 1.0|        1.0| 0.0|          0.0|                0.0|                         0.0|                        0.0|                               0.0|          0.0|                             0.0|                0.0|                       0.0|      0.0|     0.0|             0.0|     0.0|                        0|                            null|                           null|        0|     0|     0|  0|         0|       0|       0|     0|\n",
            "+---+-------------------------+------------------------+------------------+------+--------------+-------------------+-----------------------+-------------------------------+----+-----------+----+-------------+-------------------+----------------------------+---------------------------+----------------------------------+-------------+--------------------------------+-------------------+--------------------------+---------+--------+----------------+--------+-------------------------+--------------------------------+-------------------------------+---------+------+------+---+----------+--------+--------+------+\n",
            "only showing top 20 rows\n",
            "\n"
          ]
        }
      ]
    },
    {
      "cell_type": "code",
      "source": [
        "dataframe.printSchema()"
      ],
      "metadata": {
        "colab": {
          "base_uri": "https://localhost:8080/"
        },
        "id": "aHFXCy7xlLWM",
        "outputId": "23ba075a-e2ea-4160-88db-97e604fc3043"
      },
      "execution_count": 13,
      "outputs": [
        {
          "output_type": "stream",
          "name": "stdout",
          "text": [
            "root\n",
            " |-- Age: integer (nullable = true)\n",
            " |-- Number of sexual partners: float (nullable = true)\n",
            " |-- First sexual intercourse: float (nullable = true)\n",
            " |-- Num of pregnancies: float (nullable = true)\n",
            " |-- Smokes: float (nullable = true)\n",
            " |-- Smokes (years): float (nullable = true)\n",
            " |-- Smokes (packs/year): float (nullable = true)\n",
            " |-- Hormonal Contraceptives: float (nullable = true)\n",
            " |-- Hormonal Contraceptives (years): float (nullable = true)\n",
            " |-- IUD: float (nullable = true)\n",
            " |-- IUD (years): float (nullable = true)\n",
            " |-- STDs: float (nullable = true)\n",
            " |-- STDs (number): float (nullable = true)\n",
            " |-- STDs:condylomatosis: float (nullable = true)\n",
            " |-- STDs:cervical condylomatosis: float (nullable = true)\n",
            " |-- STDs:vaginal condylomatosis: float (nullable = true)\n",
            " |-- STDs:vulvo-perineal condylomatosis: float (nullable = true)\n",
            " |-- STDs:syphilis: float (nullable = true)\n",
            " |-- STDs:pelvic inflammatory disease: float (nullable = true)\n",
            " |-- STDs:genital herpes: float (nullable = true)\n",
            " |-- STDs:molluscum contagiosum: float (nullable = true)\n",
            " |-- STDs:AIDS: float (nullable = true)\n",
            " |-- STDs:HIV: float (nullable = true)\n",
            " |-- STDs:Hepatitis B: float (nullable = true)\n",
            " |-- STDs:HPV: float (nullable = true)\n",
            " |-- STDs: Number of diagnosis: integer (nullable = true)\n",
            " |-- STDs: Time since first diagnosis: float (nullable = true)\n",
            " |-- STDs: Time since last diagnosis: float (nullable = true)\n",
            " |-- Dx:Cancer: integer (nullable = true)\n",
            " |-- Dx:CIN: integer (nullable = true)\n",
            " |-- Dx:HPV: integer (nullable = true)\n",
            " |-- Dx: integer (nullable = true)\n",
            " |-- Hinselmann: integer (nullable = true)\n",
            " |-- Schiller: integer (nullable = true)\n",
            " |-- Citology: integer (nullable = true)\n",
            " |-- Biopsy: integer (nullable = true)\n",
            "\n"
          ]
        }
      ]
    },
    {
      "cell_type": "code",
      "source": [
        "dataframe.columns"
      ],
      "metadata": {
        "colab": {
          "base_uri": "https://localhost:8080/"
        },
        "id": "ldOO-nahIvoB",
        "outputId": "7c9e1052-bebd-4d93-f397-2cf47a91db79"
      },
      "execution_count": 14,
      "outputs": [
        {
          "output_type": "execute_result",
          "data": {
            "text/plain": [
              "['Age',\n",
              " 'Number of sexual partners',\n",
              " 'First sexual intercourse',\n",
              " 'Num of pregnancies',\n",
              " 'Smokes',\n",
              " 'Smokes (years)',\n",
              " 'Smokes (packs/year)',\n",
              " 'Hormonal Contraceptives',\n",
              " 'Hormonal Contraceptives (years)',\n",
              " 'IUD',\n",
              " 'IUD (years)',\n",
              " 'STDs',\n",
              " 'STDs (number)',\n",
              " 'STDs:condylomatosis',\n",
              " 'STDs:cervical condylomatosis',\n",
              " 'STDs:vaginal condylomatosis',\n",
              " 'STDs:vulvo-perineal condylomatosis',\n",
              " 'STDs:syphilis',\n",
              " 'STDs:pelvic inflammatory disease',\n",
              " 'STDs:genital herpes',\n",
              " 'STDs:molluscum contagiosum',\n",
              " 'STDs:AIDS',\n",
              " 'STDs:HIV',\n",
              " 'STDs:Hepatitis B',\n",
              " 'STDs:HPV',\n",
              " 'STDs: Number of diagnosis',\n",
              " 'STDs: Time since first diagnosis',\n",
              " 'STDs: Time since last diagnosis',\n",
              " 'Dx:Cancer',\n",
              " 'Dx:CIN',\n",
              " 'Dx:HPV',\n",
              " 'Dx',\n",
              " 'Hinselmann',\n",
              " 'Schiller',\n",
              " 'Citology',\n",
              " 'Biopsy']"
            ]
          },
          "metadata": {},
          "execution_count": 14
        }
      ]
    },
    {
      "cell_type": "code",
      "source": [
        "table_df = dataframe.select(dataframe.columns)\n",
        "table_df.show()"
      ],
      "metadata": {
        "colab": {
          "base_uri": "https://localhost:8080/"
        },
        "id": "4UmERzerKT3J",
        "outputId": "4345c01f-7ef6-42b0-c32e-56864869ba9e"
      },
      "execution_count": 15,
      "outputs": [
        {
          "output_type": "stream",
          "name": "stdout",
          "text": [
            "+---+-------------------------+------------------------+------------------+------+--------------+-------------------+-----------------------+-------------------------------+----+-----------+----+-------------+-------------------+----------------------------+---------------------------+----------------------------------+-------------+--------------------------------+-------------------+--------------------------+---------+--------+----------------+--------+-------------------------+--------------------------------+-------------------------------+---------+------+------+---+----------+--------+--------+------+\n",
            "|Age|Number of sexual partners|First sexual intercourse|Num of pregnancies|Smokes|Smokes (years)|Smokes (packs/year)|Hormonal Contraceptives|Hormonal Contraceptives (years)| IUD|IUD (years)|STDs|STDs (number)|STDs:condylomatosis|STDs:cervical condylomatosis|STDs:vaginal condylomatosis|STDs:vulvo-perineal condylomatosis|STDs:syphilis|STDs:pelvic inflammatory disease|STDs:genital herpes|STDs:molluscum contagiosum|STDs:AIDS|STDs:HIV|STDs:Hepatitis B|STDs:HPV|STDs: Number of diagnosis|STDs: Time since first diagnosis|STDs: Time since last diagnosis|Dx:Cancer|Dx:CIN|Dx:HPV| Dx|Hinselmann|Schiller|Citology|Biopsy|\n",
            "+---+-------------------------+------------------------+------------------+------+--------------+-------------------+-----------------------+-------------------------------+----+-----------+----+-------------+-------------------+----------------------------+---------------------------+----------------------------------+-------------+--------------------------------+-------------------+--------------------------+---------+--------+----------------+--------+-------------------------+--------------------------------+-------------------------------+---------+------+------+---+----------+--------+--------+------+\n",
            "| 18|                      4.0|                    15.0|               1.0|   0.0|           0.0|                0.0|                    0.0|                            0.0| 0.0|        0.0| 0.0|          0.0|                0.0|                         0.0|                        0.0|                               0.0|          0.0|                             0.0|                0.0|                       0.0|      0.0|     0.0|             0.0|     0.0|                        0|                            null|                           null|        0|     0|     0|  0|         0|       0|       0|     0|\n",
            "| 15|                      1.0|                    14.0|               1.0|   0.0|           0.0|                0.0|                    0.0|                            0.0| 0.0|        0.0| 0.0|          0.0|                0.0|                         0.0|                        0.0|                               0.0|          0.0|                             0.0|                0.0|                       0.0|      0.0|     0.0|             0.0|     0.0|                        0|                            null|                           null|        0|     0|     0|  0|         0|       0|       0|     0|\n",
            "| 34|                      1.0|                    null|               1.0|   0.0|           0.0|                0.0|                    0.0|                            0.0| 0.0|        0.0| 0.0|          0.0|                0.0|                         0.0|                        0.0|                               0.0|          0.0|                             0.0|                0.0|                       0.0|      0.0|     0.0|             0.0|     0.0|                        0|                            null|                           null|        0|     0|     0|  0|         0|       0|       0|     0|\n",
            "| 52|                      5.0|                    16.0|               4.0|   1.0|          37.0|               37.0|                    1.0|                            3.0| 0.0|        0.0| 0.0|          0.0|                0.0|                         0.0|                        0.0|                               0.0|          0.0|                             0.0|                0.0|                       0.0|      0.0|     0.0|             0.0|     0.0|                        0|                            null|                           null|        1|     0|     1|  0|         0|       0|       0|     0|\n",
            "| 46|                      3.0|                    21.0|               4.0|   0.0|           0.0|                0.0|                    1.0|                           15.0| 0.0|        0.0| 0.0|          0.0|                0.0|                         0.0|                        0.0|                               0.0|          0.0|                             0.0|                0.0|                       0.0|      0.0|     0.0|             0.0|     0.0|                        0|                            null|                           null|        0|     0|     0|  0|         0|       0|       0|     0|\n",
            "| 42|                      3.0|                    23.0|               2.0|   0.0|           0.0|                0.0|                    0.0|                            0.0| 0.0|        0.0| 0.0|          0.0|                0.0|                         0.0|                        0.0|                               0.0|          0.0|                             0.0|                0.0|                       0.0|      0.0|     0.0|             0.0|     0.0|                        0|                            null|                           null|        0|     0|     0|  0|         0|       0|       0|     0|\n",
            "| 51|                      3.0|                    17.0|               6.0|   1.0|          34.0|                3.4|                    0.0|                            0.0| 1.0|        7.0| 0.0|          0.0|                0.0|                         0.0|                        0.0|                               0.0|          0.0|                             0.0|                0.0|                       0.0|      0.0|     0.0|             0.0|     0.0|                        0|                            null|                           null|        0|     0|     0|  0|         1|       1|       0|     1|\n",
            "| 26|                      1.0|                    26.0|               3.0|   0.0|           0.0|                0.0|                    1.0|                            2.0| 1.0|        7.0| 0.0|          0.0|                0.0|                         0.0|                        0.0|                               0.0|          0.0|                             0.0|                0.0|                       0.0|      0.0|     0.0|             0.0|     0.0|                        0|                            null|                           null|        0|     0|     0|  0|         0|       0|       0|     0|\n",
            "| 45|                      1.0|                    20.0|               5.0|   0.0|           0.0|                0.0|                    0.0|                            0.0| 0.0|        0.0| 0.0|          0.0|                0.0|                         0.0|                        0.0|                               0.0|          0.0|                             0.0|                0.0|                       0.0|      0.0|     0.0|             0.0|     0.0|                        0|                            null|                           null|        1|     0|     1|  1|         0|       0|       0|     0|\n",
            "| 44|                      3.0|                    15.0|              null|   1.0|     1.2669729|                2.8|                    0.0|                            0.0|null|       null| 0.0|          0.0|                0.0|                         0.0|                        0.0|                               0.0|          0.0|                             0.0|                0.0|                       0.0|      0.0|     0.0|             0.0|     0.0|                        0|                            null|                           null|        0|     0|     0|  0|         0|       0|       0|     0|\n",
            "| 44|                      3.0|                    26.0|               4.0|   0.0|           0.0|                0.0|                    1.0|                            2.0| 0.0|        0.0| 0.0|          0.0|                0.0|                         0.0|                        0.0|                               0.0|          0.0|                             0.0|                0.0|                       0.0|      0.0|     0.0|             0.0|     0.0|                        0|                            null|                           null|        0|     0|     0|  0|         0|       0|       0|     0|\n",
            "| 27|                      1.0|                    17.0|               3.0|   0.0|           0.0|                0.0|                    1.0|                            8.0| 0.0|        0.0| 0.0|          0.0|                0.0|                         0.0|                        0.0|                               0.0|          0.0|                             0.0|                0.0|                       0.0|      0.0|     0.0|             0.0|     0.0|                        0|                            null|                           null|        0|     0|     0|  0|         0|       0|       0|     0|\n",
            "| 45|                      4.0|                    14.0|               6.0|   0.0|           0.0|                0.0|                    1.0|                           10.0| 1.0|        5.0| 0.0|          0.0|                0.0|                         0.0|                        0.0|                               0.0|          0.0|                             0.0|                0.0|                       0.0|      0.0|     0.0|             0.0|     0.0|                        0|                            null|                           null|        0|     0|     0|  0|         0|       0|       0|     0|\n",
            "| 44|                      2.0|                    25.0|               2.0|   0.0|           0.0|                0.0|                    1.0|                            5.0| 0.0|        0.0| 0.0|          0.0|                0.0|                         0.0|                        0.0|                               0.0|          0.0|                             0.0|                0.0|                       0.0|      0.0|     0.0|             0.0|     0.0|                        0|                            null|                           null|        0|     0|     0|  0|         0|       0|       0|     0|\n",
            "| 43|                      2.0|                    18.0|               5.0|   0.0|           0.0|                0.0|                    0.0|                            0.0| 1.0|        8.0| 0.0|          0.0|                0.0|                         0.0|                        0.0|                               0.0|          0.0|                             0.0|                0.0|                       0.0|      0.0|     0.0|             0.0|     0.0|                        0|                            null|                           null|        0|     0|     0|  0|         0|       0|       0|     0|\n",
            "| 40|                      3.0|                    18.0|               2.0|   0.0|           0.0|                0.0|                    1.0|                           15.0| 0.0|        0.0| 0.0|          0.0|                0.0|                         0.0|                        0.0|                               0.0|          0.0|                             0.0|                0.0|                       0.0|      0.0|     0.0|             0.0|     0.0|                        0|                            null|                           null|        0|     0|     0|  0|         0|       0|       0|     0|\n",
            "| 41|                      4.0|                    21.0|               3.0|   0.0|           0.0|                0.0|                    1.0|                           0.25| 0.0|        0.0| 0.0|          0.0|                0.0|                         0.0|                        0.0|                               0.0|          0.0|                             0.0|                0.0|                       0.0|      0.0|     0.0|             0.0|     0.0|                        0|                            null|                           null|        0|     0|     0|  0|         0|       0|       0|     0|\n",
            "| 43|                      3.0|                    15.0|               8.0|   0.0|           0.0|                0.0|                    1.0|                            3.0| 0.0|        0.0| 0.0|          0.0|                0.0|                         0.0|                        0.0|                               0.0|          0.0|                             0.0|                0.0|                       0.0|      0.0|     0.0|             0.0|     0.0|                        0|                            null|                           null|        0|     0|     0|  0|         0|       0|       0|     0|\n",
            "| 42|                      2.0|                    20.0|              null|   0.0|           0.0|                0.0|                    1.0|                            7.0| 1.0|        6.0| 1.0|          2.0|                1.0|                         0.0|                        0.0|                               1.0|          0.0|                             0.0|                0.0|                       0.0|      0.0|     0.0|             0.0|     0.0|                        0|                            null|                           null|        0|     0|     0|  0|         0|       0|       0|     0|\n",
            "| 40|                      2.0|                    27.0|              null|   0.0|           0.0|                0.0|                    0.0|                            0.0| 1.0|        1.0| 0.0|          0.0|                0.0|                         0.0|                        0.0|                               0.0|          0.0|                             0.0|                0.0|                       0.0|      0.0|     0.0|             0.0|     0.0|                        0|                            null|                           null|        0|     0|     0|  0|         0|       0|       0|     0|\n",
            "+---+-------------------------+------------------------+------------------+------+--------------+-------------------+-----------------------+-------------------------------+----+-----------+----+-------------+-------------------+----------------------------+---------------------------+----------------------------------+-------------+--------------------------------+-------------------+--------------------------+---------+--------+----------------+--------+-------------------------+--------------------------------+-------------------------------+---------+------+------+---+----------+--------+--------+------+\n",
            "only showing top 20 rows\n",
            "\n"
          ]
        }
      ]
    },
    {
      "cell_type": "code",
      "source": [
        "### Rename Columns\n",
        "dataframe1 = dataframe.select(['Age',\n",
        " 'Number of sexual partners',\n",
        " 'First sexual intercourse',\n",
        " 'Num of pregnancies',\n",
        " 'Smokes',\n",
        " 'Smokes (years)',\n",
        " 'Smokes (packs/year)',\n",
        " 'Hormonal Contraceptives',\n",
        " 'Hormonal Contraceptives (years)',\n",
        " 'IUD',\n",
        " 'IUD (years)',\n",
        " 'STDs',\n",
        " 'STDs (number)',\n",
        " 'STDs:condylomatosis',\n",
        " 'STDs:cervical condylomatosis',\n",
        " 'STDs:vaginal condylomatosis',\n",
        " 'STDs:vulvo-perineal condylomatosis',\n",
        " 'STDs:syphilis',\n",
        " 'STDs:pelvic inflammatory disease',\n",
        " 'STDs:genital herpes',\n",
        " 'STDs:molluscum contagiosum',\n",
        " 'STDs:AIDS',\n",
        " 'STDs:HIV',\n",
        " 'STDs:Hepatitis B',\n",
        " 'STDs:HPV',\n",
        " 'STDs: Number of diagnosis',\n",
        " 'STDs: Time since first diagnosis',\n",
        " 'STDs: Time since last diagnosis',\n",
        " 'Dx:Cancer',\n",
        " 'Dx:CIN',\n",
        " 'Dx:HPV',\n",
        " 'Dx',\n",
        " 'Hinselmann',\n",
        " 'Schiller',\n",
        " 'Citology',\n",
        " 'Biopsy'])\n",
        "renamed_df = dataframe1.withColumnRenamed(\"Age\", \"age\")\\\n",
        "      .withColumnRenamed(\"Number of sexual partners\", \"num_of_sexual_partners\")\\\n",
        "      .withColumnRenamed(\"First sexual intercourse\", \"first_sexual_intercourse\")\\\n",
        "      .withColumnRenamed(\"Num of pregnancies\", \"num_of_pregnancies\")\\\n",
        "      .withColumnRenamed(\"Smokes\", \"smokes\")\\\n",
        "      .withColumnRenamed(\"Smokes (years)\", \"smokes_years\")\\\n",
        "      .withColumnRenamed(\"Smokes (packs/year)\", \"smokes_packs_per_year\")\\\n",
        "      .withColumnRenamed(\"Hormonal Contraceptives\", \"hormonal_contraceptives\")\\\n",
        "      .withColumnRenamed(\"Hormonal Contraceptives (years)\", \"hormonal_contraceptives_years\")\\\n",
        "      .withColumnRenamed(\"IUD\", \"iud\")\\\n",
        "      .withColumnRenamed(\"IUD (years)\", \"iud_years\")\\\n",
        "      .withColumnRenamed(\"STDs\", \"stds\")\\\n",
        "      .withColumnRenamed(\"STDs (number)\", \"stds_number\")\\\n",
        "      .withColumnRenamed(\"STDs:condylomatosis\", \"stds_condylomatosis\")\\\n",
        "      .withColumnRenamed(\"STDs:cervical condylomatosis\", \"stds_cervical_condylomatosis\")\\\n",
        "      .withColumnRenamed(\"STDs:vaginal condylomatosis\", \"stds_vaginal_condylomatosis\")\\\n",
        "      .withColumnRenamed(\"STDs:vulvo-perineal condylomatosis\", \"stds_vulvo_perineal_condylomatosis\")\\\n",
        "      .withColumnRenamed(\"STDs:syphilis\", \"stds_syphilis\")\\\n",
        "      .withColumnRenamed(\"STDs:pelvic inflammatory disease\", \"stds_pelvic_inflamatory_disease\")\\\n",
        "      .withColumnRenamed(\"STDs:genital herpes\", \"stds_genital_herpes\")\\\n",
        "      .withColumnRenamed(\"STDs:molluscum contagiosum\", \"stds_molluscum_contagiosum\")\\\n",
        "      .withColumnRenamed(\"STDs:AIDS\", \"stds_aids\")\\\n",
        "      .withColumnRenamed(\"STDs:HIV\", \"stds_hiv\")\\\n",
        "      .withColumnRenamed(\"STDs:Hepatitis B\", \"stds_hepatitis_b\")\\\n",
        "      .withColumnRenamed(\"STDs:HPV\", \"stds_hpv\")\\\n",
        "      .withColumnRenamed(\"STDs: Number of diagnosis\", \"stds_num_of_diagnosis\")\\\n",
        "      .withColumnRenamed(\"STDs: Time since first diagnosis\", \"stds_time_since_first_diagnosis\")\\\n",
        "      .withColumnRenamed(\"STDs: Time since last diagnosis\", \"stds_times_since_last_diagnosis\")\\\n",
        "      .withColumnRenamed(\"Dx:Cancer\", \"dx_cancer\")\\\n",
        "      .withColumnRenamed(\"Dx:CIN\", \"dx_cin\")\\\n",
        "      .withColumnRenamed(\"Dx:HPV\", \"dx_hpv\")\\\n",
        "      .withColumnRenamed(\"Dx\", \"dx\")\\\n",
        "      .withColumnRenamed(\"Hinselmann\", \"hinselmann\")\\\n",
        "      .withColumnRenamed(\"Schiller\", \"schiller\")\\\n",
        "      .withColumnRenamed(\"Citology\", \"citology\")\\\n",
        "      .withColumnRenamed(\"Biopsy\", \"biopsy\")\n",
        "renamed_df.show()\n",
        "\n"
      ],
      "metadata": {
        "colab": {
          "base_uri": "https://localhost:8080/"
        },
        "id": "2n6F0hGlc2l5",
        "outputId": "e91a3acd-9381-420d-c0d5-45df57033052"
      },
      "execution_count": 16,
      "outputs": [
        {
          "output_type": "stream",
          "name": "stdout",
          "text": [
            "+---+----------------------+------------------------+------------------+------+------------+---------------------+-----------------------+-----------------------------+----+---------+----+-----------+-------------------+----------------------------+---------------------------+----------------------------------+-------------+-------------------------------+-------------------+--------------------------+---------+--------+----------------+--------+---------------------+-------------------------------+-------------------------------+---------+------+------+---+----------+--------+--------+------+\n",
            "|age|num_of_sexual_partners|first_sexual_intercourse|num_of_pregnancies|smokes|smokes_years|smokes_packs_per_year|hormonal_contraceptives|hormonal_contraceptives_years| iud|iud_years|stds|stds_number|stds_condylomatosis|stds_cervical_condylomatosis|stds_vaginal_condylomatosis|stds_vulvo_perineal_condylomatosis|stds_syphilis|stds_pelvic_inflamatory_disease|stds_genital_herpes|stds_molluscum_contagiosum|stds_aids|stds_hiv|stds_hepatitis_b|stds_hpv|stds_num_of_diagnosis|stds_time_since_first_diagnosis|stds_times_since_last_diagnosis|dx_cancer|dx_cin|dx_hpv| dx|hinselmann|schiller|citology|biopsy|\n",
            "+---+----------------------+------------------------+------------------+------+------------+---------------------+-----------------------+-----------------------------+----+---------+----+-----------+-------------------+----------------------------+---------------------------+----------------------------------+-------------+-------------------------------+-------------------+--------------------------+---------+--------+----------------+--------+---------------------+-------------------------------+-------------------------------+---------+------+------+---+----------+--------+--------+------+\n",
            "| 18|                   4.0|                    15.0|               1.0|   0.0|         0.0|                  0.0|                    0.0|                          0.0| 0.0|      0.0| 0.0|        0.0|                0.0|                         0.0|                        0.0|                               0.0|          0.0|                            0.0|                0.0|                       0.0|      0.0|     0.0|             0.0|     0.0|                    0|                           null|                           null|        0|     0|     0|  0|         0|       0|       0|     0|\n",
            "| 15|                   1.0|                    14.0|               1.0|   0.0|         0.0|                  0.0|                    0.0|                          0.0| 0.0|      0.0| 0.0|        0.0|                0.0|                         0.0|                        0.0|                               0.0|          0.0|                            0.0|                0.0|                       0.0|      0.0|     0.0|             0.0|     0.0|                    0|                           null|                           null|        0|     0|     0|  0|         0|       0|       0|     0|\n",
            "| 34|                   1.0|                    null|               1.0|   0.0|         0.0|                  0.0|                    0.0|                          0.0| 0.0|      0.0| 0.0|        0.0|                0.0|                         0.0|                        0.0|                               0.0|          0.0|                            0.0|                0.0|                       0.0|      0.0|     0.0|             0.0|     0.0|                    0|                           null|                           null|        0|     0|     0|  0|         0|       0|       0|     0|\n",
            "| 52|                   5.0|                    16.0|               4.0|   1.0|        37.0|                 37.0|                    1.0|                          3.0| 0.0|      0.0| 0.0|        0.0|                0.0|                         0.0|                        0.0|                               0.0|          0.0|                            0.0|                0.0|                       0.0|      0.0|     0.0|             0.0|     0.0|                    0|                           null|                           null|        1|     0|     1|  0|         0|       0|       0|     0|\n",
            "| 46|                   3.0|                    21.0|               4.0|   0.0|         0.0|                  0.0|                    1.0|                         15.0| 0.0|      0.0| 0.0|        0.0|                0.0|                         0.0|                        0.0|                               0.0|          0.0|                            0.0|                0.0|                       0.0|      0.0|     0.0|             0.0|     0.0|                    0|                           null|                           null|        0|     0|     0|  0|         0|       0|       0|     0|\n",
            "| 42|                   3.0|                    23.0|               2.0|   0.0|         0.0|                  0.0|                    0.0|                          0.0| 0.0|      0.0| 0.0|        0.0|                0.0|                         0.0|                        0.0|                               0.0|          0.0|                            0.0|                0.0|                       0.0|      0.0|     0.0|             0.0|     0.0|                    0|                           null|                           null|        0|     0|     0|  0|         0|       0|       0|     0|\n",
            "| 51|                   3.0|                    17.0|               6.0|   1.0|        34.0|                  3.4|                    0.0|                          0.0| 1.0|      7.0| 0.0|        0.0|                0.0|                         0.0|                        0.0|                               0.0|          0.0|                            0.0|                0.0|                       0.0|      0.0|     0.0|             0.0|     0.0|                    0|                           null|                           null|        0|     0|     0|  0|         1|       1|       0|     1|\n",
            "| 26|                   1.0|                    26.0|               3.0|   0.0|         0.0|                  0.0|                    1.0|                          2.0| 1.0|      7.0| 0.0|        0.0|                0.0|                         0.0|                        0.0|                               0.0|          0.0|                            0.0|                0.0|                       0.0|      0.0|     0.0|             0.0|     0.0|                    0|                           null|                           null|        0|     0|     0|  0|         0|       0|       0|     0|\n",
            "| 45|                   1.0|                    20.0|               5.0|   0.0|         0.0|                  0.0|                    0.0|                          0.0| 0.0|      0.0| 0.0|        0.0|                0.0|                         0.0|                        0.0|                               0.0|          0.0|                            0.0|                0.0|                       0.0|      0.0|     0.0|             0.0|     0.0|                    0|                           null|                           null|        1|     0|     1|  1|         0|       0|       0|     0|\n",
            "| 44|                   3.0|                    15.0|              null|   1.0|   1.2669729|                  2.8|                    0.0|                          0.0|null|     null| 0.0|        0.0|                0.0|                         0.0|                        0.0|                               0.0|          0.0|                            0.0|                0.0|                       0.0|      0.0|     0.0|             0.0|     0.0|                    0|                           null|                           null|        0|     0|     0|  0|         0|       0|       0|     0|\n",
            "| 44|                   3.0|                    26.0|               4.0|   0.0|         0.0|                  0.0|                    1.0|                          2.0| 0.0|      0.0| 0.0|        0.0|                0.0|                         0.0|                        0.0|                               0.0|          0.0|                            0.0|                0.0|                       0.0|      0.0|     0.0|             0.0|     0.0|                    0|                           null|                           null|        0|     0|     0|  0|         0|       0|       0|     0|\n",
            "| 27|                   1.0|                    17.0|               3.0|   0.0|         0.0|                  0.0|                    1.0|                          8.0| 0.0|      0.0| 0.0|        0.0|                0.0|                         0.0|                        0.0|                               0.0|          0.0|                            0.0|                0.0|                       0.0|      0.0|     0.0|             0.0|     0.0|                    0|                           null|                           null|        0|     0|     0|  0|         0|       0|       0|     0|\n",
            "| 45|                   4.0|                    14.0|               6.0|   0.0|         0.0|                  0.0|                    1.0|                         10.0| 1.0|      5.0| 0.0|        0.0|                0.0|                         0.0|                        0.0|                               0.0|          0.0|                            0.0|                0.0|                       0.0|      0.0|     0.0|             0.0|     0.0|                    0|                           null|                           null|        0|     0|     0|  0|         0|       0|       0|     0|\n",
            "| 44|                   2.0|                    25.0|               2.0|   0.0|         0.0|                  0.0|                    1.0|                          5.0| 0.0|      0.0| 0.0|        0.0|                0.0|                         0.0|                        0.0|                               0.0|          0.0|                            0.0|                0.0|                       0.0|      0.0|     0.0|             0.0|     0.0|                    0|                           null|                           null|        0|     0|     0|  0|         0|       0|       0|     0|\n",
            "| 43|                   2.0|                    18.0|               5.0|   0.0|         0.0|                  0.0|                    0.0|                          0.0| 1.0|      8.0| 0.0|        0.0|                0.0|                         0.0|                        0.0|                               0.0|          0.0|                            0.0|                0.0|                       0.0|      0.0|     0.0|             0.0|     0.0|                    0|                           null|                           null|        0|     0|     0|  0|         0|       0|       0|     0|\n",
            "| 40|                   3.0|                    18.0|               2.0|   0.0|         0.0|                  0.0|                    1.0|                         15.0| 0.0|      0.0| 0.0|        0.0|                0.0|                         0.0|                        0.0|                               0.0|          0.0|                            0.0|                0.0|                       0.0|      0.0|     0.0|             0.0|     0.0|                    0|                           null|                           null|        0|     0|     0|  0|         0|       0|       0|     0|\n",
            "| 41|                   4.0|                    21.0|               3.0|   0.0|         0.0|                  0.0|                    1.0|                         0.25| 0.0|      0.0| 0.0|        0.0|                0.0|                         0.0|                        0.0|                               0.0|          0.0|                            0.0|                0.0|                       0.0|      0.0|     0.0|             0.0|     0.0|                    0|                           null|                           null|        0|     0|     0|  0|         0|       0|       0|     0|\n",
            "| 43|                   3.0|                    15.0|               8.0|   0.0|         0.0|                  0.0|                    1.0|                          3.0| 0.0|      0.0| 0.0|        0.0|                0.0|                         0.0|                        0.0|                               0.0|          0.0|                            0.0|                0.0|                       0.0|      0.0|     0.0|             0.0|     0.0|                    0|                           null|                           null|        0|     0|     0|  0|         0|       0|       0|     0|\n",
            "| 42|                   2.0|                    20.0|              null|   0.0|         0.0|                  0.0|                    1.0|                          7.0| 1.0|      6.0| 1.0|        2.0|                1.0|                         0.0|                        0.0|                               1.0|          0.0|                            0.0|                0.0|                       0.0|      0.0|     0.0|             0.0|     0.0|                    0|                           null|                           null|        0|     0|     0|  0|         0|       0|       0|     0|\n",
            "| 40|                   2.0|                    27.0|              null|   0.0|         0.0|                  0.0|                    0.0|                          0.0| 1.0|      1.0| 0.0|        0.0|                0.0|                         0.0|                        0.0|                               0.0|          0.0|                            0.0|                0.0|                       0.0|      0.0|     0.0|             0.0|     0.0|                    0|                           null|                           null|        0|     0|     0|  0|         0|       0|       0|     0|\n",
            "+---+----------------------+------------------------+------------------+------+------------+---------------------+-----------------------+-----------------------------+----+---------+----+-----------+-------------------+----------------------------+---------------------------+----------------------------------+-------------+-------------------------------+-------------------+--------------------------+---------+--------+----------------+--------+---------------------+-------------------------------+-------------------------------+---------+------+------+---+----------+--------+--------+------+\n",
            "only showing top 20 rows\n",
            "\n"
          ]
        }
      ]
    },
    {
      "cell_type": "code",
      "source": [
        "renamed_df.columns"
      ],
      "metadata": {
        "colab": {
          "base_uri": "https://localhost:8080/"
        },
        "id": "6g-ecHcvl97B",
        "outputId": "2aa2dc64-a8c4-42c3-a7bc-fc227dc75ad1"
      },
      "execution_count": 17,
      "outputs": [
        {
          "output_type": "execute_result",
          "data": {
            "text/plain": [
              "['age',\n",
              " 'num_of_sexual_partners',\n",
              " 'first_sexual_intercourse',\n",
              " 'num_of_pregnancies',\n",
              " 'smokes',\n",
              " 'smokes_years',\n",
              " 'smokes_packs_per_year',\n",
              " 'hormonal_contraceptives',\n",
              " 'hormonal_contraceptives_years',\n",
              " 'iud',\n",
              " 'iud_years',\n",
              " 'stds',\n",
              " 'stds_number',\n",
              " 'stds_condylomatosis',\n",
              " 'stds_cervical_condylomatosis',\n",
              " 'stds_vaginal_condylomatosis',\n",
              " 'stds_vulvo_perineal_condylomatosis',\n",
              " 'stds_syphilis',\n",
              " 'stds_pelvic_inflamatory_disease',\n",
              " 'stds_genital_herpes',\n",
              " 'stds_molluscum_contagiosum',\n",
              " 'stds_aids',\n",
              " 'stds_hiv',\n",
              " 'stds_hepatitis_b',\n",
              " 'stds_hpv',\n",
              " 'stds_num_of_diagnosis',\n",
              " 'stds_time_since_first_diagnosis',\n",
              " 'stds_times_since_last_diagnosis',\n",
              " 'dx_cancer',\n",
              " 'dx_cin',\n",
              " 'dx_hpv',\n",
              " 'dx',\n",
              " 'hinselmann',\n",
              " 'schiller',\n",
              " 'citology',\n",
              " 'biopsy']"
            ]
          },
          "metadata": {},
          "execution_count": 17
        }
      ]
    },
    {
      "cell_type": "markdown",
      "source": [
        "# Configuration for RDS instance"
      ],
      "metadata": {
        "id": "oLm0UchJxFD6"
      }
    },
    {
      "cell_type": "code",
      "source": [
        "mode = \"append\"\n",
        "jdbc_url=\"jdbc:postgresql://database-1.c1lahiassvlb.us-west-1.rds.amazonaws.com:5432/cancer_risk_db\"\n",
        "config = {\"user\":\"postgres\", \"password\": \"<password>\", \"driver\":\"org.postgresql.Driver\"}"
      ],
      "metadata": {
        "id": "y_ySQsg8rqrL"
      },
      "execution_count": 20,
      "outputs": []
    },
    {
      "cell_type": "markdown",
      "source": [
        "# Write DataFrames to tables to AWS RDS"
      ],
      "metadata": {
        "id": "R-Yma_TQxYTp"
      }
    },
    {
      "cell_type": "code",
      "source": [
        "# Write review_id_df to table in RDS\n",
        "renamed_df.write.jdbc(url=jdbc_url, table='cancer_risk', mode=mode, properties=config)"
      ],
      "metadata": {
        "id": "uaFOlNGDrsfH"
      },
      "execution_count": 21,
      "outputs": []
    },
    {
      "cell_type": "markdown",
      "source": [
        "# Read table from AWS RDS"
      ],
      "metadata": {
        "id": "qKYCWDCOxiN6"
      }
    },
    {
      "cell_type": "code",
      "source": [
        "from pyspark.sql import SparkSession\n",
        "spark = SparkSession.builder.config('spark.driver.extraClassPath', '/path/to/postgresql.jar').getOrCreate()\n",
        "url = 'jdbc:postgresql://database-1.c1lahiassvlb.us-west-1.rds.amazonaws.com:5432/cancer_risk_db'\n",
        "properties = {'user': 'postgres', 'password': '<password>'}\n",
        "postgres_df = spark.read.jdbc(url=url, table='cancer_risk', properties=properties)\n",
        "postgres_df.show()"
      ],
      "metadata": {
        "colab": {
          "base_uri": "https://localhost:8080/"
        },
        "id": "j7A5nc9wui_F",
        "outputId": "fcee70c5-b768-4fef-cdf5-173a1080628f"
      },
      "execution_count": 23,
      "outputs": [
        {
          "output_type": "stream",
          "name": "stdout",
          "text": [
            "+---+----------------------+------------------------+------------------+------+------------------+---------------------+-----------------------+-----------------------------+----+---------+----+-----------+-------------------+----------------------------+---------------------------+----------------------------------+-------------+-------------------------------+-------------------+--------------------------+---------+--------+----------------+--------+---------------------+-------------------------------+-------------------------------+---------+------+------+---+----------+--------+--------+------+\n",
            "|age|num_of_sexual_partners|first_sexual_intercourse|num_of_pregnancies|smokes|      smokes_years|smokes_packs_per_year|hormonal_contraceptives|hormonal_contraceptives_years| iud|iud_years|stds|stds_number|stds_condylomatosis|stds_cervical_condylomatosis|stds_vaginal_condylomatosis|stds_vulvo_perineal_condylomatosis|stds_syphilis|stds_pelvic_inflamatory_disease|stds_genital_herpes|stds_molluscum_contagiosum|stds_aids|stds_hiv|stds_hepatitis_b|stds_hpv|stds_num_of_diagnosis|stds_time_since_first_diagnosis|stds_times_since_last_diagnosis|dx_cancer|dx_cin|dx_hpv| dx|hinselmann|schiller|citology|biopsy|\n",
            "+---+----------------------+------------------------+------------------+------+------------------+---------------------+-----------------------+-----------------------------+----+---------+----+-----------+-------------------+----------------------------+---------------------------+----------------------------------+-------------+-------------------------------+-------------------+--------------------------+---------+--------+----------------+--------+---------------------+-------------------------------+-------------------------------+---------+------+------+---+----------+--------+--------+------+\n",
            "| 18|                   4.0|                    15.0|               1.0|   0.0|               0.0|                  0.0|                    0.0|                          0.0| 0.0|      0.0| 0.0|        0.0|                0.0|                         0.0|                        0.0|                               0.0|          0.0|                            0.0|                0.0|                       0.0|      0.0|     0.0|             0.0|     0.0|                    0|                           null|                           null|        0|     0|     0|  0|         0|       0|       0|     0|\n",
            "| 15|                   1.0|                    14.0|               1.0|   0.0|               0.0|                  0.0|                    0.0|                          0.0| 0.0|      0.0| 0.0|        0.0|                0.0|                         0.0|                        0.0|                               0.0|          0.0|                            0.0|                0.0|                       0.0|      0.0|     0.0|             0.0|     0.0|                    0|                           null|                           null|        0|     0|     0|  0|         0|       0|       0|     0|\n",
            "| 34|                   1.0|                    null|               1.0|   0.0|               0.0|                  0.0|                    0.0|                          0.0| 0.0|      0.0| 0.0|        0.0|                0.0|                         0.0|                        0.0|                               0.0|          0.0|                            0.0|                0.0|                       0.0|      0.0|     0.0|             0.0|     0.0|                    0|                           null|                           null|        0|     0|     0|  0|         0|       0|       0|     0|\n",
            "| 52|                   5.0|                    16.0|               4.0|   1.0|              37.0|                 37.0|                    1.0|                          3.0| 0.0|      0.0| 0.0|        0.0|                0.0|                         0.0|                        0.0|                               0.0|          0.0|                            0.0|                0.0|                       0.0|      0.0|     0.0|             0.0|     0.0|                    0|                           null|                           null|        1|     0|     1|  0|         0|       0|       0|     0|\n",
            "| 46|                   3.0|                    21.0|               4.0|   0.0|               0.0|                  0.0|                    1.0|                         15.0| 0.0|      0.0| 0.0|        0.0|                0.0|                         0.0|                        0.0|                               0.0|          0.0|                            0.0|                0.0|                       0.0|      0.0|     0.0|             0.0|     0.0|                    0|                           null|                           null|        0|     0|     0|  0|         0|       0|       0|     0|\n",
            "| 42|                   3.0|                    23.0|               2.0|   0.0|               0.0|                  0.0|                    0.0|                          0.0| 0.0|      0.0| 0.0|        0.0|                0.0|                         0.0|                        0.0|                               0.0|          0.0|                            0.0|                0.0|                       0.0|      0.0|     0.0|             0.0|     0.0|                    0|                           null|                           null|        0|     0|     0|  0|         0|       0|       0|     0|\n",
            "| 51|                   3.0|                    17.0|               6.0|   1.0|              34.0|   3.4000000953674316|                    0.0|                          0.0| 1.0|      7.0| 0.0|        0.0|                0.0|                         0.0|                        0.0|                               0.0|          0.0|                            0.0|                0.0|                       0.0|      0.0|     0.0|             0.0|     0.0|                    0|                           null|                           null|        0|     0|     0|  0|         1|       1|       0|     1|\n",
            "| 26|                   1.0|                    26.0|               3.0|   0.0|               0.0|                  0.0|                    1.0|                          2.0| 1.0|      7.0| 0.0|        0.0|                0.0|                         0.0|                        0.0|                               0.0|          0.0|                            0.0|                0.0|                       0.0|      0.0|     0.0|             0.0|     0.0|                    0|                           null|                           null|        0|     0|     0|  0|         0|       0|       0|     0|\n",
            "| 45|                   1.0|                    20.0|               5.0|   0.0|               0.0|                  0.0|                    0.0|                          0.0| 0.0|      0.0| 0.0|        0.0|                0.0|                         0.0|                        0.0|                               0.0|          0.0|                            0.0|                0.0|                       0.0|      0.0|     0.0|             0.0|     0.0|                    0|                           null|                           null|        1|     0|     1|  1|         0|       0|       0|     0|\n",
            "| 44|                   3.0|                    15.0|              null|   1.0|1.2669728994369507|    2.799999952316284|                    0.0|                          0.0|null|     null| 0.0|        0.0|                0.0|                         0.0|                        0.0|                               0.0|          0.0|                            0.0|                0.0|                       0.0|      0.0|     0.0|             0.0|     0.0|                    0|                           null|                           null|        0|     0|     0|  0|         0|       0|       0|     0|\n",
            "| 44|                   3.0|                    26.0|               4.0|   0.0|               0.0|                  0.0|                    1.0|                          2.0| 0.0|      0.0| 0.0|        0.0|                0.0|                         0.0|                        0.0|                               0.0|          0.0|                            0.0|                0.0|                       0.0|      0.0|     0.0|             0.0|     0.0|                    0|                           null|                           null|        0|     0|     0|  0|         0|       0|       0|     0|\n",
            "| 27|                   1.0|                    17.0|               3.0|   0.0|               0.0|                  0.0|                    1.0|                          8.0| 0.0|      0.0| 0.0|        0.0|                0.0|                         0.0|                        0.0|                               0.0|          0.0|                            0.0|                0.0|                       0.0|      0.0|     0.0|             0.0|     0.0|                    0|                           null|                           null|        0|     0|     0|  0|         0|       0|       0|     0|\n",
            "| 45|                   4.0|                    14.0|               6.0|   0.0|               0.0|                  0.0|                    1.0|                         10.0| 1.0|      5.0| 0.0|        0.0|                0.0|                         0.0|                        0.0|                               0.0|          0.0|                            0.0|                0.0|                       0.0|      0.0|     0.0|             0.0|     0.0|                    0|                           null|                           null|        0|     0|     0|  0|         0|       0|       0|     0|\n",
            "| 44|                   2.0|                    25.0|               2.0|   0.0|               0.0|                  0.0|                    1.0|                          5.0| 0.0|      0.0| 0.0|        0.0|                0.0|                         0.0|                        0.0|                               0.0|          0.0|                            0.0|                0.0|                       0.0|      0.0|     0.0|             0.0|     0.0|                    0|                           null|                           null|        0|     0|     0|  0|         0|       0|       0|     0|\n",
            "| 43|                   2.0|                    18.0|               5.0|   0.0|               0.0|                  0.0|                    0.0|                          0.0| 1.0|      8.0| 0.0|        0.0|                0.0|                         0.0|                        0.0|                               0.0|          0.0|                            0.0|                0.0|                       0.0|      0.0|     0.0|             0.0|     0.0|                    0|                           null|                           null|        0|     0|     0|  0|         0|       0|       0|     0|\n",
            "| 40|                   3.0|                    18.0|               2.0|   0.0|               0.0|                  0.0|                    1.0|                         15.0| 0.0|      0.0| 0.0|        0.0|                0.0|                         0.0|                        0.0|                               0.0|          0.0|                            0.0|                0.0|                       0.0|      0.0|     0.0|             0.0|     0.0|                    0|                           null|                           null|        0|     0|     0|  0|         0|       0|       0|     0|\n",
            "| 41|                   4.0|                    21.0|               3.0|   0.0|               0.0|                  0.0|                    1.0|                         0.25| 0.0|      0.0| 0.0|        0.0|                0.0|                         0.0|                        0.0|                               0.0|          0.0|                            0.0|                0.0|                       0.0|      0.0|     0.0|             0.0|     0.0|                    0|                           null|                           null|        0|     0|     0|  0|         0|       0|       0|     0|\n",
            "| 43|                   3.0|                    15.0|               8.0|   0.0|               0.0|                  0.0|                    1.0|                          3.0| 0.0|      0.0| 0.0|        0.0|                0.0|                         0.0|                        0.0|                               0.0|          0.0|                            0.0|                0.0|                       0.0|      0.0|     0.0|             0.0|     0.0|                    0|                           null|                           null|        0|     0|     0|  0|         0|       0|       0|     0|\n",
            "| 42|                   2.0|                    20.0|              null|   0.0|               0.0|                  0.0|                    1.0|                          7.0| 1.0|      6.0| 1.0|        2.0|                1.0|                         0.0|                        0.0|                               1.0|          0.0|                            0.0|                0.0|                       0.0|      0.0|     0.0|             0.0|     0.0|                    0|                           null|                           null|        0|     0|     0|  0|         0|       0|       0|     0|\n",
            "| 40|                   2.0|                    27.0|              null|   0.0|               0.0|                  0.0|                    0.0|                          0.0| 1.0|      1.0| 0.0|        0.0|                0.0|                         0.0|                        0.0|                               0.0|          0.0|                            0.0|                0.0|                       0.0|      0.0|     0.0|             0.0|     0.0|                    0|                           null|                           null|        0|     0|     0|  0|         0|       0|       0|     0|\n",
            "+---+----------------------+------------------------+------------------+------+------------------+---------------------+-----------------------+-----------------------------+----+---------+----+-----------+-------------------+----------------------------+---------------------------+----------------------------------+-------------+-------------------------------+-------------------+--------------------------+---------+--------+----------------+--------+---------------------+-------------------------------+-------------------------------+---------+------+------+---+----------+--------+--------+------+\n",
            "only showing top 20 rows\n",
            "\n"
          ]
        }
      ]
    },
    {
      "cell_type": "markdown",
      "source": [
        "# Run Queries"
      ],
      "metadata": {
        "id": "FXmhctgXyqM_"
      }
    },
    {
      "cell_type": "code",
      "source": [
        "smokes_df = postgres_df.select([\"smokes\", \"smokes_years\", \"smokes_packs_per_year\"])\n",
        "smokes_df.show()"
      ],
      "metadata": {
        "colab": {
          "base_uri": "https://localhost:8080/"
        },
        "id": "q1LkRgHEvslD",
        "outputId": "c2460343-f0f0-43c4-e943-d78e02fa11d0"
      },
      "execution_count": 24,
      "outputs": [
        {
          "output_type": "stream",
          "name": "stdout",
          "text": [
            "+------+------------------+---------------------+\n",
            "|smokes|      smokes_years|smokes_packs_per_year|\n",
            "+------+------------------+---------------------+\n",
            "|   0.0|               0.0|                  0.0|\n",
            "|   0.0|               0.0|                  0.0|\n",
            "|   0.0|               0.0|                  0.0|\n",
            "|   1.0|              37.0|                 37.0|\n",
            "|   0.0|               0.0|                  0.0|\n",
            "|   0.0|               0.0|                  0.0|\n",
            "|   1.0|              34.0|   3.4000000953674316|\n",
            "|   0.0|               0.0|                  0.0|\n",
            "|   0.0|               0.0|                  0.0|\n",
            "|   1.0|1.2669728994369507|    2.799999952316284|\n",
            "|   0.0|               0.0|                  0.0|\n",
            "|   0.0|               0.0|                  0.0|\n",
            "|   0.0|               0.0|                  0.0|\n",
            "|   0.0|               0.0|                  0.0|\n",
            "|   0.0|               0.0|                  0.0|\n",
            "|   0.0|               0.0|                  0.0|\n",
            "|   0.0|               0.0|                  0.0|\n",
            "|   0.0|               0.0|                  0.0|\n",
            "|   0.0|               0.0|                  0.0|\n",
            "|   0.0|               0.0|                  0.0|\n",
            "+------+------------------+---------------------+\n",
            "only showing top 20 rows\n",
            "\n"
          ]
        }
      ]
    },
    {
      "cell_type": "code",
      "source": [
        "postgres_df.summary().show()"
      ],
      "metadata": {
        "colab": {
          "base_uri": "https://localhost:8080/"
        },
        "id": "K6GBnhnGyEW-",
        "outputId": "ace19813-2cb1-46ff-c99b-1b52fcc9edac"
      },
      "execution_count": 25,
      "outputs": [
        {
          "output_type": "stream",
          "name": "stdout",
          "text": [
            "+-------+-----------------+----------------------+------------------------+------------------+-------------------+------------------+---------------------+-----------------------+-----------------------------+-------------------+------------------+-------------------+-------------------+-------------------+----------------------------+---------------------------+----------------------------------+-------------------+-------------------------------+--------------------+--------------------------+---------+-------------------+--------------------+--------------------+---------------------+-------------------------------+-------------------------------+-------------------+-------------------+-------------------+--------------------+-------------------+-------------------+-------------------+------------------+\n",
            "|summary|              age|num_of_sexual_partners|first_sexual_intercourse|num_of_pregnancies|             smokes|      smokes_years|smokes_packs_per_year|hormonal_contraceptives|hormonal_contraceptives_years|                iud|         iud_years|               stds|        stds_number|stds_condylomatosis|stds_cervical_condylomatosis|stds_vaginal_condylomatosis|stds_vulvo_perineal_condylomatosis|      stds_syphilis|stds_pelvic_inflamatory_disease| stds_genital_herpes|stds_molluscum_contagiosum|stds_aids|           stds_hiv|    stds_hepatitis_b|            stds_hpv|stds_num_of_diagnosis|stds_time_since_first_diagnosis|stds_times_since_last_diagnosis|          dx_cancer|             dx_cin|             dx_hpv|                  dx|         hinselmann|           schiller|           citology|            biopsy|\n",
            "+-------+-----------------+----------------------+------------------------+------------------+-------------------+------------------+---------------------+-----------------------+-----------------------------+-------------------+------------------+-------------------+-------------------+-------------------+----------------------------+---------------------------+----------------------------------+-------------------+-------------------------------+--------------------+--------------------------+---------+-------------------+--------------------+--------------------+---------------------+-------------------------------+-------------------------------+-------------------+-------------------+-------------------+--------------------+-------------------+-------------------+-------------------+------------------+\n",
            "|  count|              858|                   832|                     851|               802|                845|               845|                  845|                    750|                          750|                741|               741|                753|                753|                753|                         753|                        753|                               753|                753|                            753|                 753|                       753|      753|                753|                 753|                 753|                  858|                             71|                             71|                858|                858|                858|                 858|                858|                858|                858|               858|\n",
            "|   mean|26.82051282051282|     2.527644230769231|      16.995299647473562| 2.275561097256858| 0.1455621301775148|1.2197214124118083|   0.4531439508662763|     0.6413333333333333|               2.256419201533|0.11201079622132254|0.5148043185070298| 0.1049136786188579|0.17662682602921648|0.05843293492695883|                         0.0|       0.005312084993359893|              0.057104913678618856|0.02390438247011952|           0.001328021248339...|0.001328021248339...|      0.001328021248339...|      0.0|0.02390438247011952|0.001328021248339...|0.002656042496679...|  0.08741258741258741|              6.140845070422535|              5.816901408450704|0.02097902097902098|0.01048951048951049|0.02097902097902098|0.027972027972027972|0.04079254079254079|0.08624708624708624|0.05128205128205128|0.0641025641025641|\n",
            "| stddev|8.497948065482596|     1.667760477183906|      2.8033553841969003|1.4474140691327386|0.35287555703640183|  4.08901693756213|    2.226609802278431|     0.4799291595848793|            3.764253529164916| 0.3155927582700102|1.9430885475382702|0.30664584575624276|   0.56199283535662|0.23471619027599683|                         0.0|          0.072738526001899|                0.2321972082083671|0.15285284048760808|            0.03644202585395018| 0.03644202585395019|      0.036442025853950184|      0.0|  0.152852840487608|0.036442025853950184|0.051502529309489134|   0.3025447418507475|              5.895023990373787|             5.7552705264824855|0.14339758611656575|0.10193915867747848|0.14339758611656583|  0.1649888484215437|0.19792464966613463|0.28089230136862575|0.22070109393249157|0.2450784147471605|\n",
            "|    min|               13|                   1.0|                    10.0|               0.0|                0.0|               0.0|                  0.0|                    0.0|                          0.0|                0.0|               0.0|                0.0|                0.0|                0.0|                         0.0|                        0.0|                               0.0|                0.0|                            0.0|                 0.0|                       0.0|      0.0|                0.0|                 0.0|                 0.0|                    0|                            1.0|                            1.0|                  0|                  0|                  0|                   0|                  0|                  0|                  0|                 0|\n",
            "|    25%|               20|                   2.0|                    15.0|               1.0|                0.0|               0.0|                  0.0|                    0.0|                          0.0|                0.0|               0.0|                0.0|                0.0|                0.0|                         0.0|                        0.0|                               0.0|                0.0|                            0.0|                 0.0|                       0.0|      0.0|                0.0|                 0.0|                 0.0|                    0|                            2.0|                            2.0|                  0|                  0|                  0|                   0|                  0|                  0|                  0|                 0|\n",
            "|    50%|               25|                   2.0|                    17.0|               2.0|                0.0|               0.0|                  0.0|                    1.0|                          0.5|                0.0|               0.0|                0.0|                0.0|                0.0|                         0.0|                        0.0|                               0.0|                0.0|                            0.0|                 0.0|                       0.0|      0.0|                0.0|                 0.0|                 0.0|                    0|                            4.0|                            3.0|                  0|                  0|                  0|                   0|                  0|                  0|                  0|                 0|\n",
            "|    75%|               32|                   3.0|                    18.0|               3.0|                0.0|               0.0|                  0.0|                    1.0|                          3.0|                0.0|               0.0|                0.0|                0.0|                0.0|                         0.0|                        0.0|                               0.0|                0.0|                            0.0|                 0.0|                       0.0|      0.0|                0.0|                 0.0|                 0.0|                    0|                            8.0|                            8.0|                  0|                  0|                  0|                   0|                  0|                  0|                  0|                 0|\n",
            "|    max|               84|                  28.0|                    32.0|              11.0|                1.0|              37.0|                 37.0|                    1.0|                         30.0|                1.0|              19.0|                1.0|                4.0|                1.0|                         0.0|                        1.0|                               1.0|                1.0|                            1.0|                 1.0|                       1.0|      0.0|                1.0|                 1.0|                 1.0|                    3|                           22.0|                           22.0|                  1|                  1|                  1|                   1|                  1|                  1|                  1|                 1|\n",
            "+-------+-----------------+----------------------+------------------------+------------------+-------------------+------------------+---------------------+-----------------------+-----------------------------+-------------------+------------------+-------------------+-------------------+-------------------+----------------------------+---------------------------+----------------------------------+-------------------+-------------------------------+--------------------+--------------------------+---------+-------------------+--------------------+--------------------+---------------------+-------------------------------+-------------------------------+-------------------+-------------------+-------------------+--------------------+-------------------+-------------------+-------------------+------------------+\n",
            "\n"
          ]
        }
      ]
    },
    {
      "cell_type": "markdown",
      "source": [
        "## Data Clean Up"
      ],
      "metadata": {
        "id": "T_IPGYHZlLop"
      }
    },
    {
      "cell_type": "code",
      "source": [
        "cancer_df= postgres_df.toPandas()\n"
      ],
      "metadata": {
        "id": "k0YdzXnu5eOE"
      },
      "execution_count": 26,
      "outputs": []
    },
    {
      "cell_type": "code",
      "source": [
        "cancer_df"
      ],
      "metadata": {
        "colab": {
          "base_uri": "https://localhost:8080/",
          "height": 487
        },
        "id": "P4uIIyZs5eLo",
        "outputId": "04ed2411-776e-4bd8-8b87-d0b114d8ed0a"
      },
      "execution_count": 27,
      "outputs": [
        {
          "output_type": "execute_result",
          "data": {
            "text/plain": [
              "     age  num_of_sexual_partners  first_sexual_intercourse  \\\n",
              "0     18                     4.0                      15.0   \n",
              "1     15                     1.0                      14.0   \n",
              "2     34                     1.0                       NaN   \n",
              "3     52                     5.0                      16.0   \n",
              "4     46                     3.0                      21.0   \n",
              "..   ...                     ...                       ...   \n",
              "853   34                     3.0                      18.0   \n",
              "854   32                     2.0                      19.0   \n",
              "855   25                     2.0                      17.0   \n",
              "856   33                     2.0                      24.0   \n",
              "857   29                     2.0                      20.0   \n",
              "\n",
              "     num_of_pregnancies  smokes  smokes_years  smokes_packs_per_year  \\\n",
              "0                   1.0     0.0           0.0                    0.0   \n",
              "1                   1.0     0.0           0.0                    0.0   \n",
              "2                   1.0     0.0           0.0                    0.0   \n",
              "3                   4.0     1.0          37.0                   37.0   \n",
              "4                   4.0     0.0           0.0                    0.0   \n",
              "..                  ...     ...           ...                    ...   \n",
              "853                 0.0     0.0           0.0                    0.0   \n",
              "854                 1.0     0.0           0.0                    0.0   \n",
              "855                 0.0     0.0           0.0                    0.0   \n",
              "856                 2.0     0.0           0.0                    0.0   \n",
              "857                 1.0     0.0           0.0                    0.0   \n",
              "\n",
              "     hormonal_contraceptives  hormonal_contraceptives_years  iud  ...  \\\n",
              "0                        0.0                           0.00  0.0  ...   \n",
              "1                        0.0                           0.00  0.0  ...   \n",
              "2                        0.0                           0.00  0.0  ...   \n",
              "3                        1.0                           3.00  0.0  ...   \n",
              "4                        1.0                          15.00  0.0  ...   \n",
              "..                       ...                            ...  ...  ...   \n",
              "853                      0.0                           0.00  0.0  ...   \n",
              "854                      1.0                           8.00  0.0  ...   \n",
              "855                      1.0                           0.08  0.0  ...   \n",
              "856                      1.0                           0.08  0.0  ...   \n",
              "857                      1.0                           0.50  0.0  ...   \n",
              "\n",
              "     stds_time_since_first_diagnosis  stds_times_since_last_diagnosis  \\\n",
              "0                                NaN                              NaN   \n",
              "1                                NaN                              NaN   \n",
              "2                                NaN                              NaN   \n",
              "3                                NaN                              NaN   \n",
              "4                                NaN                              NaN   \n",
              "..                               ...                              ...   \n",
              "853                              NaN                              NaN   \n",
              "854                              NaN                              NaN   \n",
              "855                              NaN                              NaN   \n",
              "856                              NaN                              NaN   \n",
              "857                              NaN                              NaN   \n",
              "\n",
              "     dx_cancer  dx_cin  dx_hpv  dx  hinselmann  schiller  citology  biopsy  \n",
              "0            0       0       0   0           0         0         0       0  \n",
              "1            0       0       0   0           0         0         0       0  \n",
              "2            0       0       0   0           0         0         0       0  \n",
              "3            1       0       1   0           0         0         0       0  \n",
              "4            0       0       0   0           0         0         0       0  \n",
              "..         ...     ...     ...  ..         ...       ...       ...     ...  \n",
              "853          0       0       0   0           0         0         0       0  \n",
              "854          0       0       0   0           0         0         0       0  \n",
              "855          0       0       0   0           0         0         1       0  \n",
              "856          0       0       0   0           0         0         0       0  \n",
              "857          0       0       0   0           0         0         0       0  \n",
              "\n",
              "[858 rows x 36 columns]"
            ],
            "text/html": [
              "\n",
              "  <div id=\"df-bfe2315d-d426-4cf5-988e-7997e8d7ef81\">\n",
              "    <div class=\"colab-df-container\">\n",
              "      <div>\n",
              "<style scoped>\n",
              "    .dataframe tbody tr th:only-of-type {\n",
              "        vertical-align: middle;\n",
              "    }\n",
              "\n",
              "    .dataframe tbody tr th {\n",
              "        vertical-align: top;\n",
              "    }\n",
              "\n",
              "    .dataframe thead th {\n",
              "        text-align: right;\n",
              "    }\n",
              "</style>\n",
              "<table border=\"1\" class=\"dataframe\">\n",
              "  <thead>\n",
              "    <tr style=\"text-align: right;\">\n",
              "      <th></th>\n",
              "      <th>age</th>\n",
              "      <th>num_of_sexual_partners</th>\n",
              "      <th>first_sexual_intercourse</th>\n",
              "      <th>num_of_pregnancies</th>\n",
              "      <th>smokes</th>\n",
              "      <th>smokes_years</th>\n",
              "      <th>smokes_packs_per_year</th>\n",
              "      <th>hormonal_contraceptives</th>\n",
              "      <th>hormonal_contraceptives_years</th>\n",
              "      <th>iud</th>\n",
              "      <th>...</th>\n",
              "      <th>stds_time_since_first_diagnosis</th>\n",
              "      <th>stds_times_since_last_diagnosis</th>\n",
              "      <th>dx_cancer</th>\n",
              "      <th>dx_cin</th>\n",
              "      <th>dx_hpv</th>\n",
              "      <th>dx</th>\n",
              "      <th>hinselmann</th>\n",
              "      <th>schiller</th>\n",
              "      <th>citology</th>\n",
              "      <th>biopsy</th>\n",
              "    </tr>\n",
              "  </thead>\n",
              "  <tbody>\n",
              "    <tr>\n",
              "      <th>0</th>\n",
              "      <td>18</td>\n",
              "      <td>4.0</td>\n",
              "      <td>15.0</td>\n",
              "      <td>1.0</td>\n",
              "      <td>0.0</td>\n",
              "      <td>0.0</td>\n",
              "      <td>0.0</td>\n",
              "      <td>0.0</td>\n",
              "      <td>0.00</td>\n",
              "      <td>0.0</td>\n",
              "      <td>...</td>\n",
              "      <td>NaN</td>\n",
              "      <td>NaN</td>\n",
              "      <td>0</td>\n",
              "      <td>0</td>\n",
              "      <td>0</td>\n",
              "      <td>0</td>\n",
              "      <td>0</td>\n",
              "      <td>0</td>\n",
              "      <td>0</td>\n",
              "      <td>0</td>\n",
              "    </tr>\n",
              "    <tr>\n",
              "      <th>1</th>\n",
              "      <td>15</td>\n",
              "      <td>1.0</td>\n",
              "      <td>14.0</td>\n",
              "      <td>1.0</td>\n",
              "      <td>0.0</td>\n",
              "      <td>0.0</td>\n",
              "      <td>0.0</td>\n",
              "      <td>0.0</td>\n",
              "      <td>0.00</td>\n",
              "      <td>0.0</td>\n",
              "      <td>...</td>\n",
              "      <td>NaN</td>\n",
              "      <td>NaN</td>\n",
              "      <td>0</td>\n",
              "      <td>0</td>\n",
              "      <td>0</td>\n",
              "      <td>0</td>\n",
              "      <td>0</td>\n",
              "      <td>0</td>\n",
              "      <td>0</td>\n",
              "      <td>0</td>\n",
              "    </tr>\n",
              "    <tr>\n",
              "      <th>2</th>\n",
              "      <td>34</td>\n",
              "      <td>1.0</td>\n",
              "      <td>NaN</td>\n",
              "      <td>1.0</td>\n",
              "      <td>0.0</td>\n",
              "      <td>0.0</td>\n",
              "      <td>0.0</td>\n",
              "      <td>0.0</td>\n",
              "      <td>0.00</td>\n",
              "      <td>0.0</td>\n",
              "      <td>...</td>\n",
              "      <td>NaN</td>\n",
              "      <td>NaN</td>\n",
              "      <td>0</td>\n",
              "      <td>0</td>\n",
              "      <td>0</td>\n",
              "      <td>0</td>\n",
              "      <td>0</td>\n",
              "      <td>0</td>\n",
              "      <td>0</td>\n",
              "      <td>0</td>\n",
              "    </tr>\n",
              "    <tr>\n",
              "      <th>3</th>\n",
              "      <td>52</td>\n",
              "      <td>5.0</td>\n",
              "      <td>16.0</td>\n",
              "      <td>4.0</td>\n",
              "      <td>1.0</td>\n",
              "      <td>37.0</td>\n",
              "      <td>37.0</td>\n",
              "      <td>1.0</td>\n",
              "      <td>3.00</td>\n",
              "      <td>0.0</td>\n",
              "      <td>...</td>\n",
              "      <td>NaN</td>\n",
              "      <td>NaN</td>\n",
              "      <td>1</td>\n",
              "      <td>0</td>\n",
              "      <td>1</td>\n",
              "      <td>0</td>\n",
              "      <td>0</td>\n",
              "      <td>0</td>\n",
              "      <td>0</td>\n",
              "      <td>0</td>\n",
              "    </tr>\n",
              "    <tr>\n",
              "      <th>4</th>\n",
              "      <td>46</td>\n",
              "      <td>3.0</td>\n",
              "      <td>21.0</td>\n",
              "      <td>4.0</td>\n",
              "      <td>0.0</td>\n",
              "      <td>0.0</td>\n",
              "      <td>0.0</td>\n",
              "      <td>1.0</td>\n",
              "      <td>15.00</td>\n",
              "      <td>0.0</td>\n",
              "      <td>...</td>\n",
              "      <td>NaN</td>\n",
              "      <td>NaN</td>\n",
              "      <td>0</td>\n",
              "      <td>0</td>\n",
              "      <td>0</td>\n",
              "      <td>0</td>\n",
              "      <td>0</td>\n",
              "      <td>0</td>\n",
              "      <td>0</td>\n",
              "      <td>0</td>\n",
              "    </tr>\n",
              "    <tr>\n",
              "      <th>...</th>\n",
              "      <td>...</td>\n",
              "      <td>...</td>\n",
              "      <td>...</td>\n",
              "      <td>...</td>\n",
              "      <td>...</td>\n",
              "      <td>...</td>\n",
              "      <td>...</td>\n",
              "      <td>...</td>\n",
              "      <td>...</td>\n",
              "      <td>...</td>\n",
              "      <td>...</td>\n",
              "      <td>...</td>\n",
              "      <td>...</td>\n",
              "      <td>...</td>\n",
              "      <td>...</td>\n",
              "      <td>...</td>\n",
              "      <td>...</td>\n",
              "      <td>...</td>\n",
              "      <td>...</td>\n",
              "      <td>...</td>\n",
              "      <td>...</td>\n",
              "    </tr>\n",
              "    <tr>\n",
              "      <th>853</th>\n",
              "      <td>34</td>\n",
              "      <td>3.0</td>\n",
              "      <td>18.0</td>\n",
              "      <td>0.0</td>\n",
              "      <td>0.0</td>\n",
              "      <td>0.0</td>\n",
              "      <td>0.0</td>\n",
              "      <td>0.0</td>\n",
              "      <td>0.00</td>\n",
              "      <td>0.0</td>\n",
              "      <td>...</td>\n",
              "      <td>NaN</td>\n",
              "      <td>NaN</td>\n",
              "      <td>0</td>\n",
              "      <td>0</td>\n",
              "      <td>0</td>\n",
              "      <td>0</td>\n",
              "      <td>0</td>\n",
              "      <td>0</td>\n",
              "      <td>0</td>\n",
              "      <td>0</td>\n",
              "    </tr>\n",
              "    <tr>\n",
              "      <th>854</th>\n",
              "      <td>32</td>\n",
              "      <td>2.0</td>\n",
              "      <td>19.0</td>\n",
              "      <td>1.0</td>\n",
              "      <td>0.0</td>\n",
              "      <td>0.0</td>\n",
              "      <td>0.0</td>\n",
              "      <td>1.0</td>\n",
              "      <td>8.00</td>\n",
              "      <td>0.0</td>\n",
              "      <td>...</td>\n",
              "      <td>NaN</td>\n",
              "      <td>NaN</td>\n",
              "      <td>0</td>\n",
              "      <td>0</td>\n",
              "      <td>0</td>\n",
              "      <td>0</td>\n",
              "      <td>0</td>\n",
              "      <td>0</td>\n",
              "      <td>0</td>\n",
              "      <td>0</td>\n",
              "    </tr>\n",
              "    <tr>\n",
              "      <th>855</th>\n",
              "      <td>25</td>\n",
              "      <td>2.0</td>\n",
              "      <td>17.0</td>\n",
              "      <td>0.0</td>\n",
              "      <td>0.0</td>\n",
              "      <td>0.0</td>\n",
              "      <td>0.0</td>\n",
              "      <td>1.0</td>\n",
              "      <td>0.08</td>\n",
              "      <td>0.0</td>\n",
              "      <td>...</td>\n",
              "      <td>NaN</td>\n",
              "      <td>NaN</td>\n",
              "      <td>0</td>\n",
              "      <td>0</td>\n",
              "      <td>0</td>\n",
              "      <td>0</td>\n",
              "      <td>0</td>\n",
              "      <td>0</td>\n",
              "      <td>1</td>\n",
              "      <td>0</td>\n",
              "    </tr>\n",
              "    <tr>\n",
              "      <th>856</th>\n",
              "      <td>33</td>\n",
              "      <td>2.0</td>\n",
              "      <td>24.0</td>\n",
              "      <td>2.0</td>\n",
              "      <td>0.0</td>\n",
              "      <td>0.0</td>\n",
              "      <td>0.0</td>\n",
              "      <td>1.0</td>\n",
              "      <td>0.08</td>\n",
              "      <td>0.0</td>\n",
              "      <td>...</td>\n",
              "      <td>NaN</td>\n",
              "      <td>NaN</td>\n",
              "      <td>0</td>\n",
              "      <td>0</td>\n",
              "      <td>0</td>\n",
              "      <td>0</td>\n",
              "      <td>0</td>\n",
              "      <td>0</td>\n",
              "      <td>0</td>\n",
              "      <td>0</td>\n",
              "    </tr>\n",
              "    <tr>\n",
              "      <th>857</th>\n",
              "      <td>29</td>\n",
              "      <td>2.0</td>\n",
              "      <td>20.0</td>\n",
              "      <td>1.0</td>\n",
              "      <td>0.0</td>\n",
              "      <td>0.0</td>\n",
              "      <td>0.0</td>\n",
              "      <td>1.0</td>\n",
              "      <td>0.50</td>\n",
              "      <td>0.0</td>\n",
              "      <td>...</td>\n",
              "      <td>NaN</td>\n",
              "      <td>NaN</td>\n",
              "      <td>0</td>\n",
              "      <td>0</td>\n",
              "      <td>0</td>\n",
              "      <td>0</td>\n",
              "      <td>0</td>\n",
              "      <td>0</td>\n",
              "      <td>0</td>\n",
              "      <td>0</td>\n",
              "    </tr>\n",
              "  </tbody>\n",
              "</table>\n",
              "<p>858 rows × 36 columns</p>\n",
              "</div>\n",
              "      <button class=\"colab-df-convert\" onclick=\"convertToInteractive('df-bfe2315d-d426-4cf5-988e-7997e8d7ef81')\"\n",
              "              title=\"Convert this dataframe to an interactive table.\"\n",
              "              style=\"display:none;\">\n",
              "        \n",
              "  <svg xmlns=\"http://www.w3.org/2000/svg\" height=\"24px\"viewBox=\"0 0 24 24\"\n",
              "       width=\"24px\">\n",
              "    <path d=\"M0 0h24v24H0V0z\" fill=\"none\"/>\n",
              "    <path d=\"M18.56 5.44l.94 2.06.94-2.06 2.06-.94-2.06-.94-.94-2.06-.94 2.06-2.06.94zm-11 1L8.5 8.5l.94-2.06 2.06-.94-2.06-.94L8.5 2.5l-.94 2.06-2.06.94zm10 10l.94 2.06.94-2.06 2.06-.94-2.06-.94-.94-2.06-.94 2.06-2.06.94z\"/><path d=\"M17.41 7.96l-1.37-1.37c-.4-.4-.92-.59-1.43-.59-.52 0-1.04.2-1.43.59L10.3 9.45l-7.72 7.72c-.78.78-.78 2.05 0 2.83L4 21.41c.39.39.9.59 1.41.59.51 0 1.02-.2 1.41-.59l7.78-7.78 2.81-2.81c.8-.78.8-2.07 0-2.86zM5.41 20L4 18.59l7.72-7.72 1.47 1.35L5.41 20z\"/>\n",
              "  </svg>\n",
              "      </button>\n",
              "      \n",
              "  <style>\n",
              "    .colab-df-container {\n",
              "      display:flex;\n",
              "      flex-wrap:wrap;\n",
              "      gap: 12px;\n",
              "    }\n",
              "\n",
              "    .colab-df-convert {\n",
              "      background-color: #E8F0FE;\n",
              "      border: none;\n",
              "      border-radius: 50%;\n",
              "      cursor: pointer;\n",
              "      display: none;\n",
              "      fill: #1967D2;\n",
              "      height: 32px;\n",
              "      padding: 0 0 0 0;\n",
              "      width: 32px;\n",
              "    }\n",
              "\n",
              "    .colab-df-convert:hover {\n",
              "      background-color: #E2EBFA;\n",
              "      box-shadow: 0px 1px 2px rgba(60, 64, 67, 0.3), 0px 1px 3px 1px rgba(60, 64, 67, 0.15);\n",
              "      fill: #174EA6;\n",
              "    }\n",
              "\n",
              "    [theme=dark] .colab-df-convert {\n",
              "      background-color: #3B4455;\n",
              "      fill: #D2E3FC;\n",
              "    }\n",
              "\n",
              "    [theme=dark] .colab-df-convert:hover {\n",
              "      background-color: #434B5C;\n",
              "      box-shadow: 0px 1px 3px 1px rgba(0, 0, 0, 0.15);\n",
              "      filter: drop-shadow(0px 1px 2px rgba(0, 0, 0, 0.3));\n",
              "      fill: #FFFFFF;\n",
              "    }\n",
              "  </style>\n",
              "\n",
              "      <script>\n",
              "        const buttonEl =\n",
              "          document.querySelector('#df-bfe2315d-d426-4cf5-988e-7997e8d7ef81 button.colab-df-convert');\n",
              "        buttonEl.style.display =\n",
              "          google.colab.kernel.accessAllowed ? 'block' : 'none';\n",
              "\n",
              "        async function convertToInteractive(key) {\n",
              "          const element = document.querySelector('#df-bfe2315d-d426-4cf5-988e-7997e8d7ef81');\n",
              "          const dataTable =\n",
              "            await google.colab.kernel.invokeFunction('convertToInteractive',\n",
              "                                                     [key], {});\n",
              "          if (!dataTable) return;\n",
              "\n",
              "          const docLinkHtml = 'Like what you see? Visit the ' +\n",
              "            '<a target=\"_blank\" href=https://colab.research.google.com/notebooks/data_table.ipynb>data table notebook</a>'\n",
              "            + ' to learn more about interactive tables.';\n",
              "          element.innerHTML = '';\n",
              "          dataTable['output_type'] = 'display_data';\n",
              "          await google.colab.output.renderOutput(dataTable, element);\n",
              "          const docLink = document.createElement('div');\n",
              "          docLink.innerHTML = docLinkHtml;\n",
              "          element.appendChild(docLink);\n",
              "        }\n",
              "      </script>\n",
              "    </div>\n",
              "  </div>\n",
              "  "
            ]
          },
          "metadata": {},
          "execution_count": 27
        }
      ]
    },
    {
      "cell_type": "code",
      "source": [
        "cancer_df.isnull().sum()"
      ],
      "metadata": {
        "colab": {
          "base_uri": "https://localhost:8080/"
        },
        "id": "HJXT1PBj--IL",
        "outputId": "8df7a094-2cdf-4399-c605-3b1150ae2682"
      },
      "execution_count": 28,
      "outputs": [
        {
          "output_type": "execute_result",
          "data": {
            "text/plain": [
              "age                                     0\n",
              "num_of_sexual_partners                 26\n",
              "first_sexual_intercourse                7\n",
              "num_of_pregnancies                     56\n",
              "smokes                                 13\n",
              "smokes_years                           13\n",
              "smokes_packs_per_year                  13\n",
              "hormonal_contraceptives               108\n",
              "hormonal_contraceptives_years         108\n",
              "iud                                   117\n",
              "iud_years                             117\n",
              "stds                                  105\n",
              "stds_number                           105\n",
              "stds_condylomatosis                   105\n",
              "stds_cervical_condylomatosis          105\n",
              "stds_vaginal_condylomatosis           105\n",
              "stds_vulvo_perineal_condylomatosis    105\n",
              "stds_syphilis                         105\n",
              "stds_pelvic_inflamatory_disease       105\n",
              "stds_genital_herpes                   105\n",
              "stds_molluscum_contagiosum            105\n",
              "stds_aids                             105\n",
              "stds_hiv                              105\n",
              "stds_hepatitis_b                      105\n",
              "stds_hpv                              105\n",
              "stds_num_of_diagnosis                   0\n",
              "stds_time_since_first_diagnosis       787\n",
              "stds_times_since_last_diagnosis       787\n",
              "dx_cancer                               0\n",
              "dx_cin                                  0\n",
              "dx_hpv                                  0\n",
              "dx                                      0\n",
              "hinselmann                              0\n",
              "schiller                                0\n",
              "citology                                0\n",
              "biopsy                                  0\n",
              "dtype: int64"
            ]
          },
          "metadata": {},
          "execution_count": 28
        }
      ]
    },
    {
      "cell_type": "code",
      "source": [
        "cancer_risk = cancer_df[[\"age\", \"num_of_sexual_partners\",\"smokes\", \"hormonal_contraceptives\", \"iud\",  \"stds\", \"dx_cancer\", \"dx_cin\", \"dx_hpv\", \"dx\", \"hinselmann\", \"schiller\", \"citology\", \"biopsy\"]]\n",
        "cancer_risk"
      ],
      "metadata": {
        "colab": {
          "base_uri": "https://localhost:8080/",
          "height": 423
        },
        "id": "u4c3CJCiGYD7",
        "outputId": "de1cb374-77ea-4443-d8c1-478f27d29b5a"
      },
      "execution_count": 29,
      "outputs": [
        {
          "output_type": "execute_result",
          "data": {
            "text/plain": [
              "     age  num_of_sexual_partners  smokes  hormonal_contraceptives  iud  stds  \\\n",
              "0     18                     4.0     0.0                      0.0  0.0   0.0   \n",
              "1     15                     1.0     0.0                      0.0  0.0   0.0   \n",
              "2     34                     1.0     0.0                      0.0  0.0   0.0   \n",
              "3     52                     5.0     1.0                      1.0  0.0   0.0   \n",
              "4     46                     3.0     0.0                      1.0  0.0   0.0   \n",
              "..   ...                     ...     ...                      ...  ...   ...   \n",
              "853   34                     3.0     0.0                      0.0  0.0   0.0   \n",
              "854   32                     2.0     0.0                      1.0  0.0   0.0   \n",
              "855   25                     2.0     0.0                      1.0  0.0   0.0   \n",
              "856   33                     2.0     0.0                      1.0  0.0   0.0   \n",
              "857   29                     2.0     0.0                      1.0  0.0   0.0   \n",
              "\n",
              "     dx_cancer  dx_cin  dx_hpv  dx  hinselmann  schiller  citology  biopsy  \n",
              "0            0       0       0   0           0         0         0       0  \n",
              "1            0       0       0   0           0         0         0       0  \n",
              "2            0       0       0   0           0         0         0       0  \n",
              "3            1       0       1   0           0         0         0       0  \n",
              "4            0       0       0   0           0         0         0       0  \n",
              "..         ...     ...     ...  ..         ...       ...       ...     ...  \n",
              "853          0       0       0   0           0         0         0       0  \n",
              "854          0       0       0   0           0         0         0       0  \n",
              "855          0       0       0   0           0         0         1       0  \n",
              "856          0       0       0   0           0         0         0       0  \n",
              "857          0       0       0   0           0         0         0       0  \n",
              "\n",
              "[858 rows x 14 columns]"
            ],
            "text/html": [
              "\n",
              "  <div id=\"df-6e48f1e2-066e-4373-8450-92cff66a7f64\">\n",
              "    <div class=\"colab-df-container\">\n",
              "      <div>\n",
              "<style scoped>\n",
              "    .dataframe tbody tr th:only-of-type {\n",
              "        vertical-align: middle;\n",
              "    }\n",
              "\n",
              "    .dataframe tbody tr th {\n",
              "        vertical-align: top;\n",
              "    }\n",
              "\n",
              "    .dataframe thead th {\n",
              "        text-align: right;\n",
              "    }\n",
              "</style>\n",
              "<table border=\"1\" class=\"dataframe\">\n",
              "  <thead>\n",
              "    <tr style=\"text-align: right;\">\n",
              "      <th></th>\n",
              "      <th>age</th>\n",
              "      <th>num_of_sexual_partners</th>\n",
              "      <th>smokes</th>\n",
              "      <th>hormonal_contraceptives</th>\n",
              "      <th>iud</th>\n",
              "      <th>stds</th>\n",
              "      <th>dx_cancer</th>\n",
              "      <th>dx_cin</th>\n",
              "      <th>dx_hpv</th>\n",
              "      <th>dx</th>\n",
              "      <th>hinselmann</th>\n",
              "      <th>schiller</th>\n",
              "      <th>citology</th>\n",
              "      <th>biopsy</th>\n",
              "    </tr>\n",
              "  </thead>\n",
              "  <tbody>\n",
              "    <tr>\n",
              "      <th>0</th>\n",
              "      <td>18</td>\n",
              "      <td>4.0</td>\n",
              "      <td>0.0</td>\n",
              "      <td>0.0</td>\n",
              "      <td>0.0</td>\n",
              "      <td>0.0</td>\n",
              "      <td>0</td>\n",
              "      <td>0</td>\n",
              "      <td>0</td>\n",
              "      <td>0</td>\n",
              "      <td>0</td>\n",
              "      <td>0</td>\n",
              "      <td>0</td>\n",
              "      <td>0</td>\n",
              "    </tr>\n",
              "    <tr>\n",
              "      <th>1</th>\n",
              "      <td>15</td>\n",
              "      <td>1.0</td>\n",
              "      <td>0.0</td>\n",
              "      <td>0.0</td>\n",
              "      <td>0.0</td>\n",
              "      <td>0.0</td>\n",
              "      <td>0</td>\n",
              "      <td>0</td>\n",
              "      <td>0</td>\n",
              "      <td>0</td>\n",
              "      <td>0</td>\n",
              "      <td>0</td>\n",
              "      <td>0</td>\n",
              "      <td>0</td>\n",
              "    </tr>\n",
              "    <tr>\n",
              "      <th>2</th>\n",
              "      <td>34</td>\n",
              "      <td>1.0</td>\n",
              "      <td>0.0</td>\n",
              "      <td>0.0</td>\n",
              "      <td>0.0</td>\n",
              "      <td>0.0</td>\n",
              "      <td>0</td>\n",
              "      <td>0</td>\n",
              "      <td>0</td>\n",
              "      <td>0</td>\n",
              "      <td>0</td>\n",
              "      <td>0</td>\n",
              "      <td>0</td>\n",
              "      <td>0</td>\n",
              "    </tr>\n",
              "    <tr>\n",
              "      <th>3</th>\n",
              "      <td>52</td>\n",
              "      <td>5.0</td>\n",
              "      <td>1.0</td>\n",
              "      <td>1.0</td>\n",
              "      <td>0.0</td>\n",
              "      <td>0.0</td>\n",
              "      <td>1</td>\n",
              "      <td>0</td>\n",
              "      <td>1</td>\n",
              "      <td>0</td>\n",
              "      <td>0</td>\n",
              "      <td>0</td>\n",
              "      <td>0</td>\n",
              "      <td>0</td>\n",
              "    </tr>\n",
              "    <tr>\n",
              "      <th>4</th>\n",
              "      <td>46</td>\n",
              "      <td>3.0</td>\n",
              "      <td>0.0</td>\n",
              "      <td>1.0</td>\n",
              "      <td>0.0</td>\n",
              "      <td>0.0</td>\n",
              "      <td>0</td>\n",
              "      <td>0</td>\n",
              "      <td>0</td>\n",
              "      <td>0</td>\n",
              "      <td>0</td>\n",
              "      <td>0</td>\n",
              "      <td>0</td>\n",
              "      <td>0</td>\n",
              "    </tr>\n",
              "    <tr>\n",
              "      <th>...</th>\n",
              "      <td>...</td>\n",
              "      <td>...</td>\n",
              "      <td>...</td>\n",
              "      <td>...</td>\n",
              "      <td>...</td>\n",
              "      <td>...</td>\n",
              "      <td>...</td>\n",
              "      <td>...</td>\n",
              "      <td>...</td>\n",
              "      <td>...</td>\n",
              "      <td>...</td>\n",
              "      <td>...</td>\n",
              "      <td>...</td>\n",
              "      <td>...</td>\n",
              "    </tr>\n",
              "    <tr>\n",
              "      <th>853</th>\n",
              "      <td>34</td>\n",
              "      <td>3.0</td>\n",
              "      <td>0.0</td>\n",
              "      <td>0.0</td>\n",
              "      <td>0.0</td>\n",
              "      <td>0.0</td>\n",
              "      <td>0</td>\n",
              "      <td>0</td>\n",
              "      <td>0</td>\n",
              "      <td>0</td>\n",
              "      <td>0</td>\n",
              "      <td>0</td>\n",
              "      <td>0</td>\n",
              "      <td>0</td>\n",
              "    </tr>\n",
              "    <tr>\n",
              "      <th>854</th>\n",
              "      <td>32</td>\n",
              "      <td>2.0</td>\n",
              "      <td>0.0</td>\n",
              "      <td>1.0</td>\n",
              "      <td>0.0</td>\n",
              "      <td>0.0</td>\n",
              "      <td>0</td>\n",
              "      <td>0</td>\n",
              "      <td>0</td>\n",
              "      <td>0</td>\n",
              "      <td>0</td>\n",
              "      <td>0</td>\n",
              "      <td>0</td>\n",
              "      <td>0</td>\n",
              "    </tr>\n",
              "    <tr>\n",
              "      <th>855</th>\n",
              "      <td>25</td>\n",
              "      <td>2.0</td>\n",
              "      <td>0.0</td>\n",
              "      <td>1.0</td>\n",
              "      <td>0.0</td>\n",
              "      <td>0.0</td>\n",
              "      <td>0</td>\n",
              "      <td>0</td>\n",
              "      <td>0</td>\n",
              "      <td>0</td>\n",
              "      <td>0</td>\n",
              "      <td>0</td>\n",
              "      <td>1</td>\n",
              "      <td>0</td>\n",
              "    </tr>\n",
              "    <tr>\n",
              "      <th>856</th>\n",
              "      <td>33</td>\n",
              "      <td>2.0</td>\n",
              "      <td>0.0</td>\n",
              "      <td>1.0</td>\n",
              "      <td>0.0</td>\n",
              "      <td>0.0</td>\n",
              "      <td>0</td>\n",
              "      <td>0</td>\n",
              "      <td>0</td>\n",
              "      <td>0</td>\n",
              "      <td>0</td>\n",
              "      <td>0</td>\n",
              "      <td>0</td>\n",
              "      <td>0</td>\n",
              "    </tr>\n",
              "    <tr>\n",
              "      <th>857</th>\n",
              "      <td>29</td>\n",
              "      <td>2.0</td>\n",
              "      <td>0.0</td>\n",
              "      <td>1.0</td>\n",
              "      <td>0.0</td>\n",
              "      <td>0.0</td>\n",
              "      <td>0</td>\n",
              "      <td>0</td>\n",
              "      <td>0</td>\n",
              "      <td>0</td>\n",
              "      <td>0</td>\n",
              "      <td>0</td>\n",
              "      <td>0</td>\n",
              "      <td>0</td>\n",
              "    </tr>\n",
              "  </tbody>\n",
              "</table>\n",
              "<p>858 rows × 14 columns</p>\n",
              "</div>\n",
              "      <button class=\"colab-df-convert\" onclick=\"convertToInteractive('df-6e48f1e2-066e-4373-8450-92cff66a7f64')\"\n",
              "              title=\"Convert this dataframe to an interactive table.\"\n",
              "              style=\"display:none;\">\n",
              "        \n",
              "  <svg xmlns=\"http://www.w3.org/2000/svg\" height=\"24px\"viewBox=\"0 0 24 24\"\n",
              "       width=\"24px\">\n",
              "    <path d=\"M0 0h24v24H0V0z\" fill=\"none\"/>\n",
              "    <path d=\"M18.56 5.44l.94 2.06.94-2.06 2.06-.94-2.06-.94-.94-2.06-.94 2.06-2.06.94zm-11 1L8.5 8.5l.94-2.06 2.06-.94-2.06-.94L8.5 2.5l-.94 2.06-2.06.94zm10 10l.94 2.06.94-2.06 2.06-.94-2.06-.94-.94-2.06-.94 2.06-2.06.94z\"/><path d=\"M17.41 7.96l-1.37-1.37c-.4-.4-.92-.59-1.43-.59-.52 0-1.04.2-1.43.59L10.3 9.45l-7.72 7.72c-.78.78-.78 2.05 0 2.83L4 21.41c.39.39.9.59 1.41.59.51 0 1.02-.2 1.41-.59l7.78-7.78 2.81-2.81c.8-.78.8-2.07 0-2.86zM5.41 20L4 18.59l7.72-7.72 1.47 1.35L5.41 20z\"/>\n",
              "  </svg>\n",
              "      </button>\n",
              "      \n",
              "  <style>\n",
              "    .colab-df-container {\n",
              "      display:flex;\n",
              "      flex-wrap:wrap;\n",
              "      gap: 12px;\n",
              "    }\n",
              "\n",
              "    .colab-df-convert {\n",
              "      background-color: #E8F0FE;\n",
              "      border: none;\n",
              "      border-radius: 50%;\n",
              "      cursor: pointer;\n",
              "      display: none;\n",
              "      fill: #1967D2;\n",
              "      height: 32px;\n",
              "      padding: 0 0 0 0;\n",
              "      width: 32px;\n",
              "    }\n",
              "\n",
              "    .colab-df-convert:hover {\n",
              "      background-color: #E2EBFA;\n",
              "      box-shadow: 0px 1px 2px rgba(60, 64, 67, 0.3), 0px 1px 3px 1px rgba(60, 64, 67, 0.15);\n",
              "      fill: #174EA6;\n",
              "    }\n",
              "\n",
              "    [theme=dark] .colab-df-convert {\n",
              "      background-color: #3B4455;\n",
              "      fill: #D2E3FC;\n",
              "    }\n",
              "\n",
              "    [theme=dark] .colab-df-convert:hover {\n",
              "      background-color: #434B5C;\n",
              "      box-shadow: 0px 1px 3px 1px rgba(0, 0, 0, 0.15);\n",
              "      filter: drop-shadow(0px 1px 2px rgba(0, 0, 0, 0.3));\n",
              "      fill: #FFFFFF;\n",
              "    }\n",
              "  </style>\n",
              "\n",
              "      <script>\n",
              "        const buttonEl =\n",
              "          document.querySelector('#df-6e48f1e2-066e-4373-8450-92cff66a7f64 button.colab-df-convert');\n",
              "        buttonEl.style.display =\n",
              "          google.colab.kernel.accessAllowed ? 'block' : 'none';\n",
              "\n",
              "        async function convertToInteractive(key) {\n",
              "          const element = document.querySelector('#df-6e48f1e2-066e-4373-8450-92cff66a7f64');\n",
              "          const dataTable =\n",
              "            await google.colab.kernel.invokeFunction('convertToInteractive',\n",
              "                                                     [key], {});\n",
              "          if (!dataTable) return;\n",
              "\n",
              "          const docLinkHtml = 'Like what you see? Visit the ' +\n",
              "            '<a target=\"_blank\" href=https://colab.research.google.com/notebooks/data_table.ipynb>data table notebook</a>'\n",
              "            + ' to learn more about interactive tables.';\n",
              "          element.innerHTML = '';\n",
              "          dataTable['output_type'] = 'display_data';\n",
              "          await google.colab.output.renderOutput(dataTable, element);\n",
              "          const docLink = document.createElement('div');\n",
              "          docLink.innerHTML = docLinkHtml;\n",
              "          element.appendChild(docLink);\n",
              "        }\n",
              "      </script>\n",
              "    </div>\n",
              "  </div>\n",
              "  "
            ]
          },
          "metadata": {},
          "execution_count": 29
        }
      ]
    },
    {
      "cell_type": "code",
      "source": [
        "final_df = cancer_risk.dropna()\n",
        "final_df.count()"
      ],
      "metadata": {
        "colab": {
          "base_uri": "https://localhost:8080/"
        },
        "id": "dVbWXotOGX2w",
        "outputId": "10d2d132-5c3b-409b-d536-cee1ee5ca893"
      },
      "execution_count": 30,
      "outputs": [
        {
          "output_type": "execute_result",
          "data": {
            "text/plain": [
              "age                        712\n",
              "num_of_sexual_partners     712\n",
              "smokes                     712\n",
              "hormonal_contraceptives    712\n",
              "iud                        712\n",
              "stds                       712\n",
              "dx_cancer                  712\n",
              "dx_cin                     712\n",
              "dx_hpv                     712\n",
              "dx                         712\n",
              "hinselmann                 712\n",
              "schiller                   712\n",
              "citology                   712\n",
              "biopsy                     712\n",
              "dtype: int64"
            ]
          },
          "metadata": {},
          "execution_count": 30
        }
      ]
    },
    {
      "cell_type": "markdown",
      "source": [
        "# Logistical Regression "
      ],
      "metadata": {
        "id": "PZwmUOctlrym"
      }
    },
    {
      "cell_type": "code",
      "source": [
        "import numpy as np\n",
        "import pandas as pd\n",
        "from pathlib import Path\n",
        "from sklearn.model_selection import train_test_split\n",
        "from sklearn.ensemble import RandomForestClassifier\n",
        "from sklearn.preprocessing import StandardScaler"
      ],
      "metadata": {
        "id": "WwHHohXC3b0n"
      },
      "execution_count": 31,
      "outputs": []
    },
    {
      "cell_type": "code",
      "source": [
        "# Set X and Y Values\n",
        "y = final_df[\"biopsy\"].values\n",
        "X = final_df.drop(\"biopsy\", axis=1)"
      ],
      "metadata": {
        "id": "kSHVC49q12r3"
      },
      "execution_count": 32,
      "outputs": []
    },
    {
      "cell_type": "code",
      "source": [
        "# Split Data Into Training and Testing Sets\n",
        "X_train, X_test, y_train, y_test = train_test_split(X, y, random_state=1)"
      ],
      "metadata": {
        "id": "hGvNPJIh12pN"
      },
      "execution_count": 33,
      "outputs": []
    },
    {
      "cell_type": "code",
      "source": [
        "# Scale Data\n",
        "scaler = StandardScaler().fit(X_train)\n",
        "X_train_scaled = scaler.transform(X_train)\n",
        "X_test_scaled = scaler.transform(X_test)"
      ],
      "metadata": {
        "id": "6_Gxijn412mq"
      },
      "execution_count": 34,
      "outputs": []
    },
    {
      "cell_type": "code",
      "source": [
        "# Fit Logisitical Regression Model\n",
        "from sklearn.linear_model import LogisticRegression\n",
        "classifier = LogisticRegression(max_iter=10000)\n",
        "classifier.fit(X_train, y_train)\n",
        "#R2 Score\n",
        "print(f\"Training Data Score: {classifier.score(X_train_scaled, y_train)}\")\n",
        "print(f\"Testing Data Score: {classifier.score(X_test_scaled, y_test)}\")"
      ],
      "metadata": {
        "colab": {
          "base_uri": "https://localhost:8080/"
        },
        "id": "fnRs8mU812kK",
        "outputId": "c87b858f-6a19-4c1d-c59b-e7f32f9c162d"
      },
      "execution_count": 35,
      "outputs": [
        {
          "output_type": "stream",
          "name": "stdout",
          "text": [
            "Training Data Score: 0.9382022471910112\n",
            "Testing Data Score: 0.9831460674157303\n"
          ]
        },
        {
          "output_type": "stream",
          "name": "stderr",
          "text": [
            "/usr/local/lib/python3.7/dist-packages/sklearn/base.py:451: UserWarning: X does not have valid feature names, but LogisticRegression was fitted with feature names\n",
            "  \"X does not have valid feature names, but\"\n",
            "/usr/local/lib/python3.7/dist-packages/sklearn/base.py:451: UserWarning: X does not have valid feature names, but LogisticRegression was fitted with feature names\n",
            "  \"X does not have valid feature names, but\"\n"
          ]
        }
      ]
    },
    {
      "cell_type": "markdown",
      "source": [
        "###Hyperparameter Tuning Logic"
      ],
      "metadata": {
        "id": "VxkmDZxV-9uV"
      }
    },
    {
      "cell_type": "markdown",
      "source": [
        "Default Solver is ‘lbfgs’; optimal for handling multinomial loss. \n",
        "Default Penalty Term is L2; ridge regression works well here to avoid over-fitting.\n"
      ],
      "metadata": {
        "id": "8PdKNhwh_EBj"
      }
    },
    {
      "cell_type": "markdown",
      "source": [
        "###Confusion Matrix"
      ],
      "metadata": {
        "id": "HA6eo4JhmZgN"
      }
    },
    {
      "cell_type": "code",
      "source": [
        "from sklearn.metrics import confusion_matrix, classification_report\n",
        "y_true = y_test\n",
        "y_pred = classifier.predict(X_test_scaled)\n",
        "cm = confusion_matrix(y_true, y_pred)\n",
        "cm"
      ],
      "metadata": {
        "colab": {
          "base_uri": "https://localhost:8080/"
        },
        "id": "nzLQ9KEdM0L0",
        "outputId": "6cb3f554-9411-4631-a3c4-461619da82a0"
      },
      "execution_count": 36,
      "outputs": [
        {
          "output_type": "stream",
          "name": "stderr",
          "text": [
            "/usr/local/lib/python3.7/dist-packages/sklearn/base.py:451: UserWarning: X does not have valid feature names, but LogisticRegression was fitted with feature names\n",
            "  \"X does not have valid feature names, but\"\n"
          ]
        },
        {
          "output_type": "execute_result",
          "data": {
            "text/plain": [
              "array([[162,   3],\n",
              "       [  0,  13]])"
            ]
          },
          "metadata": {},
          "execution_count": 36
        }
      ]
    },
    {
      "cell_type": "code",
      "source": [
        "tn, fp, fn, tp = cm.ravel()"
      ],
      "metadata": {
        "id": "C-9SlTMRM0DY"
      },
      "execution_count": 37,
      "outputs": []
    },
    {
      "cell_type": "code",
      "source": [
        "# Precision of the model based on the confusion matrix\n",
        "precision = tp / (tp + fp)\n",
        "precision"
      ],
      "metadata": {
        "colab": {
          "base_uri": "https://localhost:8080/"
        },
        "id": "prCBpoA-M0An",
        "outputId": "12bf7dc6-732e-4e59-c7e5-7cf74a0f7f24"
      },
      "execution_count": 38,
      "outputs": [
        {
          "output_type": "execute_result",
          "data": {
            "text/plain": [
              "0.8125"
            ]
          },
          "metadata": {},
          "execution_count": 38
        }
      ]
    },
    {
      "cell_type": "code",
      "source": [
        "# Sensitivity of the model based on the confusion matrix\n",
        "sensitivity = tp / (tp + fn)\n",
        "sensitivity"
      ],
      "metadata": {
        "colab": {
          "base_uri": "https://localhost:8080/"
        },
        "id": "8yqxjTyaMz-A",
        "outputId": "bb52024a-8114-4606-aa99-bd6f19554a22"
      },
      "execution_count": 39,
      "outputs": [
        {
          "output_type": "execute_result",
          "data": {
            "text/plain": [
              "1.0"
            ]
          },
          "metadata": {},
          "execution_count": 39
        }
      ]
    },
    {
      "cell_type": "code",
      "source": [
        "f1 = 2*precision*sensitivity / (precision + sensitivity)\n",
        "f1"
      ],
      "metadata": {
        "colab": {
          "base_uri": "https://localhost:8080/"
        },
        "id": "C8ZP5nR4Qdaw",
        "outputId": "3de7748c-b687-42b4-fd3f-d7e0cdf2e9f1"
      },
      "execution_count": 40,
      "outputs": [
        {
          "output_type": "execute_result",
          "data": {
            "text/plain": [
              "0.896551724137931"
            ]
          },
          "metadata": {},
          "execution_count": 40
        }
      ]
    },
    {
      "cell_type": "code",
      "source": [
        "# Accuracy of the model based on the confusion matrix\n",
        "accuracy=(tp+tn)/(tp+tn+fp+fn)\n",
        "accuracy"
      ],
      "metadata": {
        "colab": {
          "base_uri": "https://localhost:8080/"
        },
        "id": "CWq320t9QdRq",
        "outputId": "af6a6694-3c5d-4543-db6d-93cf3c7194e7"
      },
      "execution_count": 41,
      "outputs": [
        {
          "output_type": "execute_result",
          "data": {
            "text/plain": [
              "0.9831460674157303"
            ]
          },
          "metadata": {},
          "execution_count": 41
        }
      ]
    },
    {
      "cell_type": "code",
      "source": [
        "print(classification_report(y_true, y_pred))"
      ],
      "metadata": {
        "colab": {
          "base_uri": "https://localhost:8080/"
        },
        "id": "me_thQIbQjnq",
        "outputId": "62d93645-e32a-43c0-c03c-3b31ccbcce72"
      },
      "execution_count": 42,
      "outputs": [
        {
          "output_type": "stream",
          "name": "stdout",
          "text": [
            "              precision    recall  f1-score   support\n",
            "\n",
            "           0       1.00      0.98      0.99       165\n",
            "           1       0.81      1.00      0.90        13\n",
            "\n",
            "    accuracy                           0.98       178\n",
            "   macro avg       0.91      0.99      0.94       178\n",
            "weighted avg       0.99      0.98      0.98       178\n",
            "\n"
          ]
        }
      ]
    }
  ],
  "metadata": {
    "colab": {
      "provenance": [],
      "collapsed_sections": []
    },
    "kernelspec": {
      "display_name": "Python 3",
      "name": "python3"
    },
    "language_info": {
      "name": "python"
    }
  },
  "nbformat": 4,
  "nbformat_minor": 0
}